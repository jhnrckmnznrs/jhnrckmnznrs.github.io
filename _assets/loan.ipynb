{
 "cells": [
  {
   "cell_type": "markdown",
   "id": "binary-scratch",
   "metadata": {
    "tags": []
   },
   "source": [
    "# Machine Learning for Loan Approval: A Balancing Act Between Accuracy and Fairness"
   ]
  },
  {
   "cell_type": "markdown",
   "id": "42786156-e63e-4db0-9051-12e6d96ec608",
   "metadata": {},
   "source": [
    "## Background\n",
    "\n",
    "A start-up company wants to automate loan approvals by building a classifier to predict whether a loan will be paid back. In this situation, it is more important to accurately predict whether a loan will not be paid back rather than if a loan is paid back. Your manager will want to know how you accounted for this in training and evaluation your model."
   ]
  },
  {
   "cell_type": "markdown",
   "id": "8d25ded9-5afa-4f30-8fd6-e3ade18055c0",
   "metadata": {},
   "source": [
    "## Objective\n",
    "\n",
    "As a machine learning scientist, we need to build the classifier and prepare a report accessible to a broad audience. "
   ]
  },
  {
   "cell_type": "markdown",
   "id": "12e777f4-ed34-4b8b-b123-0381a5b7446e",
   "metadata": {},
   "source": [
    "## Executive Summary\n",
    "\n",
    "To determine whether a loan will be paid back, we analyze the important features of a borrower, such as the credit score, the number of public derogatory records, and others. In this scenario, we provide a machine learning model for the classification. The report is divided into the following sections:\n",
    "1. Introduction: Overview of loan repayment and factors affecting the failure of non-repayment.\n",
    "2. Data Preprocessing: Detailed explanation on data cleaning.\n",
    "3. Feature Engineering: Extract or select features to train in the classifier.\n",
    "4. Classifier: Model to classify loan repayments."
   ]
  },
  {
   "cell_type": "markdown",
   "id": "fe92a23e-328f-4dd5-aa12-6d32f9138f45",
   "metadata": {},
   "source": [
    "## Introduction\n",
    "\n",
    "The repayment rate of loans is influenced by a variety of factors, including the borrower's creditworthiness, the type of loan, and the economic climate. Studies found that borrowers with higher credit scores are more likely to repay their loans on time and in full. Furthermorele, student loans are typically repaid at a lower rate than other types of loans, such as personal loans or auto loansLastinally, the economic climate can also affect the loan repayment rate. During economic downturns, borrowers may be more likely to default on their loans due to job loss or other financial difficult of defaults."
   ]
  },
  {
   "cell_type": "markdown",
   "id": "4a1e2e9f",
   "metadata": {},
   "source": [
    "## Data Preprocessing\n",
    "\n",
    "The dataset contains information mainly about the borrower, such as the credit score and the status of payment. For a complete list of features, observe the following table.\n",
    "\n",
    "|    | Variable          | Description                                                                                                             |\n",
    "|---:|:------------------|:------------------------------------------------------------------------------------------------------------------------|\n",
    "|  0 | credit_policy     | 1 if the customer meets the credit underwriting criteria; 0 otherwise.                                                  |\n",
    "|  1 | purpose           | The purpose of the loan.                                                                                                |\n",
    "|  2 | int_rate          | The interest rate of the loan (more risky borrowers are assigned higher interest rates).                                |\n",
    "|  3 | installment       | The monthly installments owed by the borrower if the loan is funded.                                                    |\n",
    "|  4 | log_annual_inc    | The natural log of the self-reported annual income of the borrower.                                                     |\n",
    "|  5 | dti               | The debt-to-income ratio of the borrower (amount of debt divided by annual income).                                     |\n",
    "|  6 | fico              | The FICO credit score of the borrower.                                                                                  |\n",
    "|  7 | days_with_cr_line | The number of days the borrower has had a credit line.                                                                  |\n",
    "|  8 | revol_bal         | The borrower's revolving balance (amount unpaid at the end of the credit card billing cycle).                           |\n",
    "|  9 | revol_util        | The borrower's revolving line utilization rate (the amount of the credit line used relative to total credit available). |\n",
    "| 10 | inq_last_6mths    | The borrower's number of inquiries by creditors in the last 6 months.                                                   |\n",
    "| 11 | delinq_2yrs       | The number of times the borrower had been 30+ days past due on a payment in the past 2 years.                           |\n",
    "| 12 | pub_rec           | The borrower's number of derogatory public records.                                                                     |\n",
    "| 13 | not_fully_paid    | 1 if the loan is not fully paid; 0 otherwise.   \n",
    "\n",
    "[Source](https://www.kaggle.com/itssuru/loan-data) of dataset."
   ]
  },
  {
   "cell_type": "code",
   "execution_count": 23,
   "id": "global-crazy",
   "metadata": {
    "executionCancelledAt": null,
    "executionTime": 145,
    "lastExecutedAt": 1695786290220,
    "lastScheduledRunId": null,
    "lastSuccessfullyExecutedCode": "import pandas as pd\n\nloan = pd.read_csv(\"loan_data.csv\")",
    "outputsMetadata": {
     "0": {
      "height": 1,
      "type": "dataFrame"
     }
    }
   },
   "outputs": [],
   "source": [
    "import pandas as pd\n",
    "\n",
    "loan = pd.read_csv(\"loan_data.csv\")"
   ]
  },
  {
   "cell_type": "markdown",
   "id": "ad0f8116-8501-4b4d-840b-28ac026040e9",
   "metadata": {},
   "source": [
    "The data has no null values and the features are set to the appropriate data type. Moreover, the purpose column needs no improvement as it contains unique and justified values. For the classifier, the target variable is the `not.fully.paid` feature. Note that there is class imbalance as there are fewer examples of loans not fully paid. Specifically, eight thousand forty-five (8045) are fully paid while one thousand five hundred thirty-three (1533) are not. This is important to note since machine learning classifiers tend to underperform when class imbalance exists."
   ]
  },
  {
   "cell_type": "code",
   "execution_count": 24,
   "id": "caafac54-affa-4bc0-b4ef-b936bd603e71",
   "metadata": {
    "executionCancelledAt": null,
    "executionTime": 19,
    "lastExecutedAt": 1695786361024,
    "lastScheduledRunId": null,
    "lastSuccessfullyExecutedCode": "print(loan.info())\n\nprint(loan.isnull().sum())\n\nprint(loan.purpose.unique())",
    "outputsMetadata": {
     "0": {
      "height": 616,
      "type": "stream"
     }
    }
   },
   "outputs": [
    {
     "name": "stdout",
     "output_type": "stream",
     "text": [
      "<class 'pandas.core.frame.DataFrame'>\n",
      "RangeIndex: 9578 entries, 0 to 9577\n",
      "Data columns (total 14 columns):\n",
      " #   Column             Non-Null Count  Dtype  \n",
      "---  ------             --------------  -----  \n",
      " 0   credit.policy      9578 non-null   int64  \n",
      " 1   purpose            9578 non-null   object \n",
      " 2   int.rate           9578 non-null   float64\n",
      " 3   installment        9578 non-null   float64\n",
      " 4   log.annual.inc     9578 non-null   float64\n",
      " 5   dti                9578 non-null   float64\n",
      " 6   fico               9578 non-null   int64  \n",
      " 7   days.with.cr.line  9578 non-null   float64\n",
      " 8   revol.bal          9578 non-null   int64  \n",
      " 9   revol.util         9578 non-null   float64\n",
      " 10  inq.last.6mths     9578 non-null   int64  \n",
      " 11  delinq.2yrs        9578 non-null   int64  \n",
      " 12  pub.rec            9578 non-null   int64  \n",
      " 13  not.fully.paid     9578 non-null   int64  \n",
      "dtypes: float64(6), int64(7), object(1)\n",
      "memory usage: 1.0+ MB\n",
      "None\n",
      "['debt_consolidation' 'credit_card' 'all_other' 'home_improvement'\n",
      " 'small_business' 'major_purchase' 'educational']\n",
      "0    8045\n",
      "1    1533\n",
      "Name: not.fully.paid, dtype: int64\n"
     ]
    }
   ],
   "source": [
    "# Look at null values and data types\n",
    "print(loan.info())\n",
    "\n",
    "# Look at the unique values of purpose\n",
    "print(loan.purpose.unique())\n",
    "\n",
    "# Class imbalance?\n",
    "print(loan['not.fully.paid'].value_counts())"
   ]
  },
  {
   "cell_type": "markdown",
   "id": "3e6977e1-1a98-469b-aeed-07ec3d11304f",
   "metadata": {},
   "source": [
    "## Feature Engineering\n",
    "\r",
    "Ttheheatmap of the correlation matrix between the numeric features are shown below. It is shown that FICO credit score and the interest rate are highly correlated. This is justified since  FICO credit scoreare used by lenders to determine thes interest rate on loan. We opt to retain the weak to moderately correlated features.."
   ]
  },
  {
   "cell_type": "code",
   "execution_count": 25,
   "id": "e256a90a-93cc-4f67-bf46-50c039450353",
   "metadata": {},
   "outputs": [
    {
     "data": {
      "image/png": "[encoded data removed]",
      "text/plain": [
       "<Figure size 640x480 with 2 Axes>"
      ]
     },
     "metadata": {},
     "output_type": "display_data"
    }
   ],
   "source": [
    "# Import necessary packages\n",
    "import matplotlib.pyplot as plt\n",
    "import seaborn as sns\n",
    "\n",
    "# Correlation of numeric features\n",
    "loan_num = loan.drop(['credit.policy', 'purpose', 'not.fully.paid'], axis = 1)\n",
    "loan_corr = loan_num.corr().abs()\n",
    "\n",
    "# Heatmap of correlation matrix\n",
    "sns.heatmap(loan_corr)\n",
    "plt.savefig('loan_corr.png')\n",
    "plt.show()\n",
    "\n",
    "# Drop one of the highly correlated features\n",
    "loan.drop(['int.rate'], axis = 1, inplace = True)"
   ]
  },
  {
   "cell_type": "markdown",
   "id": "3f5d54c2-cf66-4137-a49f-93d6bffec2a1",
   "metadata": {},
   "source": [
    "It is also possible that the features are too many. The classifier must also be fitted on a training data with a lower dimension. Dimensionality reduction is implemented using the Principal Component Analysis (PCA). By reducing the dimension to two (2), the features explains 99.9% of the variance."
   ]
  },
  {
   "cell_type": "code",
   "execution_count": 26,
   "id": "e731e58d-536c-4bbe-8191-537bcfbfa077",
   "metadata": {},
   "outputs": [
    {
     "name": "stdout",
     "output_type": "stream",
     "text": [
      "[0.99480882 0.00515456]\n"
     ]
    }
   ],
   "source": [
    "# Import PCA\n",
    "from sklearn.decomposition import PCA\n",
    "\n",
    "# Create PCA model and transform data\n",
    "pca = PCA(n_components = 2)\n",
    "loan_num_pca = pca.fit_transform(loan_num)\n",
    "\n",
    "# Print feature importance\n",
    "print(pca.explained_variance_ratio_)"
   ]
  },
  {
   "cell_type": "markdown",
   "id": "3327fb33-1c70-4c47-b1f7-cfdc937f6c4c",
   "metadata": {},
   "source": [
    "For the categorical variable `purpose`, a one-hot encoding is applied to create a binary matrix."
   ]
  },
  {
   "cell_type": "code",
   "execution_count": 27,
   "id": "520b3e44-4295-472c-a780-2924c7422f2b",
   "metadata": {},
   "outputs": [
    {
     "name": "stdout",
     "output_type": "stream",
     "text": [
      "   credit.policy  installment  log.annual.inc    dti  fico  days.with.cr.line  \\\n",
      "0              1       829.10       11.350407  19.48   737        5639.958333   \n",
      "1              1       228.22       11.082143  14.29   707        2760.000000   \n",
      "2              1       366.86       10.373491  11.63   682        4710.000000   \n",
      "3              1       162.34       11.350407   8.10   712        2699.958333   \n",
      "4              1       102.92       11.299732  14.97   667        4066.000000   \n",
      "\n",
      "   revol.bal  revol.util  inq.last.6mths  delinq.2yrs  pub.rec  \\\n",
      "0      28854        52.1               0            0        0   \n",
      "1      33623        76.7               0            0        0   \n",
      "2       3511        25.6               1            0        0   \n",
      "3      33667        73.2               1            0        0   \n",
      "4       4740        39.5               0            1        0   \n",
      "\n",
      "   not.fully.paid  purpose_credit_card  purpose_debt_consolidation  \\\n",
      "0               0                    0                           1   \n",
      "1               0                    1                           0   \n",
      "2               0                    0                           1   \n",
      "3               0                    0                           1   \n",
      "4               0                    1                           0   \n",
      "\n",
      "   purpose_educational  purpose_home_improvement  purpose_major_purchase  \\\n",
      "0                    0                         0                       0   \n",
      "1                    0                         0                       0   \n",
      "2                    0                         0                       0   \n",
      "3                    0                         0                       0   \n",
      "4                    0                         0                       0   \n",
      "\n",
      "   purpose_small_business  \n",
      "0                       0  \n",
      "1                       0  \n",
      "2                       0  \n",
      "3                       0  \n",
      "4                       0  \n"
     ]
    }
   ],
   "source": [
    "# One-hot encoding for categorical variables\n",
    "loan_dummies = pd.get_dummies(loan, drop_first = True)\n",
    "\n",
    "# Observe first few rows\n",
    "print(loan_dummies.head())"
   ]
  },
  {
   "cell_type": "markdown",
   "id": "71105d17-2383-40b3-b841-22343e20901a",
   "metadata": {},
   "source": [
    "## Classifier\n",
    "\n",
    "We use an extreme grandient-boosted (XGBoost) tree classifier for this situation. \n",
    "A gradient boosted tree classifierutiilizess an ensemble of decision trees to make predictions In addition, XGBoost ) is a specific implementation of a gradient boosted tree classifi that is a popul due to its speed, scalibility, and accuracy. Note that the manager wants to accurately predict if a loan will not be paid back. Since `1` is the value for a loan not getting paid back, the true negative rate is the metric that the manager wants to see. In this case, the true negative rate is 96% which means that the model has a high accuracy on determining loans that will not be paid back.e."
   ]
  },
  {
   "cell_type": "code",
   "execution_count": 28,
   "id": "3c284f5e-b242-4014-b626-9d2fc3f6a6dd",
   "metadata": {},
   "outputs": [
    {
     "name": "stdout",
     "output_type": "stream",
     "text": [
      "0.9662027833001988\n"
     ]
    }
   ],
   "source": [
    "# Import necessary packages\n",
    "import xgboost as xgb\n",
    "from sklearn.model_selection import train_test_split\n",
    "from sklearn.metrics import recall_score, confusion_matrix\n",
    "\n",
    "# Set features and target variables\n",
    "y = loan_dummies['not.fully.paid']\n",
    "X = loan_dummies.drop('not.fully.paid', axis = 1)\n",
    "\n",
    "# Split data for training and testing\n",
    "X_train, X_test, y_train, y_test = train_test_split(X, y, stratify = y, random_state = 42)\n",
    "\n",
    "# Model\n",
    "xgb_model = xgb.XGBClassifier(objective=\"binary:logistic\", random_state=42)\n",
    "xgb_model.fit(X_train, y_train)\n",
    "\n",
    "# Print accuracy and recall scores\n",
    "y_pred = xgb_model.predict(X_test)\n",
    "tn, fp, fn, tp = confusion_matrix(y_test, y_pred).ravel()\n",
    "\n",
    "print(tn/(tn+fp))"
   ]
  },
  {
   "cell_type": "markdown",
   "id": "a82e0f93-97ba-4175-86d7-858b53cf2c94",
   "metadata": {},
   "source": [
    "When the model is trained on a data whose dimension is reduced using PCA, the true negative rate slightly increases to 98%."
   ]
  },
  {
   "cell_type": "code",
   "execution_count": 29,
   "id": "b92304fb-b446-4302-92f1-f40e64e059e9",
   "metadata": {},
   "outputs": [
    {
     "name": "stdout",
     "output_type": "stream",
     "text": [
      "0.9835984095427436\n"
     ]
    }
   ],
   "source": [
    "# Reduce dimension of the training and the testing set\n",
    "X_pca_train = pca.fit_transform(X_train)\n",
    "X_pca_test = pca.transform(X_test)\n",
    "\n",
    "# Fit model on the dimension-reduced data\n",
    "xgb_model.fit(X_pca_train, y_train)\n",
    "y_pred_pca = xgb_model.predict(X_pca_test)\n",
    "tn_pca, fp_pca, fn_pca, tp_pca = confusion_matrix(y_test, y_pred_pca).ravel()\n",
    "\n",
    "# Print true negative rate\n",
    "print(tn_pca/(tn_pca+fp_pca))"
   ]
  },
  {
   "cell_type": "markdown",
   "id": "db5ca7e8-bda5-4b99-9c1f-ea6e5440267d",
   "metadata": {},
   "source": [
    "Now, due to the class imbalance, a Synthetic Minority Over-sampling Technique (SMOTE) may be implemented to balance the two classes. The model obtained a 89% true negative rate, which is way lower than the previous two models. This may be due to the misrepresentation of the synthetic samples produced by SMOTE on the class."
   ]
  },
  {
   "cell_type": "code",
   "execution_count": 30,
   "id": "b048c1d3-a7fc-49bd-b6b0-39fcb4dbd372",
   "metadata": {},
   "outputs": [
    {
     "name": "stdout",
     "output_type": "stream",
     "text": [
      "Requirement already satisfied: imblearn in c:\\users\\user\\appdata\\local\\programs\\python\\python311\\lib\\site-packages (0.0)\n",
      "Requirement already satisfied: imbalanced-learn in c:\\users\\user\\appdata\\local\\programs\\python\\python311\\lib\\site-packages (from imblearn) (0.11.0)\n",
      "Requirement already satisfied: numpy>=1.17.3 in c:\\users\\user\\appdata\\local\\programs\\python\\python311\\lib\\site-packages (from imbalanced-learn->imblearn) (1.24.2)\n",
      "Requirement already satisfied: scipy>=1.5.0 in c:\\users\\user\\appdata\\local\\programs\\python\\python311\\lib\\site-packages (from imbalanced-learn->imblearn) (1.10.1)\n",
      "Requirement already satisfied: scikit-learn>=1.0.2 in c:\\users\\user\\appdata\\local\\programs\\python\\python311\\lib\\site-packages (from imbalanced-learn->imblearn) (1.2.2)\n",
      "Requirement already satisfied: joblib>=1.1.1 in c:\\users\\user\\appdata\\local\\programs\\python\\python311\\lib\\site-packages (from imbalanced-learn->imblearn) (1.2.0)\n",
      "Requirement already satisfied: threadpoolctl>=2.0.0 in c:\\users\\user\\appdata\\local\\programs\\python\\python311\\lib\\site-packages (from imbalanced-learn->imblearn) (3.1.0)\n",
      "0.897117296222664\n"
     ]
    }
   ],
   "source": [
    "# Import necessary package/s\n",
    "!pip install imblearn\n",
    "from imblearn.over_sampling import SMOTE\n",
    "\n",
    "# Create SMOTE model\n",
    "smote = SMOTE()\n",
    "X_smote, y_smote = smote.fit_resample(X, y)\n",
    "\n",
    "# Split to training and testing datasets\n",
    "X_smote_train, X_smote_test, y_smote_train, y_smote_test = train_test_split(X_smote, y_smote, stratify = y_smote, random_state = 42)\n",
    "\n",
    "# Fit model\n",
    "xgb_model.fit(X_smote_train, y_smote_train)\n",
    "\n",
    "# Predict testing set and print true negative rate\n",
    "y_pred_smote = xgb_model.predict(X_smote_test)\n",
    "tn_smote, fp_smote, fn_smote, tp_smote = confusion_matrix(y_smote_test, y_pred_smote).ravel()\n",
    "\n",
    "# Print true negative rate\n",
    "print(tn_smote/(tn_smote+fp_smote))"
   ]
  },
  {
   "cell_type": "markdown",
   "id": "a8ab99ea-438c-4535-9218-0423bfb569b2",
   "metadata": {},
   "source": [
    "Using an automated machine library like TPOT, an optimized pipieline is found based on the cross-validation scores. Looking at the true negative rates when the pipeline is fitted on the original and dimension-reduced training datasets, the true negative rates are 96% and 92% respectively. "
   ]
  },
  {
   "cell_type": "code",
   "execution_count": 54,
   "id": "c1f534c8-3821-4916-88aa-92d8e248856f",
   "metadata": {},
   "outputs": [
    {
     "name": "stdout",
     "output_type": "stream",
     "text": [
      "                                                                                                                       \n",
      "Generation 1 - Current best internal CV score: 0.8312746717500585\n",
      "                                                                                                                       \n",
      "Generation 2 - Current best internal CV score: 0.8312746717500585\n",
      "                                                                                                                       \n",
      "Generation 3 - Current best internal CV score: 0.83376061934612\n",
      "                                                                                                                       \n",
      "Generation 4 - Current best internal CV score: 0.83376061934612\n",
      "                                                                                                                       \n",
      "Generation 5 - Current best internal CV score: 0.8431255581562311\n",
      "                                                                                                                       \n",
      "Generation 6 - Current best internal CV score: 0.8431255581562311\n",
      "                                                                                                                       \n",
      "Generation 7 - Current best internal CV score: 0.8521579294150609\n",
      "                                                                                                                       \n",
      "Generation 8 - Current best internal CV score: 0.8521579294150609\n",
      "                                                                                                                       \n",
      "Generation 9 - Current best internal CV score: 0.8521579294150609\n",
      "                                                                                                                       \n",
      "Generation 10 - Current best internal CV score: 0.856798973799404\n",
      "                                                                                                                       \n",
      "Generation 11 - Current best internal CV score: 0.856798973799404\n",
      "                                                                                                                       \n",
      "Generation 12 - Current best internal CV score: 0.856798973799404\n",
      "                                                                                                                       \n",
      "Generation 13 - Current best internal CV score: 0.856798973799404\n",
      "                                                                                                                       \n",
      "Generation 14 - Current best internal CV score: 0.856798973799404\n",
      "                                                                                                                       \n",
      "Generation 15 - Current best internal CV score: 0.856798973799404\n",
      "                                                                                                                       \n",
      "Generation 16 - Current best internal CV score: 0.856798973799404\n",
      "                                                                                                                       \n",
      "Generation 17 - Current best internal CV score: 0.8577935176452047\n",
      "                                                                                                                       \n",
      "Generation 18 - Current best internal CV score: 0.8577935176452047\n",
      "                                                                                                                       \n",
      "Generation 19 - Current best internal CV score: 0.8589546542804769\n",
      "                                                                                                                       \n",
      "Generation 20 - Current best internal CV score: 0.8589546542804769\n",
      "                                                                                                                       \n",
      "Generation 21 - Current best internal CV score: 0.8606938871227413\n",
      "                                                                                                                       \n",
      "Generation 22 - Current best internal CV score: 0.8606938871227413\n",
      "                                                                                                                       \n",
      "Generation 23 - Current best internal CV score: 0.8608594498661113\n",
      "                                                                                                                       \n",
      "Generation 24 - Current best internal CV score: 0.8608594498661113\n",
      "                                                                                                                       \n",
      "Generation 25 - Current best internal CV score: 0.8608594498661113\n",
      "                                                                                                                       \n",
      "Generation 26 - Current best internal CV score: 0.8608594498661113\n",
      "                                                                                                                       \n",
      "Generation 27 - Current best internal CV score: 0.8616062332896479\n",
      "                                                                                                                       \n",
      "Generation 28 - Current best internal CV score: 0.8632627877648377\n",
      "                                                                                                                       \n",
      "Generation 29 - Current best internal CV score: 0.8632627877648377\n",
      "                                                                                                                       \n",
      "Generation 30 - Current best internal CV score: 0.8632627877648377\n",
      "                                                                                                                       \n",
      "Generation 31 - Current best internal CV score: 0.8675723289788706\n",
      "                                                                                                                       \n",
      "Generation 32 - Current best internal CV score: 0.8675723289788706\n",
      "                                                                                                                       \n",
      "Generation 33 - Current best internal CV score: 0.8675723289788706\n",
      "                                                                                                                       \n",
      "Generation 34 - Current best internal CV score: 0.8675723289788706\n",
      "                                                                                                                       \n",
      "Generation 35 - Current best internal CV score: 0.8675723289788706\n",
      "                                                                                                                       \n",
      "Generation 36 - Current best internal CV score: 0.8675723289788706\n",
      "                                                                                                                       \n",
      "Generation 37 - Current best internal CV score: 0.8678213597913264\n",
      "                                                                                                                       \n",
      "Generation 38 - Current best internal CV score: 0.8678213597913264\n",
      "                                                                                                                       \n",
      "Generation 39 - Current best internal CV score: 0.8678213597913264\n",
      "                                                                                                                       \n",
      "Generation 40 - Current best internal CV score: 0.8678213597913264\n",
      "                                                                                                                       \n",
      "Generation 41 - Current best internal CV score: 0.8678213597913264\n",
      "                                                                                                                       \n",
      "Generation 42 - Current best internal CV score: 0.8678213597913264\n",
      "                                                                                                                       \n",
      "Generation 43 - Current best internal CV score: 0.8678213597913264\n",
      "                                                                                                                       \n",
      "Generation 44 - Current best internal CV score: 0.8678213597913264\n",
      "                                                                                                                       \n",
      "Generation 45 - Current best internal CV score: 0.8678213597913264\n",
      "                                                                                                                       \n",
      "Generation 46 - Current best internal CV score: 0.8678213597913264\n",
      "                                                                                                                       \n",
      "Generation 47 - Current best internal CV score: 0.8678213597913264\n",
      "                                                                                                                       \n",
      "Generation 48 - Current best internal CV score: 0.8678213597913264\n",
      "                                                                                                                       \n",
      "Generation 49 - Current best internal CV score: 0.8678213597913264\n",
      "                                                                                                                       \n",
      "Generation 50 - Current best internal CV score: 0.8678213597913264\n",
      "                                                                                                                       \n",
      "Best pipeline: GradientBoostingClassifier(MinMaxScaler(input_matrix), learning_rate=0.5, max_depth=10, max_features=0.9000000000000001, min_samples_leaf=2, min_samples_split=5, n_estimators=100, subsample=0.9500000000000001)\n",
      "0.8729803629132488\n"
     ]
    }
   ],
   "source": [
    "# Import necessary packages and functions\n",
    "from tpot import TPOTClassifier\n",
    "\n",
    "# Find optimized pipeline for the situation\n",
    "tpot = TPOTClassifier(generations=50, population_size=25, verbosity=2, random_state=42)\n",
    "tpot.fit(X_train, y_train)\n",
    "tpot.export('tpot_loan.py')"
   ]
  },
  {
   "cell_type": "code",
   "execution_count": 36,
   "id": "2ef31e43-20b3-4db1-a326-9854088e0a68",
   "metadata": {},
   "outputs": [
    {
     "name": "stdout",
     "output_type": "stream",
     "text": [
      "(0.9662027833001988, 0.9224652087475149)\n"
     ]
    }
   ],
   "source": [
    "# Import packages from saved pipeline\n",
    "from sklearn.ensemble import GradientBoostingClassifier\n",
    "from sklearn.pipeline import make_pipeline\n",
    "from sklearn.preprocessing import MinMaxScaler\n",
    "from tpot.export_utils import set_param_recursive\n",
    "\n",
    "# Create pipeline, fit the data into the model, and predict\n",
    "exported_pipeline = make_pipeline(\n",
    "    MinMaxScaler(),\n",
    "    GradientBoostingClassifier(learning_rate=0.5, max_depth=10, max_features=0.9000000000000001, min_samples_leaf=2, min_samples_split=5, n_estimators=100, subsample=0.9500000000000001)\n",
    ")\n",
    "exported_pipeline.fit(X_train, y_train)\n",
    "y_pred_tpot = exported_pipeline.predict(X_test)\n",
    "\n",
    "# Create pipeline, fit the reduced data into the model, and predict\n",
    "exported_pipeline.fit(X_pca_train, y_train)\n",
    "y_pred_pca_tpot = exported_pipeline.predict(X_pca_test)\n",
    "\n",
    "# Obtain the true negative rates\n",
    "tn_tpot, fp_tpot, fn_tpot, tp_tpot = confusion_matrix(y_test, y_pred_tpot).ravel()\n",
    "tn_pca_tpot, fp_pca_tpot, fn_pca_tpot, tp_pca_tpot = confusion_matrix(y_test, y_pred_pca_tpot).ravel()\n",
    "print((tn_tpot/(tn_tpot+fp_tpot),tn_pca_tpot/(tn_pca_tpot+fp_pca_tpot)))"
   ]
  }
 ],
 "metadata": {
  "colab": {
   "name": "Welcome to DataCamp Workspaces.ipynb",
   "provenance": []
  },
  "editor": "DataCamp Workspace",
  "kernelspec": {
   "display_name": "Python 3 (ipykernel)",
   "language": "python",
   "name": "python3"
  },
  "language_info": {
   "codemirror_mode": {
    "name": "ipython",
    "version": 3
   },
   "file_extension": ".py",
   "mimetype": "text/x-python",
   "name": "python",
   "nbconvert_exporter": "python",
   "pygments_lexer": "ipython3",
   "version": "3.11.2"
  },
  "varInspector": {
   "cols": {
    "lenName": 16,
    "lenType": 16,
    "lenVar": 40
   },
   "kernels_config": {
    "python": {
     "delete_cmd_postfix": "",
     "delete_cmd_prefix": "del ",
     "library": "var_list.py",
     "varRefreshCmd": "print(var_dic_list())"
    },
    "r": {
     "delete_cmd_postfix": ") ",
     "delete_cmd_prefix": "rm(",
     "library": "var_list.r",
     "varRefreshCmd": "cat(var_dic_list()) "
    }
   },
   "types_to_exclude": [
    "module",
    "function",
    "builtin_function_or_method",
    "instance",
    "_Feature"
   ],
   "window_display": false
  }
 },
 "nbformat": 4,
 "nbformat_minor": 5
}

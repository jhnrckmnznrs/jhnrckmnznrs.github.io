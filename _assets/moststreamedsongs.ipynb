{
    "metadata": {
        "kernelspec": {
            "name": "SQL",
            "display_name": "SQL",
            "language": "sql"
        },
        "language_info": {
            "name": "sql",
            "version": ""
        }
    },
    "nbformat_minor": 2,
    "nbformat": 4,
    "cells": [
        {
            "cell_type": "markdown",
            "source": [
                "For this project, we use the \\<a href = \"https://www.kaggle.com/datasets/nelgiriyewithana/top-spotify-songs-2023\"\\>dataset\\</a\\> found in Kaggle. We showcase some SQL (using Azure Data Studio) and Power BI skills for personal purposes. Executing the code below, the total number of tracks is nine-hundred fifty-three (953)."
            ],
            "metadata": {
                "azdata_cell_guid": "5dd5b63a-ef78-4f1a-9816-53a6b21e6dfe"
            },
            "attachments": {}
        },
        {
            "cell_type": "code",
            "source": [
                "SELECT COUNT(track_name) AS total_num_track\r\n",
                "FROM dbo.Spotify2023;"
            ],
            "metadata": {
                "azdata_cell_guid": "a9b678bb-04b2-4e2b-9430-f64753a3a25c",
                "language": "sql"
            },
            "outputs": [
                {
                    "output_type": "display_data",
                    "data": {
                        "text/html": "(1 row affected)"
                    },
                    "metadata": {}
                },
                {
                    "output_type": "display_data",
                    "data": {
                        "text/html": "Total execution time: 00:00:00.003"
                    },
                    "metadata": {}
                },
                {
                    "output_type": "execute_result",
                    "metadata": {},
                    "execution_count": 38,
                    "data": {
                        "application/vnd.dataresource+json": {
                            "schema": {
                                "fields": [
                                    {
                                        "name": "total_num_track"
                                    }
                                ]
                            },
                            "data": [
                                {
                                    "total_num_track": "953"
                                }
                            ]
                        },
                        "text/html": [
                            "<table>",
                            "<tr><th>total_num_track</th></tr>",
                            "<tr><td>953</td></tr>",
                            "</table>"
                        ]
                    }
                }
            ],
            "execution_count": 38
        },
        {
            "cell_type": "code",
            "source": [
                "SELECT COUNT(DISTINCT(artist_s_name)) AS total_artists_track\r\n",
                "FROM dbo.Spotify2023;"
            ],
            "metadata": {
                "azdata_cell_guid": "41601a85-ee3b-453e-a269-8db665e24e07",
                "language": "sql"
            },
            "outputs": [
                {
                    "output_type": "display_data",
                    "data": {
                        "text/html": "(1 row affected)"
                    },
                    "metadata": {}
                },
                {
                    "output_type": "display_data",
                    "data": {
                        "text/html": "Total execution time: 00:00:00.005"
                    },
                    "metadata": {}
                },
                {
                    "output_type": "execute_result",
                    "metadata": {},
                    "execution_count": 39,
                    "data": {
                        "application/vnd.dataresource+json": {
                            "schema": {
                                "fields": [
                                    {
                                        "name": "total_artists_track"
                                    }
                                ]
                            },
                            "data": [
                                {
                                    "total_artists_track": "645"
                                }
                            ]
                        },
                        "text/html": [
                            "<table>",
                            "<tr><th>total_artists_track</th></tr>",
                            "<tr><td>645</td></tr>",
                            "</table>"
                        ]
                    }
                }
            ],
            "execution_count": 39
        },
        {
            "cell_type": "markdown",
            "source": [
                "Most of the tracks, specifically four-hundred two (402), are songs released in 2022. Without stating the query, the oldest track is Agudo Magico 3 by Stryx, utku INC, and Thezth released in 1930. On the other hand, the latest track is Seven by Jung Kook featuring Latto released on 14 July 2023."
            ],
            "metadata": {
                "azdata_cell_guid": "7039bde3-b5ca-481d-b313-ee2d1599d9f8"
            },
            "attachments": {}
        },
        {
            "cell_type": "code",
            "source": [
                "SELECT released_year, COUNT(track_name) AS num_track\r\n",
                "FROM dbo.Spotify2023\r\n",
                "GROUP BY released_year\r\n",
                "ORDER BY num_track DESC;"
            ],
            "metadata": {
                "azdata_cell_guid": "97446585-4cb1-45ee-a29b-5190d3f534d9",
                "language": "sql"
            },
            "outputs": [
                {
                    "output_type": "display_data",
                    "data": {
                        "text/html": "(50 rows affected)"
                    },
                    "metadata": {}
                },
                {
                    "output_type": "display_data",
                    "data": {
                        "text/html": "Total execution time: 00:00:00.007"
                    },
                    "metadata": {}
                },
                {
                    "output_type": "execute_result",
                    "metadata": {},
                    "execution_count": 40,
                    "data": {
                        "application/vnd.dataresource+json": {
                            "schema": {
                                "fields": [
                                    {
                                        "name": "released_year"
                                    },
                                    {
                                        "name": "num_track"
                                    }
                                ]
                            },
                            "data": [
                                {
                                    "released_year": "2022",
                                    "num_track": "402"
                                },
                                {
                                    "released_year": "2023",
                                    "num_track": "175"
                                },
                                {
                                    "released_year": "2021",
                                    "num_track": "119"
                                },
                                {
                                    "released_year": "2020",
                                    "num_track": "37"
                                },
                                {
                                    "released_year": "2019",
                                    "num_track": "36"
                                },
                                {
                                    "released_year": "2017",
                                    "num_track": "23"
                                },
                                {
                                    "released_year": "2016",
                                    "num_track": "18"
                                },
                                {
                                    "released_year": "2013",
                                    "num_track": "13"
                                },
                                {
                                    "released_year": "2014",
                                    "num_track": "13"
                                },
                                {
                                    "released_year": "2015",
                                    "num_track": "11"
                                },
                                {
                                    "released_year": "2011",
                                    "num_track": "10"
                                },
                                {
                                    "released_year": "2012",
                                    "num_track": "10"
                                },
                                {
                                    "released_year": "2018",
                                    "num_track": "10"
                                },
                                {
                                    "released_year": "2010",
                                    "num_track": "7"
                                },
                                {
                                    "released_year": "2002",
                                    "num_track": "6"
                                },
                                {
                                    "released_year": "1999",
                                    "num_track": "5"
                                },
                                {
                                    "released_year": "2000",
                                    "num_track": "4"
                                },
                                {
                                    "released_year": "2004",
                                    "num_track": "4"
                                },
                                {
                                    "released_year": "1984",
                                    "num_track": "4"
                                },
                                {
                                    "released_year": "1958",
                                    "num_track": "3"
                                },
                                {
                                    "released_year": "1963",
                                    "num_track": "3"
                                },
                                {
                                    "released_year": "1959",
                                    "num_track": "2"
                                },
                                {
                                    "released_year": "1985",
                                    "num_track": "2"
                                },
                                {
                                    "released_year": "1986",
                                    "num_track": "2"
                                },
                                {
                                    "released_year": "1970",
                                    "num_track": "2"
                                },
                                {
                                    "released_year": "1975",
                                    "num_track": "2"
                                },
                                {
                                    "released_year": "1957",
                                    "num_track": "2"
                                },
                                {
                                    "released_year": "2008",
                                    "num_track": "2"
                                },
                                {
                                    "released_year": "2003",
                                    "num_track": "2"
                                },
                                {
                                    "released_year": "1982",
                                    "num_track": "2"
                                },
                                {
                                    "released_year": "1991",
                                    "num_track": "2"
                                },
                                {
                                    "released_year": "1995",
                                    "num_track": "2"
                                },
                                {
                                    "released_year": "1996",
                                    "num_track": "1"
                                },
                                {
                                    "released_year": "1997",
                                    "num_track": "1"
                                },
                                {
                                    "released_year": "1998",
                                    "num_track": "1"
                                },
                                {
                                    "released_year": "1992",
                                    "num_track": "1"
                                },
                                {
                                    "released_year": "1994",
                                    "num_track": "1"
                                },
                                {
                                    "released_year": "1983",
                                    "num_track": "1"
                                },
                                {
                                    "released_year": "2005",
                                    "num_track": "1"
                                },
                                {
                                    "released_year": "2007",
                                    "num_track": "1"
                                },
                                {
                                    "released_year": "1979",
                                    "num_track": "1"
                                },
                                {
                                    "released_year": "1971",
                                    "num_track": "1"
                                },
                                {
                                    "released_year": "1973",
                                    "num_track": "1"
                                },
                                {
                                    "released_year": "1987",
                                    "num_track": "1"
                                },
                                {
                                    "released_year": "1968",
                                    "num_track": "1"
                                },
                                {
                                    "released_year": "1930",
                                    "num_track": "1"
                                },
                                {
                                    "released_year": "1942",
                                    "num_track": "1"
                                },
                                {
                                    "released_year": "1946",
                                    "num_track": "1"
                                },
                                {
                                    "released_year": "1950",
                                    "num_track": "1"
                                },
                                {
                                    "released_year": "1952",
                                    "num_track": "1"
                                }
                            ]
                        },
                        "text/html": [
                            "<table>",
                            "<tr><th>released_year</th><th>num_track</th></tr>",
                            "<tr><td>2022</td><td>402</td></tr>",
                            "<tr><td>2023</td><td>175</td></tr>",
                            "<tr><td>2021</td><td>119</td></tr>",
                            "<tr><td>2020</td><td>37</td></tr>",
                            "<tr><td>2019</td><td>36</td></tr>",
                            "<tr><td>2017</td><td>23</td></tr>",
                            "<tr><td>2016</td><td>18</td></tr>",
                            "<tr><td>2013</td><td>13</td></tr>",
                            "<tr><td>2014</td><td>13</td></tr>",
                            "<tr><td>2015</td><td>11</td></tr>",
                            "<tr><td>2011</td><td>10</td></tr>",
                            "<tr><td>2012</td><td>10</td></tr>",
                            "<tr><td>2018</td><td>10</td></tr>",
                            "<tr><td>2010</td><td>7</td></tr>",
                            "<tr><td>2002</td><td>6</td></tr>",
                            "<tr><td>1999</td><td>5</td></tr>",
                            "<tr><td>2000</td><td>4</td></tr>",
                            "<tr><td>2004</td><td>4</td></tr>",
                            "<tr><td>1984</td><td>4</td></tr>",
                            "<tr><td>1958</td><td>3</td></tr>",
                            "<tr><td>1963</td><td>3</td></tr>",
                            "<tr><td>1959</td><td>2</td></tr>",
                            "<tr><td>1985</td><td>2</td></tr>",
                            "<tr><td>1986</td><td>2</td></tr>",
                            "<tr><td>1970</td><td>2</td></tr>",
                            "<tr><td>1975</td><td>2</td></tr>",
                            "<tr><td>1957</td><td>2</td></tr>",
                            "<tr><td>2008</td><td>2</td></tr>",
                            "<tr><td>2003</td><td>2</td></tr>",
                            "<tr><td>1982</td><td>2</td></tr>",
                            "<tr><td>1991</td><td>2</td></tr>",
                            "<tr><td>1995</td><td>2</td></tr>",
                            "<tr><td>1996</td><td>1</td></tr>",
                            "<tr><td>1997</td><td>1</td></tr>",
                            "<tr><td>1998</td><td>1</td></tr>",
                            "<tr><td>1992</td><td>1</td></tr>",
                            "<tr><td>1994</td><td>1</td></tr>",
                            "<tr><td>1983</td><td>1</td></tr>",
                            "<tr><td>2005</td><td>1</td></tr>",
                            "<tr><td>2007</td><td>1</td></tr>",
                            "<tr><td>1979</td><td>1</td></tr>",
                            "<tr><td>1971</td><td>1</td></tr>",
                            "<tr><td>1973</td><td>1</td></tr>",
                            "<tr><td>1987</td><td>1</td></tr>",
                            "<tr><td>1968</td><td>1</td></tr>",
                            "<tr><td>1930</td><td>1</td></tr>",
                            "<tr><td>1942</td><td>1</td></tr>",
                            "<tr><td>1946</td><td>1</td></tr>",
                            "<tr><td>1950</td><td>1</td></tr>",
                            "<tr><td>1952</td><td>1</td></tr>",
                            "</table>"
                        ]
                    }
                }
            ],
            "execution_count": 40
        },
        {
            "cell_type": "markdown",
            "source": [
                "_In terms of the number of tracks, Taylor Swift has the highest numbers of songs in the dataset with thirty-four (34) songs followed by The Weekend with twenty-two (22) songs._"
            ],
            "metadata": {
                "azdata_cell_guid": "d911125d-53de-49c9-b5f9-b15530eeb227"
            },
            "attachments": {}
        },
        {
            "cell_type": "code",
            "source": [
                "SELECT artist_s_name, COUNT(track_name) AS num_track\r\n",
                "FROM dbo.Spotify2023\r\n",
                "GROUP BY artist_s_name\r\n",
                "ORDER BY num_track DESC;"
            ],
            "metadata": {
                "azdata_cell_guid": "c55d9dbf-4411-48b2-ae39-8753152d793f",
                "language": "sql"
            },
            "outputs": [
                {
                    "output_type": "display_data",
                    "data": {
                        "text/html": "(645 rows affected)"
                    },
                    "metadata": {}
                },
                {
                    "output_type": "display_data",
                    "data": {
                        "text/html": "Total execution time: 00:00:00.032"
                    },
                    "metadata": {}
                },
                {
                    "output_type": "execute_result",
                    "metadata": {},
                    "execution_count": 41,
                    "data": {
                        "application/vnd.dataresource+json": {
                            "schema": {
                                "fields": [
                                    {
                                        "name": "artist_s_name"
                                    },
                                    {
                                        "name": "num_track"
                                    }
                                ]
                            },
                            "data": [
                                {
                                    "artist_s_name": "Taylor Swift",
                                    "num_track": "34"
                                },
                                {
                                    "artist_s_name": "The Weeknd",
                                    "num_track": "22"
                                },
                                {
                                    "artist_s_name": "SZA",
                                    "num_track": "19"
                                },
                                {
                                    "artist_s_name": "Bad Bunny",
                                    "num_track": "19"
                                },
                                {
                                    "artist_s_name": "Harry Styles",
                                    "num_track": "17"
                                },
                                {
                                    "artist_s_name": "Kendrick Lamar",
                                    "num_track": "12"
                                },
                                {
                                    "artist_s_name": "Morgan Wallen",
                                    "num_track": "11"
                                },
                                {
                                    "artist_s_name": "Ed Sheeran",
                                    "num_track": "9"
                                },
                                {
                                    "artist_s_name": "Feid",
                                    "num_track": "8"
                                },
                                {
                                    "artist_s_name": "BTS",
                                    "num_track": "8"
                                },
                                {
                                    "artist_s_name": "Drake, 21 Savage",
                                    "num_track": "8"
                                },
                                {
                                    "artist_s_name": "Labrinth",
                                    "num_track": "7"
                                },
                                {
                                    "artist_s_name": "Olivia Rodrigo",
                                    "num_track": "7"
                                },
                                {
                                    "artist_s_name": "NewJeans",
                                    "num_track": "6"
                                },
                                {
                                    "artist_s_name": "Doja Cat",
                                    "num_track": "6"
                                },
                                {
                                    "artist_s_name": "Billie Eilish",
                                    "num_track": "5"
                                },
                                {
                                    "artist_s_name": "Bruno Mars",
                                    "num_track": "4"
                                },
                                {
                                    "artist_s_name": "Adele",
                                    "num_track": "4"
                                },
                                {
                                    "artist_s_name": "Arctic Monkeys",
                                    "num_track": "4"
                                },
                                {
                                    "artist_s_name": "Karol G",
                                    "num_track": "4"
                                },
                                {
                                    "artist_s_name": "Drake",
                                    "num_track": "4"
                                },
                                {
                                    "artist_s_name": "Eminem",
                                    "num_track": "4"
                                },
                                {
                                    "artist_s_name": "IVE",
                                    "num_track": "4"
                                },
                                {
                                    "artist_s_name": "Quevedo",
                                    "num_track": "4"
                                },
                                {
                                    "artist_s_name": "M��ne",
                                    "num_track": "4"
                                },
                                {
                                    "artist_s_name": "Lewis Capaldi",
                                    "num_track": "3"
                                },
                                {
                                    "artist_s_name": "Lil Nas X",
                                    "num_track": "3"
                                },
                                {
                                    "artist_s_name": "Lizzo",
                                    "num_track": "3"
                                },
                                {
                                    "artist_s_name": "Post Malone",
                                    "num_track": "3"
                                },
                                {
                                    "artist_s_name": "The Neighbourhood",
                                    "num_track": "3"
                                },
                                {
                                    "artist_s_name": "Shawn Mendes",
                                    "num_track": "3"
                                },
                                {
                                    "artist_s_name": "Steve Lacy",
                                    "num_track": "3"
                                },
                                {
                                    "artist_s_name": "Tyler, The Creator",
                                    "num_track": "3"
                                },
                                {
                                    "artist_s_name": "Imagine Dragons",
                                    "num_track": "3"
                                },
                                {
                                    "artist_s_name": "ENHYPEN",
                                    "num_track": "3"
                                },
                                {
                                    "artist_s_name": "Lana Del Rey",
                                    "num_track": "3"
                                },
                                {
                                    "artist_s_name": "Jack Harlow",
                                    "num_track": "3"
                                },
                                {
                                    "artist_s_name": "Jimin",
                                    "num_track": "3"
                                },
                                {
                                    "artist_s_name": "Joji",
                                    "num_track": "3"
                                },
                                {
                                    "artist_s_name": "Justin Bieber",
                                    "num_track": "3"
                                },
                                {
                                    "artist_s_name": "Kanye West",
                                    "num_track": "3"
                                },
                                {
                                    "artist_s_name": "Beyonc�",
                                    "num_track": "3"
                                },
                                {
                                    "artist_s_name": "BLACKPINK",
                                    "num_track": "3"
                                },
                                {
                                    "artist_s_name": "Dua Lipa",
                                    "num_track": "3"
                                },
                                {
                                    "artist_s_name": "Coldplay",
                                    "num_track": "3"
                                },
                                {
                                    "artist_s_name": "Central Cee",
                                    "num_track": "2"
                                },
                                {
                                    "artist_s_name": "Burna Boy",
                                    "num_track": "2"
                                },
                                {
                                    "artist_s_name": "Charlie Puth",
                                    "num_track": "2"
                                },
                                {
                                    "artist_s_name": "d4vd",
                                    "num_track": "2"
                                },
                                {
                                    "artist_s_name": "Daddy Yankee",
                                    "num_track": "2"
                                },
                                {
                                    "artist_s_name": "Daddy Yankee, Bad Bunny",
                                    "num_track": "2"
                                },
                                {
                                    "artist_s_name": "David Kushner",
                                    "num_track": "2"
                                },
                                {
                                    "artist_s_name": "Bruno Mars, Anderson .Paak, Silk Sonic",
                                    "num_track": "2"
                                },
                                {
                                    "artist_s_name": "Bad Bunny, Jhay Cortez",
                                    "num_track": "2"
                                },
                                {
                                    "artist_s_name": "Ariana Grande",
                                    "num_track": "2"
                                },
                                {
                                    "artist_s_name": "Ariana Grande, The Weeknd",
                                    "num_track": "2"
                                },
                                {
                                    "artist_s_name": "(G)I-DLE",
                                    "num_track": "2"
                                },
                                {
                                    "artist_s_name": "Avicii",
                                    "num_track": "2"
                                },
                                {
                                    "artist_s_name": "JVKE",
                                    "num_track": "2"
                                },
                                {
                                    "artist_s_name": "James Arthur",
                                    "num_track": "2"
                                },
                                {
                                    "artist_s_name": "Juice WRLD",
                                    "num_track": "2"
                                },
                                {
                                    "artist_s_name": "Hotel Ugly",
                                    "num_track": "2"
                                },
                                {
                                    "artist_s_name": "Jasiel Nu��ez, Peso P",
                                    "num_track": "2"
                                },
                                {
                                    "artist_s_name": "Jung Kook",
                                    "num_track": "2"
                                },
                                {
                                    "artist_s_name": "Fifty Fifty",
                                    "num_track": "2"
                                },
                                {
                                    "artist_s_name": "Frank Ocean",
                                    "num_track": "2"
                                },
                                {
                                    "artist_s_name": "Eminem, Dr. Dre",
                                    "num_track": "2"
                                },
                                {
                                    "artist_s_name": "Dr. Dre, Snoop Dogg",
                                    "num_track": "2"
                                },
                                {
                                    "artist_s_name": "Duki",
                                    "num_track": "2"
                                },
                                {
                                    "artist_s_name": "Fuerza Regida",
                                    "num_track": "2"
                                },
                                {
                                    "artist_s_name": "Future",
                                    "num_track": "2"
                                },
                                {
                                    "artist_s_name": "The Weeknd, Gesaffelstein",
                                    "num_track": "2"
                                },
                                {
                                    "artist_s_name": "ThxSoMch",
                                    "num_track": "2"
                                },
                                {
                                    "artist_s_name": "Troye Sivan",
                                    "num_track": "2"
                                },
                                {
                                    "artist_s_name": "TWICE",
                                    "num_track": "2"
                                },
                                {
                                    "artist_s_name": "XXXTENTACION",
                                    "num_track": "2"
                                },
                                {
                                    "artist_s_name": "Yandel, Feid",
                                    "num_track": "2"
                                },
                                {
                                    "artist_s_name": "YEAT",
                                    "num_track": "2"
                                },
                                {
                                    "artist_s_name": "Tate McRae",
                                    "num_track": "2"
                                },
                                {
                                    "artist_s_name": "Stray Kids",
                                    "num_track": "2"
                                },
                                {
                                    "artist_s_name": "Sebastian Yatra",
                                    "num_track": "2"
                                },
                                {
                                    "artist_s_name": "Sia",
                                    "num_track": "2"
                                },
                                {
                                    "artist_s_name": "The Kid Laroi",
                                    "num_track": "2"
                                },
                                {
                                    "artist_s_name": "Rosa Linn",
                                    "num_track": "2"
                                },
                                {
                                    "artist_s_name": "ROSAL�",
                                    "num_track": "2"
                                },
                                {
                                    "artist_s_name": "Rauw Alejandro",
                                    "num_track": "2"
                                },
                                {
                                    "artist_s_name": "Rauw Alejandro, Bizarrap",
                                    "num_track": "2"
                                },
                                {
                                    "artist_s_name": "RAYE, 070 Shake",
                                    "num_track": "2"
                                },
                                {
                                    "artist_s_name": "Ryan Castro",
                                    "num_track": "2"
                                },
                                {
                                    "artist_s_name": "Nicki Minaj",
                                    "num_track": "2"
                                },
                                {
                                    "artist_s_name": "Nicki Minaj, Lil Baby",
                                    "num_track": "2"
                                },
                                {
                                    "artist_s_name": "OneRepublic",
                                    "num_track": "2"
                                },
                                {
                                    "artist_s_name": "Paulo Londra",
                                    "num_track": "2"
                                },
                                {
                                    "artist_s_name": "Nirvana",
                                    "num_track": "2"
                                },
                                {
                                    "artist_s_name": "Peso Pluma",
                                    "num_track": "2"
                                },
                                {
                                    "artist_s_name": "Mambo Kingz, DJ Luian, Anuel Aa",
                                    "num_track": "2"
                                },
                                {
                                    "artist_s_name": "Linkin Park",
                                    "num_track": "2"
                                },
                                {
                                    "artist_s_name": "Michael Bubl�",
                                    "num_track": "2"
                                },
                                {
                                    "artist_s_name": "Lil Baby",
                                    "num_track": "2"
                                },
                                {
                                    "artist_s_name": "Lady Gaga",
                                    "num_track": "2"
                                },
                                {
                                    "artist_s_name": "LE SSERAFIM",
                                    "num_track": "2"
                                },
                                {
                                    "artist_s_name": "Junior H, Peso Pluma",
                                    "num_track": "2"
                                },
                                {
                                    "artist_s_name": "Miley Cyrus",
                                    "num_track": "2"
                                },
                                {
                                    "artist_s_name": "Nat King Cole",
                                    "num_track": "2"
                                },
                                {
                                    "artist_s_name": "Natanael Cano",
                                    "num_track": "1"
                                },
                                {
                                    "artist_s_name": "Natanael Cano, Gabito Ballesteros, Peso Pluma",
                                    "num_track": "1"
                                },
                                {
                                    "artist_s_name": "Natanael Cano, Peso Pluma",
                                    "num_track": "1"
                                },
                                {
                                    "artist_s_name": "Nayeon",
                                    "num_track": "1"
                                },
                                {
                                    "artist_s_name": "NEIKED, Mae Muller, Polo G",
                                    "num_track": "1"
                                },
                                {
                                    "artist_s_name": "Nengo Flow, Anuel Aa, Chris Jedi, Chencho Corleone",
                                    "num_track": "1"
                                },
                                {
                                    "artist_s_name": "Nengo Flow, Bad Bunny",
                                    "num_track": "1"
                                },
                                {
                                    "artist_s_name": "Nessa Barrett",
                                    "num_track": "1"
                                },
                                {
                                    "artist_s_name": "New West",
                                    "num_track": "1"
                                },
                                {
                                    "artist_s_name": "MNEK, Jax Jones",
                                    "num_track": "1"
                                },
                                {
                                    "artist_s_name": "Morgan Wallen, Eric Church",
                                    "num_track": "1"
                                },
                                {
                                    "artist_s_name": "Mr.Kitty",
                                    "num_track": "1"
                                },
                                {
                                    "artist_s_name": "Muni Long",
                                    "num_track": "1"
                                },
                                {
                                    "artist_s_name": "Musical Youth",
                                    "num_track": "1"
                                },
                                {
                                    "artist_s_name": "Myke Towers",
                                    "num_track": "1"
                                },
                                {
                                    "artist_s_name": "Myke Towers, Quevedo",
                                    "num_track": "1"
                                },
                                {
                                    "artist_s_name": "Leah Kate",
                                    "num_track": "1"
                                },
                                {
                                    "artist_s_name": "Leo Santana",
                                    "num_track": "1"
                                },
                                {
                                    "artist_s_name": "Lady Gaga, Bradley Cooper",
                                    "num_track": "1"
                                },
                                {
                                    "artist_s_name": "Lil Durk, Morgan Wallen",
                                    "num_track": "1"
                                },
                                {
                                    "artist_s_name": "LF System",
                                    "num_track": "1"
                                },
                                {
                                    "artist_s_name": "Libianca",
                                    "num_track": "1"
                                },
                                {
                                    "artist_s_name": "Migrantes, LiL CaKe, Nico Valdi",
                                    "num_track": "1"
                                },
                                {
                                    "artist_s_name": "Miguel",
                                    "num_track": "1"
                                },
                                {
                                    "artist_s_name": "Lisa",
                                    "num_track": "1"
                                },
                                {
                                    "artist_s_name": "Lit Killah, Maria Becerra, Tiago pzk, NICKI NICOLE",
                                    "num_track": "1"
                                },
                                {
                                    "artist_s_name": "Lil Tjay",
                                    "num_track": "1"
                                },
                                {
                                    "artist_s_name": "Lil Uzi Vert",
                                    "num_track": "1"
                                },
                                {
                                    "artist_s_name": "Lil Yachty",
                                    "num_track": "1"
                                },
                                {
                                    "artist_s_name": "Manuel Turizo",
                                    "num_track": "1"
                                },
                                {
                                    "artist_s_name": "Maria Becerra",
                                    "num_track": "1"
                                },
                                {
                                    "artist_s_name": "Mariah Carey",
                                    "num_track": "1"
                                },
                                {
                                    "artist_s_name": "Mar��lia Mendo",
                                    "num_track": "1"
                                },
                                {
                                    "artist_s_name": "Mar��lia Mendon��a, George Henrique &",
                                    "num_track": "1"
                                },
                                {
                                    "artist_s_name": "Mar��lia Mendon��a, Hugo & G",
                                    "num_track": "1"
                                },
                                {
                                    "artist_s_name": "Mar��lia Mendon��a, Maiara &",
                                    "num_track": "1"
                                },
                                {
                                    "artist_s_name": "Maroon 5",
                                    "num_track": "1"
                                },
                                {
                                    "artist_s_name": "Maroon 5, Wiz Khalifa",
                                    "num_track": "1"
                                },
                                {
                                    "artist_s_name": "Marshmello, Jonas Brothers",
                                    "num_track": "1"
                                },
                                {
                                    "artist_s_name": "Marshmello, Juice WRLD",
                                    "num_track": "1"
                                },
                                {
                                    "artist_s_name": "Marshmello, Khalid",
                                    "num_track": "1"
                                },
                                {
                                    "artist_s_name": "Marshmello, Manuel Turizo",
                                    "num_track": "1"
                                },
                                {
                                    "artist_s_name": "Masked Wolf",
                                    "num_track": "1"
                                },
                                {
                                    "artist_s_name": "Matu��, Wiu, ",
                                    "num_track": "1"
                                },
                                {
                                    "artist_s_name": "MC Caverinha, KayBlack",
                                    "num_track": "1"
                                },
                                {
                                    "artist_s_name": "Mc Livinho, DJ Matt D",
                                    "num_track": "1"
                                },
                                {
                                    "artist_s_name": "Mc Pedrinho, DJ 900",
                                    "num_track": "1"
                                },
                                {
                                    "artist_s_name": "Mc Pedrinho, Pedro Sampaio",
                                    "num_track": "1"
                                },
                                {
                                    "artist_s_name": "MC Ryan SP, Love Funk, Mc Paiva ZS",
                                    "num_track": "1"
                                },
                                {
                                    "artist_s_name": "Mc Vitin Da Igrejinha, MC Tairon, DJ Win",
                                    "num_track": "1"
                                },
                                {
                                    "artist_s_name": "MC Xenon, Os Gemeos da Putaria",
                                    "num_track": "1"
                                },
                                {
                                    "artist_s_name": "Meghan Trainor",
                                    "num_track": "1"
                                },
                                {
                                    "artist_s_name": "Melanie Martinez",
                                    "num_track": "1"
                                },
                                {
                                    "artist_s_name": "Melody, Ana Castela, Dj Chris No Beat",
                                    "num_track": "1"
                                },
                                {
                                    "artist_s_name": "Metallica",
                                    "num_track": "1"
                                },
                                {
                                    "artist_s_name": "Metro Boomin, Coi Leray",
                                    "num_track": "1"
                                },
                                {
                                    "artist_s_name": "Lizzy McAlpine",
                                    "num_track": "1"
                                },
                                {
                                    "artist_s_name": "Lord Huron",
                                    "num_track": "1"
                                },
                                {
                                    "artist_s_name": "Loreen",
                                    "num_track": "1"
                                },
                                {
                                    "artist_s_name": "Lost Frequencies, Calum Scott",
                                    "num_track": "1"
                                },
                                {
                                    "artist_s_name": "Luar La L",
                                    "num_track": "1"
                                },
                                {
                                    "artist_s_name": "Luciano",
                                    "num_track": "1"
                                },
                                {
                                    "artist_s_name": "Luciano, Aitch, B�",
                                    "num_track": "1"
                                },
                                {
                                    "artist_s_name": "Ludwig Goransson, Foudeqush",
                                    "num_track": "1"
                                },
                                {
                                    "artist_s_name": "Luis R Conriquez, La Adictiva",
                                    "num_track": "1"
                                },
                                {
                                    "artist_s_name": "Luke Combs",
                                    "num_track": "1"
                                },
                                {
                                    "artist_s_name": "Lu��sa Sonza, MC Frog, Dj Gabriel do Borel, Davi K",
                                    "num_track": "1"
                                },
                                {
                                    "artist_s_name": "Luude, Colin Hay",
                                    "num_track": "1"
                                },
                                {
                                    "artist_s_name": "Mabel Matiz, Mert Demir",
                                    "num_track": "1"
                                },
                                {
                                    "artist_s_name": "Mac DeMarco",
                                    "num_track": "1"
                                },
                                {
                                    "artist_s_name": "Mae Stephens",
                                    "num_track": "1"
                                },
                                {
                                    "artist_s_name": "Mahalini",
                                    "num_track": "1"
                                },
                                {
                                    "artist_s_name": "Mahmood, Blanco",
                                    "num_track": "1"
                                },
                                {
                                    "artist_s_name": "Mainstreet, Chefin",
                                    "num_track": "1"
                                },
                                {
                                    "artist_s_name": "Maldy, Karol G",
                                    "num_track": "1"
                                },
                                {
                                    "artist_s_name": "Maluma",
                                    "num_track": "1"
                                },
                                {
                                    "artist_s_name": "Peso Pluma, Grupo Frontera",
                                    "num_track": "1"
                                },
                                {
                                    "artist_s_name": "Peso Pluma, Luis R Conriquez",
                                    "num_track": "1"
                                },
                                {
                                    "artist_s_name": "Peso Pluma, Yng Lvcas",
                                    "num_track": "1"
                                },
                                {
                                    "artist_s_name": "Pharrell Williams, Nile Rodgers, Daft Punk",
                                    "num_track": "1"
                                },
                                {
                                    "artist_s_name": "Pharrell Williams, Tyler, The Creator, 21 Savage",
                                    "num_track": "1"
                                },
                                {
                                    "artist_s_name": "PinkPantheress",
                                    "num_track": "1"
                                },
                                {
                                    "artist_s_name": "PinkPantheress, Ice Spice",
                                    "num_track": "1"
                                },
                                {
                                    "artist_s_name": "Plan B",
                                    "num_track": "1"
                                },
                                {
                                    "artist_s_name": "Playboi Carti",
                                    "num_track": "1"
                                },
                                {
                                    "artist_s_name": "PnB Rock",
                                    "num_track": "1"
                                },
                                {
                                    "artist_s_name": "Polima WestCoast, Pailita",
                                    "num_track": "1"
                                },
                                {
                                    "artist_s_name": "Polo G",
                                    "num_track": "1"
                                },
                                {
                                    "artist_s_name": "NLE Choppa",
                                    "num_track": "1"
                                },
                                {
                                    "artist_s_name": "NMIXX",
                                    "num_track": "1"
                                },
                                {
                                    "artist_s_name": "Offset, JID",
                                    "num_track": "1"
                                },
                                {
                                    "artist_s_name": "Olga Merediz, Stephanie Beatriz, Encanto - Cast",
                                    "num_track": "1"
                                },
                                {
                                    "artist_s_name": "Oliver Tree",
                                    "num_track": "1"
                                },
                                {
                                    "artist_s_name": "Peggy Gou",
                                    "num_track": "1"
                                },
                                {
                                    "artist_s_name": "Perry Como, The Fontane Sisters, Mitchell Ayres & His Orchestra",
                                    "num_track": "1"
                                },
                                {
                                    "artist_s_name": "Omar Apollo",
                                    "num_track": "1"
                                },
                                {
                                    "artist_s_name": "One Direction",
                                    "num_track": "1"
                                },
                                {
                                    "artist_s_name": "Oscar Maydon, Junior H",
                                    "num_track": "1"
                                },
                                {
                                    "artist_s_name": "Ovy On The Drums, Quevedo",
                                    "num_track": "1"
                                },
                                {
                                    "artist_s_name": "Oxlade",
                                    "num_track": "1"
                                },
                                {
                                    "artist_s_name": "Ozuna, Feid",
                                    "num_track": "1"
                                },
                                {
                                    "artist_s_name": "Ozuna, Shakira",
                                    "num_track": "1"
                                },
                                {
                                    "artist_s_name": "Ozuna, Tiago pzk",
                                    "num_track": "1"
                                },
                                {
                                    "artist_s_name": "P!nk",
                                    "num_track": "1"
                                },
                                {
                                    "artist_s_name": "Paloma Faith",
                                    "num_track": "1"
                                },
                                {
                                    "artist_s_name": "Panic! At The Disco",
                                    "num_track": "1"
                                },
                                {
                                    "artist_s_name": "Paul McCartney",
                                    "num_track": "1"
                                },
                                {
                                    "artist_s_name": "Nicky Jam, Feid",
                                    "num_track": "1"
                                },
                                {
                                    "artist_s_name": "Nicky Youre, Dazy",
                                    "num_track": "1"
                                },
                                {
                                    "artist_s_name": "NIKI",
                                    "num_track": "1"
                                },
                                {
                                    "artist_s_name": "Nile Rodgers, LE SSERAFIM",
                                    "num_track": "1"
                                },
                                {
                                    "artist_s_name": "Nicki Minaj, Aqua, Ice Spice",
                                    "num_track": "1"
                                },
                                {
                                    "artist_s_name": "Nicki Minaj, Ice Spice",
                                    "num_track": "1"
                                },
                                {
                                    "artist_s_name": "NF",
                                    "num_track": "1"
                                },
                                {
                                    "artist_s_name": "Niall Horan",
                                    "num_track": "1"
                                },
                                {
                                    "artist_s_name": "Sabrina Carpenter",
                                    "num_track": "1"
                                },
                                {
                                    "artist_s_name": "Sachin-Jigar, Shadab Faridi, Altamash Faridi, Amitabh Bhattacharya, Varun Jain",
                                    "num_track": "1"
                                },
                                {
                                    "artist_s_name": "SALES",
                                    "num_track": "1"
                                },
                                {
                                    "artist_s_name": "Sam Ryder",
                                    "num_track": "1"
                                },
                                {
                                    "artist_s_name": "Sam Smith",
                                    "num_track": "1"
                                },
                                {
                                    "artist_s_name": "Sam Smith, Calvin Harris, Jessie Reyez",
                                    "num_track": "1"
                                },
                                {
                                    "artist_s_name": "Sam Smith, Kim Petras",
                                    "num_track": "1"
                                },
                                {
                                    "artist_s_name": "Sch��rze, DJ R",
                                    "num_track": "1"
                                },
                                {
                                    "artist_s_name": "Seafret",
                                    "num_track": "1"
                                },
                                {
                                    "artist_s_name": "Sean Paul, Dua Lipa",
                                    "num_track": "1"
                                },
                                {
                                    "artist_s_name": "Sean Paul, Feid",
                                    "num_track": "1"
                                },
                                {
                                    "artist_s_name": "Rels B",
                                    "num_track": "1"
                                },
                                {
                                    "artist_s_name": "Residente, Bizarrap",
                                    "num_track": "1"
                                },
                                {
                                    "artist_s_name": "Rex Orange County",
                                    "num_track": "1"
                                },
                                {
                                    "artist_s_name": "Rich The Kid, Matu�",
                                    "num_track": "1"
                                },
                                {
                                    "artist_s_name": "Rihanna",
                                    "num_track": "1"
                                },
                                {
                                    "artist_s_name": "Rihanna, Calvin Harris",
                                    "num_track": "1"
                                },
                                {
                                    "artist_s_name": "Riton, Nightcrawlers, Mufasa & Hypeman, Dopamine",
                                    "num_track": "1"
                                },
                                {
                                    "artist_s_name": "RM",
                                    "num_track": "1"
                                },
                                {
                                    "artist_s_name": "RM, Colde",
                                    "num_track": "1"
                                },
                                {
                                    "artist_s_name": "R��ma, Selena G",
                                    "num_track": "1"
                                },
                                {
                                    "artist_s_name": "Robin Schulz, Oliver Tree",
                                    "num_track": "1"
                                },
                                {
                                    "artist_s_name": "Rauw Alejandro, ROSAL�",
                                    "num_track": "1"
                                },
                                {
                                    "artist_s_name": "Ray Dalton, Ryan Lewis, Macklemore",
                                    "num_track": "1"
                                },
                                {
                                    "artist_s_name": "Quevedo, Jhayco",
                                    "num_track": "1"
                                },
                                {
                                    "artist_s_name": "Quevedo, La Pantera, Juseph, Cruz Cafun��, B��jo, Abhir Hathi",
                                    "num_track": "1"
                                },
                                {
                                    "artist_s_name": "R��",
                                    "num_track": "1"
                                },
                                {
                                    "artist_s_name": "Radiohead",
                                    "num_track": "1"
                                },
                                {
                                    "artist_s_name": "Raim Laode",
                                    "num_track": "1"
                                },
                                {
                                    "artist_s_name": "Post Malone, Doja Cat",
                                    "num_track": "1"
                                },
                                {
                                    "artist_s_name": "Post Malone, Roddy Ricch",
                                    "num_track": "1"
                                },
                                {
                                    "artist_s_name": "Post Malone, Swae Lee",
                                    "num_track": "1"
                                },
                                {
                                    "artist_s_name": "Prezioso, Gabry Ponte, LUM!X",
                                    "num_track": "1"
                                },
                                {
                                    "artist_s_name": "Pritam, Arijit Singh, Amitabh Bhattacharya",
                                    "num_track": "1"
                                },
                                {
                                    "artist_s_name": "PSY, Suga",
                                    "num_track": "1"
                                },
                                {
                                    "artist_s_name": "Queen",
                                    "num_track": "1"
                                },
                                {
                                    "artist_s_name": "Ruth B.",
                                    "num_track": "1"
                                },
                                {
                                    "artist_s_name": "Rosa Walton, Hallie Coggins",
                                    "num_track": "1"
                                },
                                {
                                    "artist_s_name": "The Killers",
                                    "num_track": "1"
                                },
                                {
                                    "artist_s_name": "Shawn Mendes, Camila Cabello",
                                    "num_track": "1"
                                },
                                {
                                    "artist_s_name": "Shubh",
                                    "num_track": "1"
                                },
                                {
                                    "artist_s_name": "The Police",
                                    "num_track": "1"
                                },
                                {
                                    "artist_s_name": "The Rare Occasions",
                                    "num_track": "1"
                                },
                                {
                                    "artist_s_name": "The Ronettes",
                                    "num_track": "1"
                                },
                                {
                                    "artist_s_name": "The Walters",
                                    "num_track": "1"
                                },
                                {
                                    "artist_s_name": "The Weeknd, 21 Savage, Metro Boomin",
                                    "num_track": "1"
                                },
                                {
                                    "artist_s_name": "The Weeknd, Daft Punk",
                                    "num_track": "1"
                                },
                                {
                                    "artist_s_name": "The Weeknd, Future",
                                    "num_track": "1"
                                },
                                {
                                    "artist_s_name": "SZA, Doja Cat",
                                    "num_track": "1"
                                },
                                {
                                    "artist_s_name": "SZA, Don Toliver",
                                    "num_track": "1"
                                },
                                {
                                    "artist_s_name": "SZA, Phoebe Bridgers",
                                    "num_track": "1"
                                },
                                {
                                    "artist_s_name": "SZA, Travis Scott",
                                    "num_track": "1"
                                },
                                {
                                    "artist_s_name": "TAEYANG, Jimin",
                                    "num_track": "1"
                                },
                                {
                                    "artist_s_name": "TAEYANG, Lisa",
                                    "num_track": "1"
                                },
                                {
                                    "artist_s_name": "Tainy, Bad Bunny",
                                    "num_track": "1"
                                },
                                {
                                    "artist_s_name": "Taiu, Milo j",
                                    "num_track": "1"
                                },
                                {
                                    "artist_s_name": "Taylor Swift, Ice Spice",
                                    "num_track": "1"
                                },
                                {
                                    "artist_s_name": "Taylor Swift, Lana Del Rey",
                                    "num_track": "1"
                                },
                                {
                                    "artist_s_name": "Tears For Fears",
                                    "num_track": "1"
                                },
                                {
                                    "artist_s_name": "teto",
                                    "num_track": "1"
                                },
                                {
                                    "artist_s_name": "THE ANXIETY, Willow, Tyler Cole",
                                    "num_track": "1"
                                },
                                {
                                    "artist_s_name": "The Chainsmokers, Coldplay",
                                    "num_track": "1"
                                },
                                {
                                    "artist_s_name": "The Chainsmokers, Halsey",
                                    "num_track": "1"
                                },
                                {
                                    "artist_s_name": "The Goo Goo Dolls",
                                    "num_track": "1"
                                },
                                {
                                    "artist_s_name": "Sidhu Moose Wala",
                                    "num_track": "1"
                                },
                                {
                                    "artist_s_name": "SiM",
                                    "num_track": "1"
                                },
                                {
                                    "artist_s_name": "Simone Mendes",
                                    "num_track": "1"
                                },
                                {
                                    "artist_s_name": "Skrillex, Flowdan, Fred again..",
                                    "num_track": "1"
                                },
                                {
                                    "artist_s_name": "Sleepy hallow",
                                    "num_track": "1"
                                },
                                {
                                    "artist_s_name": "Sleepy hallow, 347aidan",
                                    "num_track": "1"
                                },
                                {
                                    "artist_s_name": "Snoop Dogg, BTS, Benny Blanco",
                                    "num_track": "1"
                                },
                                {
                                    "artist_s_name": "Sofia Carson",
                                    "num_track": "1"
                                },
                                {
                                    "artist_s_name": "Sog, Ryan Castro, Peso Pluma",
                                    "num_track": "1"
                                },
                                {
                                    "artist_s_name": "Southstar",
                                    "num_track": "1"
                                },
                                {
                                    "artist_s_name": "sped up 8282",
                                    "num_track": "1"
                                },
                                {
                                    "artist_s_name": "sped up nightcore, ARIZONATEARS, Lil Uzi Vert",
                                    "num_track": "1"
                                },
                                {
                                    "artist_s_name": "Stephanie Beatriz, Diane Guerrero",
                                    "num_track": "1"
                                },
                                {
                                    "artist_s_name": "Stephen Sanchez",
                                    "num_track": "1"
                                },
                                {
                                    "artist_s_name": "Steve Aoki, Tini, La Joaqui",
                                    "num_track": "1"
                                },
                                {
                                    "artist_s_name": "Sebastian Yatra, Manuel Turizo, Be��",
                                    "num_track": "1"
                                },
                                {
                                    "artist_s_name": "Sech, Bad Bunny, Mora",
                                    "num_track": "1"
                                },
                                {
                                    "artist_s_name": "Sech, Mora",
                                    "num_track": "1"
                                },
                                {
                                    "artist_s_name": "Selena Gomez",
                                    "num_track": "1"
                                },
                                {
                                    "artist_s_name": "Semicenk, Do��u ",
                                    "num_track": "1"
                                },
                                {
                                    "artist_s_name": "SEVENTEEN",
                                    "num_track": "1"
                                },
                                {
                                    "artist_s_name": "Shae Gill, Ali Sethi",
                                    "num_track": "1"
                                },
                                {
                                    "artist_s_name": "Shakin' Stevens",
                                    "num_track": "1"
                                },
                                {
                                    "artist_s_name": "Shakira",
                                    "num_track": "1"
                                },
                                {
                                    "artist_s_name": "Shakira, Bizarrap",
                                    "num_track": "1"
                                },
                                {
                                    "artist_s_name": "Shakira, Rauw Alejandro",
                                    "num_track": "1"
                                },
                                {
                                    "artist_s_name": "Stromae",
                                    "num_track": "1"
                                },
                                {
                                    "artist_s_name": "Styrx, utku INC, Thezth",
                                    "num_track": "1"
                                },
                                {
                                    "artist_s_name": "Suki Waterhouse",
                                    "num_track": "1"
                                },
                                {
                                    "artist_s_name": "Surf Curse",
                                    "num_track": "1"
                                },
                                {
                                    "artist_s_name": "Swae Lee, A Boogie Wit da Hoodie, Metro Boomin, NAV",
                                    "num_track": "1"
                                },
                                {
                                    "artist_s_name": "Swae Lee, Lil Wayne, Offset, Metro Boomin",
                                    "num_track": "1"
                                },
                                {
                                    "artist_s_name": "Yng Lvcas",
                                    "num_track": "1"
                                },
                                {
                                    "artist_s_name": "YOASOBI",
                                    "num_track": "1"
                                },
                                {
                                    "artist_s_name": "Young Thug, Future, Gunna",
                                    "num_track": "1"
                                },
                                {
                                    "artist_s_name": "Yung Gravy",
                                    "num_track": "1"
                                },
                                {
                                    "artist_s_name": "Yung Lean",
                                    "num_track": "1"
                                },
                                {
                                    "artist_s_name": "Yuridia, Angela Aguilar",
                                    "num_track": "1"
                                },
                                {
                                    "artist_s_name": "Z�� Fe",
                                    "num_track": "1"
                                },
                                {
                                    "artist_s_name": "Z�� Neto & Crist",
                                    "num_track": "1"
                                },
                                {
                                    "artist_s_name": "Zach Bryan",
                                    "num_track": "1"
                                },
                                {
                                    "artist_s_name": "Zion & Lennox",
                                    "num_track": "1"
                                },
                                {
                                    "artist_s_name": "Yahritza Y Su Esencia",
                                    "num_track": "1"
                                },
                                {
                                    "artist_s_name": "Yahritza Y Su Esencia, Grupo Frontera",
                                    "num_track": "1"
                                },
                                {
                                    "artist_s_name": "Twisted, Oliver Tree",
                                    "num_track": "1"
                                },
                                {
                                    "artist_s_name": "Tyga, Doja Cat",
                                    "num_track": "1"
                                },
                                {
                                    "artist_s_name": "Trueno",
                                    "num_track": "1"
                                },
                                {
                                    "artist_s_name": "Trueno, Tiago pzk",
                                    "num_track": "1"
                                },
                                {
                                    "artist_s_name": "Tulus",
                                    "num_track": "1"
                                },
                                {
                                    "artist_s_name": "TV Girl",
                                    "num_track": "1"
                                },
                                {
                                    "artist_s_name": "Ti��",
                                    "num_track": "1"
                                },
                                {
                                    "artist_s_name": "Tini",
                                    "num_track": "1"
                                },
                                {
                                    "artist_s_name": "Tini, L-Gante",
                                    "num_track": "1"
                                },
                                {
                                    "artist_s_name": "Tini, Maria Becerra",
                                    "num_track": "1"
                                },
                                {
                                    "artist_s_name": "Ti��sto, Ava",
                                    "num_track": "1"
                                },
                                {
                                    "artist_s_name": "Ti��sto, Kar",
                                    "num_track": "1"
                                },
                                {
                                    "artist_s_name": "Ti��sto, Tate M",
                                    "num_track": "1"
                                },
                                {
                                    "artist_s_name": "Tom Odell",
                                    "num_track": "1"
                                },
                                {
                                    "artist_s_name": "TOMORROW X TOGETHER",
                                    "num_track": "1"
                                },
                                {
                                    "artist_s_name": "Tones and I",
                                    "num_track": "1"
                                },
                                {
                                    "artist_s_name": "Tony Dize, Bad Bunny",
                                    "num_track": "1"
                                },
                                {
                                    "artist_s_name": "Tory Lanez",
                                    "num_track": "1"
                                },
                                {
                                    "artist_s_name": "Travis Scott, 21 Savage, Metro Boomin",
                                    "num_track": "1"
                                },
                                {
                                    "artist_s_name": "Travis Scott, Metro Boomin",
                                    "num_track": "1"
                                },
                                {
                                    "artist_s_name": "Travis Scott, Young Thug, Metro Boomin",
                                    "num_track": "1"
                                },
                                {
                                    "artist_s_name": "Treasure",
                                    "num_track": "1"
                                },
                                {
                                    "artist_s_name": "Treyce",
                                    "num_track": "1"
                                },
                                {
                                    "artist_s_name": "The Weeknd, Lana Del Rey",
                                    "num_track": "1"
                                },
                                {
                                    "artist_s_name": "The Weeknd, Lil Wayne",
                                    "num_track": "1"
                                },
                                {
                                    "artist_s_name": "The Weeknd, Madonna, Playboi Carti",
                                    "num_track": "1"
                                },
                                {
                                    "artist_s_name": "The Weeknd, Post Malone",
                                    "num_track": "1"
                                },
                                {
                                    "artist_s_name": "The Weeknd, ROSAL�",
                                    "num_track": "1"
                                },
                                {
                                    "artist_s_name": "The Weeknd, Swedish House Mafia",
                                    "num_track": "1"
                                },
                                {
                                    "artist_s_name": "The Weeknd, Tyler, The Creator",
                                    "num_track": "1"
                                },
                                {
                                    "artist_s_name": "Tyler, The Creator, Kali Uchis",
                                    "num_track": "1"
                                },
                                {
                                    "artist_s_name": "Ugly Dray, Tesla Jnr",
                                    "num_track": "1"
                                },
                                {
                                    "artist_s_name": "V",
                                    "num_track": "1"
                                },
                                {
                                    "artist_s_name": "Vance Joy",
                                    "num_track": "1"
                                },
                                {
                                    "artist_s_name": "Veigh, Bvga Beatz, Supernova Ent, Prod Malax",
                                    "num_track": "1"
                                },
                                {
                                    "artist_s_name": "Victor Cibrian",
                                    "num_track": "1"
                                },
                                {
                                    "artist_s_name": "Vishal-Shekhar, Shilpa Rao, Caralisa Monteiro, Kumaar, Vishal Dadlani, Shekhar Ravjiani",
                                    "num_track": "1"
                                },
                                {
                                    "artist_s_name": "Vundabar",
                                    "num_track": "1"
                                },
                                {
                                    "artist_s_name": "Wham!",
                                    "num_track": "1"
                                },
                                {
                                    "artist_s_name": "Willow",
                                    "num_track": "1"
                                },
                                {
                                    "artist_s_name": "Wisin & Yandel, ROSAL�",
                                    "num_track": "1"
                                },
                                {
                                    "artist_s_name": "WizKid, Toian, Metro Boomin, Don Toliver, Beam",
                                    "num_track": "1"
                                },
                                {
                                    "artist_s_name": "Xam��, Gustah, Neo B",
                                    "num_track": "1"
                                },
                                {
                                    "artist_s_name": "Future, Chris Brown, Metro Boomin",
                                    "num_track": "1"
                                },
                                {
                                    "artist_s_name": "Future, Lil Uzi Vert, Metro Boomin",
                                    "num_track": "1"
                                },
                                {
                                    "artist_s_name": "Future, Metro Boomin, Don Toliver",
                                    "num_track": "1"
                                },
                                {
                                    "artist_s_name": "Gabito Ballesteros, Junior H, Peso Pluma",
                                    "num_track": "1"
                                },
                                {
                                    "artist_s_name": "Gayle",
                                    "num_track": "1"
                                },
                                {
                                    "artist_s_name": "Ghost",
                                    "num_track": "1"
                                },
                                {
                                    "artist_s_name": "girl in red",
                                    "num_track": "1"
                                },
                                {
                                    "artist_s_name": "Giveon",
                                    "num_track": "1"
                                },
                                {
                                    "artist_s_name": "Glass Animals",
                                    "num_track": "1"
                                },
                                {
                                    "artist_s_name": "GODZZ__-, Zakaria",
                                    "num_track": "1"
                                },
                                {
                                    "artist_s_name": "Gorillaz, Bad Bunny",
                                    "num_track": "1"
                                },
                                {
                                    "artist_s_name": "Gotye, Kimbra",
                                    "num_track": "1"
                                },
                                {
                                    "artist_s_name": "Grupo Frontera",
                                    "num_track": "1"
                                },
                                {
                                    "artist_s_name": "Grupo Marca Registrada, Grupo Frontera",
                                    "num_track": "1"
                                },
                                {
                                    "artist_s_name": "Grupo Marca Registrada, Junior H",
                                    "num_track": "1"
                                },
                                {
                                    "artist_s_name": "Gunna",
                                    "num_track": "1"
                                },
                                {
                                    "artist_s_name": "Gunna, Lil Baby",
                                    "num_track": "1"
                                },
                                {
                                    "artist_s_name": "Guns N' Roses",
                                    "num_track": "1"
                                },
                                {
                                    "artist_s_name": "Gustavo Mioto, Mari Fernandez",
                                    "num_track": "1"
                                },
                                {
                                    "artist_s_name": "Gwen Stefani, Blake Shelton",
                                    "num_track": "1"
                                },
                                {
                                    "artist_s_name": "HA SUNG WOON, Jimin",
                                    "num_track": "1"
                                },
                                {
                                    "artist_s_name": "Halsey",
                                    "num_track": "1"
                                },
                                {
                                    "artist_s_name": "Halsey, BTS",
                                    "num_track": "1"
                                },
                                {
                                    "artist_s_name": "Halsey, Suga",
                                    "num_track": "1"
                                },
                                {
                                    "artist_s_name": "Fuerza Regida, Chino Pacas",
                                    "num_track": "1"
                                },
                                {
                                    "artist_s_name": "Fuerza Regida, Grupo Frontera",
                                    "num_track": "1"
                                },
                                {
                                    "artist_s_name": "Fuerza Regida, Natanael Cano",
                                    "num_track": "1"
                                },
                                {
                                    "artist_s_name": "Fuerza Regida, Peso Pluma",
                                    "num_track": "1"
                                },
                                {
                                    "artist_s_name": "Fujii Kaze",
                                    "num_track": "1"
                                },
                                {
                                    "artist_s_name": "J Balvin, Bad Bunny",
                                    "num_track": "1"
                                },
                                {
                                    "artist_s_name": "J Balvin, Maria Becerra",
                                    "num_track": "1"
                                },
                                {
                                    "artist_s_name": "J Balvin, Nio Garcia, Bad Bunny",
                                    "num_track": "1"
                                },
                                {
                                    "artist_s_name": "J. Cole",
                                    "num_track": "1"
                                },
                                {
                                    "artist_s_name": "J. Cole, Lil Durk",
                                    "num_track": "1"
                                },
                                {
                                    "artist_s_name": "Jack Black",
                                    "num_track": "1"
                                },
                                {
                                    "artist_s_name": "Imagine Dragons, League of Legends, Arcane",
                                    "num_track": "1"
                                },
                                {
                                    "artist_s_name": "Imagine Dragons, League of Legends, JID, Arcane",
                                    "num_track": "1"
                                },
                                {
                                    "artist_s_name": "Intense, AP Dhillon, Gurinder Gill",
                                    "num_track": "1"
                                },
                                {
                                    "artist_s_name": "Interplanetary Criminal, Eliza Rose",
                                    "num_track": "1"
                                },
                                {
                                    "artist_s_name": "INTERWORLD",
                                    "num_track": "1"
                                },
                                {
                                    "artist_s_name": "Israel & Rodolffo, Ana Castela",
                                    "num_track": "1"
                                },
                                {
                                    "artist_s_name": "Israel & Rodolffo, Mari Fernandez",
                                    "num_track": "1"
                                },
                                {
                                    "artist_s_name": "IU, Agust D",
                                    "num_track": "1"
                                },
                                {
                                    "artist_s_name": "Duki, NICKI NICOLE, Cris Mj, Standly, Stars Music Chile",
                                    "num_track": "1"
                                },
                                {
                                    "artist_s_name": "Duncan Laurence",
                                    "num_track": "1"
                                },
                                {
                                    "artist_s_name": "Eminem, Nate Dogg",
                                    "num_track": "1"
                                },
                                {
                                    "artist_s_name": "Emmy Meli",
                                    "num_track": "1"
                                },
                                {
                                    "artist_s_name": "Eminem, Dido",
                                    "num_track": "1"
                                },
                                {
                                    "artist_s_name": "Eminem, Dina Rae",
                                    "num_track": "1"
                                },
                                {
                                    "artist_s_name": "Ed Sheeran, Elton John",
                                    "num_track": "1"
                                },
                                {
                                    "artist_s_name": "Ed Sheeran, Fireboy DML",
                                    "num_track": "1"
                                },
                                {
                                    "artist_s_name": "Ed Sheeran, J Balvin",
                                    "num_track": "1"
                                },
                                {
                                    "artist_s_name": "Ed Sheeran, Taylor Swift",
                                    "num_track": "1"
                                },
                                {
                                    "artist_s_name": "Eden Mu��",
                                    "num_track": "1"
                                },
                                {
                                    "artist_s_name": "Edison Lighthouse",
                                    "num_track": "1"
                                },
                                {
                                    "artist_s_name": "El Chachito, Junior H",
                                    "num_track": "1"
                                },
                                {
                                    "artist_s_name": "Elley Duh�",
                                    "num_track": "1"
                                },
                                {
                                    "artist_s_name": "Elton John, Britney Spears",
                                    "num_track": "1"
                                },
                                {
                                    "artist_s_name": "Em Beihold",
                                    "num_track": "1"
                                },
                                {
                                    "artist_s_name": "Em Beihold, Stephen Sanchez",
                                    "num_track": "1"
                                },
                                {
                                    "artist_s_name": "Frank Sinatra",
                                    "num_track": "1"
                                },
                                {
                                    "artist_s_name": "Frank Sinatra, B. Swanson Quartet",
                                    "num_track": "1"
                                },
                                {
                                    "artist_s_name": "Freddie Dredd",
                                    "num_track": "1"
                                },
                                {
                                    "artist_s_name": "Fran C, Polima WestCoast, Nickoog Clk, Pablito Pesadilla",
                                    "num_track": "1"
                                },
                                {
                                    "artist_s_name": "Eslabon Armado, Peso Pluma",
                                    "num_track": "1"
                                },
                                {
                                    "artist_s_name": "Farruko",
                                    "num_track": "1"
                                },
                                {
                                    "artist_s_name": "Feid, Alejo, Robi",
                                    "num_track": "1"
                                },
                                {
                                    "artist_s_name": "Feid, Mora",
                                    "num_track": "1"
                                },
                                {
                                    "artist_s_name": "Feid, Mora, Saiko, Quevedo",
                                    "num_track": "1"
                                },
                                {
                                    "artist_s_name": "Feid, Myke Towers, Sky Rompiendo",
                                    "num_track": "1"
                                },
                                {
                                    "artist_s_name": "Feid, Paulo Londra",
                                    "num_track": "1"
                                },
                                {
                                    "artist_s_name": "Feid, Sech, Jhayco",
                                    "num_track": "1"
                                },
                                {
                                    "artist_s_name": "Feid, Young Miko",
                                    "num_track": "1"
                                },
                                {
                                    "artist_s_name": "Junior H, Eden Mu��",
                                    "num_track": "1"
                                },
                                {
                                    "artist_s_name": "Labrinth, Zendaya",
                                    "num_track": "1"
                                },
                                {
                                    "artist_s_name": "Lana Del Rey, Taylor Swift",
                                    "num_track": "1"
                                },
                                {
                                    "artist_s_name": "Lasso",
                                    "num_track": "1"
                                },
                                {
                                    "artist_s_name": "Latto, Jung Kook",
                                    "num_track": "1"
                                },
                                {
                                    "artist_s_name": "Lauren Spencer Smith",
                                    "num_track": "1"
                                },
                                {
                                    "artist_s_name": "Lauren Spencer Smith, Lauren Spencer Smith, Lauren Spencer Smith",
                                    "num_track": "1"
                                },
                                {
                                    "artist_s_name": "Karol G, Becky G",
                                    "num_track": "1"
                                },
                                {
                                    "artist_s_name": "Karol G, Ovy On The Drums",
                                    "num_track": "1"
                                },
                                {
                                    "artist_s_name": "Karol G, Quevedo",
                                    "num_track": "1"
                                },
                                {
                                    "artist_s_name": "Karol G, Romeo Santos",
                                    "num_track": "1"
                                },
                                {
                                    "artist_s_name": "Karol G, Shakira",
                                    "num_track": "1"
                                },
                                {
                                    "artist_s_name": "Kate Bush",
                                    "num_track": "1"
                                },
                                {
                                    "artist_s_name": "Katy Perry, Alesso",
                                    "num_track": "1"
                                },
                                {
                                    "artist_s_name": "Keane",
                                    "num_track": "1"
                                },
                                {
                                    "artist_s_name": "Keisya Levronka",
                                    "num_track": "1"
                                },
                                {
                                    "artist_s_name": "Kelly Clarkson",
                                    "num_track": "1"
                                },
                                {
                                    "artist_s_name": "Kendrick Lamar, Baby Keem",
                                    "num_track": "1"
                                },
                                {
                                    "artist_s_name": "Kendrick Lamar, Beth Gibbons",
                                    "num_track": "1"
                                },
                                {
                                    "artist_s_name": "Kendrick Lamar, Beyonc�",
                                    "num_track": "1"
                                },
                                {
                                    "artist_s_name": "Kendrick Lamar, Blxst, Amanda Reifer",
                                    "num_track": "1"
                                },
                                {
                                    "artist_s_name": "Kendrick Lamar, Ghostface Killah, Summer Walker",
                                    "num_track": "1"
                                },
                                {
                                    "artist_s_name": "Kendrick Lamar, Jay Rock",
                                    "num_track": "1"
                                },
                                {
                                    "artist_s_name": "Kendrick Lamar, Kodak Black",
                                    "num_track": "1"
                                },
                                {
                                    "artist_s_name": "Kendrick Lamar, Sam Dew, Baby Keem",
                                    "num_track": "1"
                                },
                                {
                                    "artist_s_name": "Kendrick Lamar, Sampha",
                                    "num_track": "1"
                                },
                                {
                                    "artist_s_name": "Kendrick Lamar, Tanna Leone",
                                    "num_track": "1"
                                },
                                {
                                    "artist_s_name": "Kendrick Lamar, Taylour Paige",
                                    "num_track": "1"
                                },
                                {
                                    "artist_s_name": "Kenia OS",
                                    "num_track": "1"
                                },
                                {
                                    "artist_s_name": "Kenshi Yonezu",
                                    "num_track": "1"
                                },
                                {
                                    "artist_s_name": "Kevin Gates, Juicy J",
                                    "num_track": "1"
                                },
                                {
                                    "artist_s_name": "Kevin Kaarl",
                                    "num_track": "1"
                                },
                                {
                                    "artist_s_name": "King",
                                    "num_track": "1"
                                },
                                {
                                    "artist_s_name": "Kodak Black",
                                    "num_track": "1"
                                },
                                {
                                    "artist_s_name": "Kodak Black, NLE Choppa, Muni Long, JVKE, Jimin",
                                    "num_track": "1"
                                },
                                {
                                    "artist_s_name": "Kordhell",
                                    "num_track": "1"
                                },
                                {
                                    "artist_s_name": "L7nnon, DJ Biel do Furduncinho, Bianca",
                                    "num_track": "1"
                                },
                                {
                                    "artist_s_name": "Jason Derulo",
                                    "num_track": "1"
                                },
                                {
                                    "artist_s_name": "Jaymes Young",
                                    "num_track": "1"
                                },
                                {
                                    "artist_s_name": "Jessi",
                                    "num_track": "1"
                                },
                                {
                                    "artist_s_name": "Jessica Darrow",
                                    "num_track": "1"
                                },
                                {
                                    "artist_s_name": "j-hope",
                                    "num_track": "1"
                                },
                                {
                                    "artist_s_name": "j-hope, J. Cole",
                                    "num_track": "1"
                                },
                                {
                                    "artist_s_name": "Hozier",
                                    "num_track": "1"
                                },
                                {
                                    "artist_s_name": "Jack Harlow, Lil Nas X",
                                    "num_track": "1"
                                },
                                {
                                    "artist_s_name": "Jain",
                                    "num_track": "1"
                                },
                                {
                                    "artist_s_name": "Jordan Fisher, Josh Levi, Finneas O'Connell, 4*TOWN (From Disney and Pixar���s Turning Red), Topher Ngo, Grayson Vill",
                                    "num_track": "1"
                                },
                                {
                                    "artist_s_name": "Jos�� Felic",
                                    "num_track": "1"
                                },
                                {
                                    "artist_s_name": "Juan Cruz Toledo, Huilen Toledo",
                                    "num_track": "1"
                                },
                                {
                                    "artist_s_name": "Jin",
                                    "num_track": "1"
                                },
                                {
                                    "artist_s_name": "JISOO",
                                    "num_track": "1"
                                },
                                {
                                    "artist_s_name": "Jnr Choi",
                                    "num_track": "1"
                                },
                                {
                                    "artist_s_name": "John Legend",
                                    "num_track": "1"
                                },
                                {
                                    "artist_s_name": "John Legend, Metro Boomin",
                                    "num_track": "1"
                                },
                                {
                                    "artist_s_name": "John Lennon, The Harlem Community Choir, The Plastic Ono Band, Yoko Ono",
                                    "num_track": "1"
                                },
                                {
                                    "artist_s_name": "Julieta Venegas, Bad Bunny, Tainy",
                                    "num_track": "1"
                                },
                                {
                                    "artist_s_name": "James Blake, Metro Boomin",
                                    "num_track": "1"
                                },
                                {
                                    "artist_s_name": "James Hype, Miggy Dela Rosa",
                                    "num_track": "1"
                                },
                                {
                                    "artist_s_name": "Justin Bieber, Daniel Caesar, Giveon",
                                    "num_track": "1"
                                },
                                {
                                    "artist_s_name": "Justin Bieber, Don Toliver",
                                    "num_track": "1"
                                },
                                {
                                    "artist_s_name": "Justin Bieber, The Kid Laroi",
                                    "num_track": "1"
                                },
                                {
                                    "artist_s_name": "Justin Quiles, Lenny Tav��rez, BL",
                                    "num_track": "1"
                                },
                                {
                                    "artist_s_name": "Kaifi Khalil",
                                    "num_track": "1"
                                },
                                {
                                    "artist_s_name": "Kali Uchis",
                                    "num_track": "1"
                                },
                                {
                                    "artist_s_name": "Kali Uchis, Amaarae, Moliy",
                                    "num_track": "1"
                                },
                                {
                                    "artist_s_name": "Kaliii, Kaliii",
                                    "num_track": "1"
                                },
                                {
                                    "artist_s_name": "KALUSH",
                                    "num_track": "1"
                                },
                                {
                                    "artist_s_name": "Kanii, PR1ISVX",
                                    "num_track": "1"
                                },
                                {
                                    "artist_s_name": "Kanye West, Alicia Keys, Fivio Foreign",
                                    "num_track": "1"
                                },
                                {
                                    "artist_s_name": "Kanye West, Lil Durk, Cardi B",
                                    "num_track": "1"
                                },
                                {
                                    "artist_s_name": "Kanye West, XXXTENTACION",
                                    "num_track": "1"
                                },
                                {
                                    "artist_s_name": "Ayparia, unxbected",
                                    "num_track": "1"
                                },
                                {
                                    "artist_s_name": "Baby Rasta, Rauw Alejandro",
                                    "num_track": "1"
                                },
                                {
                                    "artist_s_name": "Baby Tate",
                                    "num_track": "1"
                                },
                                {
                                    "artist_s_name": "21 Savage, Gunna",
                                    "num_track": "1"
                                },
                                {
                                    "artist_s_name": "24kgoldn, Iann Dior",
                                    "num_track": "1"
                                },
                                {
                                    "artist_s_name": "50 Cent",
                                    "num_track": "1"
                                },
                                {
                                    "artist_s_name": "A$AP Rocky, Metro Boomin, Roisee",
                                    "num_track": "1"
                                },
                                {
                                    "artist_s_name": "Abhijay Sharma, Riar Saab",
                                    "num_track": "1"
                                },
                                {
                                    "artist_s_name": "Adassa, Mauro Castillo, Stephanie Beatriz, Encanto - Cast, Rhenzy Feliz, Diane Guerrero, Carolina Gaitan",
                                    "num_track": "1"
                                },
                                {
                                    "artist_s_name": "Arijit Singh, Sachin-Jigar",
                                    "num_track": "1"
                                },
                                {
                                    "artist_s_name": "Arijit Singh, Sachin-Jigar, Amitabha Bhattacharya",
                                    "num_track": "1"
                                },
                                {
                                    "artist_s_name": "Arijit Singh, Vishal Dadlani, Sukriti Kakar, Vishal-Shekhar, Shekhar Ravjiani, Kumaar",
                                    "num_track": "1"
                                },
                                {
                                    "artist_s_name": "Armani White",
                                    "num_track": "1"
                                },
                                {
                                    "artist_s_name": "Aventura, Bad Bunny",
                                    "num_track": "1"
                                },
                                {
                                    "artist_s_name": "Aerosmith",
                                    "num_track": "1"
                                },
                                {
                                    "artist_s_name": "Agust D",
                                    "num_track": "1"
                                },
                                {
                                    "artist_s_name": "a-ha",
                                    "num_track": "1"
                                },
                                {
                                    "artist_s_name": "Aitana, zzoilo",
                                    "num_track": "1"
                                },
                                {
                                    "artist_s_name": "Ak4:20, Cris Mj, Pailita",
                                    "num_track": "1"
                                },
                                {
                                    "artist_s_name": "Alec Benjamin",
                                    "num_track": "1"
                                },
                                {
                                    "artist_s_name": "Alvaro Diaz, Rauw Alejandro",
                                    "num_track": "1"
                                },
                                {
                                    "artist_s_name": "Ana Castela, AgroPlay",
                                    "num_track": "1"
                                },
                                {
                                    "artist_s_name": "Andy Williams",
                                    "num_track": "1"
                                },
                                {
                                    "artist_s_name": "Anggi Marito",
                                    "num_track": "1"
                                },
                                {
                                    "artist_s_name": "Anitta",
                                    "num_track": "1"
                                },
                                {
                                    "artist_s_name": "Anitta, Tini, Becky G",
                                    "num_track": "1"
                                },
                                {
                                    "artist_s_name": "AnnenMayKantereit, Giant Rooks",
                                    "num_track": "1"
                                },
                                {
                                    "artist_s_name": "Anuel Aa, Jhay Cortez",
                                    "num_track": "1"
                                },
                                {
                                    "artist_s_name": "Anuel Aa, Myke Towers, Jhay Cortez",
                                    "num_track": "1"
                                },
                                {
                                    "artist_s_name": "Arcangel, Bad Bunny",
                                    "num_track": "1"
                                },
                                {
                                    "artist_s_name": "Arcangel, Bizarrap",
                                    "num_track": "1"
                                },
                                {
                                    "artist_s_name": "Arcangel, De La Ghetto, Justin Quiles, Lenny Tav��rez, Sech, Dalex, Dimelo Flow, Rich Music",
                                    "num_track": "1"
                                },
                                {
                                    "artist_s_name": "Bad Bunny, Rauw Alejandro",
                                    "num_track": "1"
                                },
                                {
                                    "artist_s_name": "Bad Bunny, Tainy",
                                    "num_track": "1"
                                },
                                {
                                    "artist_s_name": "Bad Bunny, The Mar��",
                                    "num_track": "1"
                                },
                                {
                                    "artist_s_name": "Band Aid",
                                    "num_track": "1"
                                },
                                {
                                    "artist_s_name": "Beach House",
                                    "num_track": "1"
                                },
                                {
                                    "artist_s_name": "Beach Weather",
                                    "num_track": "1"
                                },
                                {
                                    "artist_s_name": "Bebe Rexha, David Guetta",
                                    "num_track": "1"
                                },
                                {
                                    "artist_s_name": "Becky G, Peso Pluma",
                                    "num_track": "1"
                                },
                                {
                                    "artist_s_name": "Bellakath",
                                    "num_track": "1"
                                },
                                {
                                    "artist_s_name": "Benson Boone",
                                    "num_track": "1"
                                },
                                {
                                    "artist_s_name": "Billie Eilish, Khalid",
                                    "num_track": "1"
                                },
                                {
                                    "artist_s_name": "Bing Crosby, John Scott Trotter & His Orchestra, Ken Darby Singers",
                                    "num_track": "1"
                                },
                                {
                                    "artist_s_name": "Bizarrap, Paulo Londra",
                                    "num_track": "1"
                                },
                                {
                                    "artist_s_name": "Bizarrap, Peso Pluma",
                                    "num_track": "1"
                                },
                                {
                                    "artist_s_name": "Bizarrap, Quevedo",
                                    "num_track": "1"
                                },
                                {
                                    "artist_s_name": "Bizarrap, Tiago pzk",
                                    "num_track": "1"
                                },
                                {
                                    "artist_s_name": "Bizarrap, Villano Antillano",
                                    "num_track": "1"
                                },
                                {
                                    "artist_s_name": "Blackbear, BoyWithUke",
                                    "num_track": "1"
                                },
                                {
                                    "artist_s_name": "Bad Bunny, Eladio Carrion",
                                    "num_track": "1"
                                },
                                {
                                    "artist_s_name": "Bad Bunny, Grupo Frontera",
                                    "num_track": "1"
                                },
                                {
                                    "artist_s_name": "Big One, Duki, Lit Killah, Maria Becerra, FMK, Rusherking, Emilia, Tiago pzk",
                                    "num_track": "1"
                                },
                                {
                                    "artist_s_name": "Big One, FMK, Ke personajes",
                                    "num_track": "1"
                                },
                                {
                                    "artist_s_name": "BIGBANG",
                                    "num_track": "1"
                                },
                                {
                                    "artist_s_name": "BLESSD, Peso Pluma",
                                    "num_track": "1"
                                },
                                {
                                    "artist_s_name": "Bobby Helms",
                                    "num_track": "1"
                                },
                                {
                                    "artist_s_name": "Bomba Est��reo, Bad B",
                                    "num_track": "1"
                                },
                                {
                                    "artist_s_name": "BoyWithUke",
                                    "num_track": "1"
                                },
                                {
                                    "artist_s_name": "Brenda Lee",
                                    "num_track": "1"
                                },
                                {
                                    "artist_s_name": "Britney Spears",
                                    "num_track": "1"
                                },
                                {
                                    "artist_s_name": "Brray, Rauw Alejandro, Lyanno",
                                    "num_track": "1"
                                },
                                {
                                    "artist_s_name": "De La Ghetto, Duki, Quevedo",
                                    "num_track": "1"
                                },
                                {
                                    "artist_s_name": "De La Ghetto, Feid, Polima WestCoast, Paloma Mami, Pailita",
                                    "num_track": "1"
                                },
                                {
                                    "artist_s_name": "Dean Lewis",
                                    "num_track": "1"
                                },
                                {
                                    "artist_s_name": "Dean Martin",
                                    "num_track": "1"
                                },
                                {
                                    "artist_s_name": "Demi Lovato",
                                    "num_track": "1"
                                },
                                {
                                    "artist_s_name": "dennis, MC Kevin o Chris",
                                    "num_track": "1"
                                },
                                {
                                    "artist_s_name": "DJ Escobar, MC MENOR SG, MC MENOR HR",
                                    "num_track": "1"
                                },
                                {
                                    "artist_s_name": "Dj LK da Esc��cia, Tchakabum, mc jhenny, M",
                                    "num_track": "1"
                                },
                                {
                                    "artist_s_name": "Doechii",
                                    "num_track": "1"
                                },
                                {
                                    "artist_s_name": "Danny Ocean",
                                    "num_track": "1"
                                },
                                {
                                    "artist_s_name": "Darlene Love",
                                    "num_track": "1"
                                },
                                {
                                    "artist_s_name": "Dave",
                                    "num_track": "1"
                                },
                                {
                                    "artist_s_name": "Dave, Central Cee",
                                    "num_track": "1"
                                },
                                {
                                    "artist_s_name": "David Guetta, Anne-Marie, Coi Leray",
                                    "num_track": "1"
                                },
                                {
                                    "artist_s_name": "David Guetta, Ella Henderson, Becky Hill",
                                    "num_track": "1"
                                },
                                {
                                    "artist_s_name": "David Guetta, Shakira, Black Eyed Peas",
                                    "num_track": "1"
                                },
                                {
                                    "artist_s_name": "Dua Lipa, DaBaby",
                                    "num_track": "1"
                                },
                                {
                                    "artist_s_name": "Dua Lipa, Elton John, Pnau",
                                    "num_track": "1"
                                },
                                {
                                    "artist_s_name": "Dua Lipa, Megan Thee Stallion",
                                    "num_track": "1"
                                },
                                {
                                    "artist_s_name": "Doja Cat, The Weeknd",
                                    "num_track": "1"
                                },
                                {
                                    "artist_s_name": "Don Omar, Lucenzo",
                                    "num_track": "1"
                                },
                                {
                                    "artist_s_name": "Don Toliver, Future, Justin Bieber",
                                    "num_track": "1"
                                },
                                {
                                    "artist_s_name": "Dove Cameron",
                                    "num_track": "1"
                                },
                                {
                                    "artist_s_name": "Dr. Dre, 2Pac, Roger",
                                    "num_track": "1"
                                },
                                {
                                    "artist_s_name": "Drake, DJ Khaled, Lil Baby",
                                    "num_track": "1"
                                },
                                {
                                    "artist_s_name": "Drake, Future, Tems",
                                    "num_track": "1"
                                },
                                {
                                    "artist_s_name": "Drake, Future, Young Thug",
                                    "num_track": "1"
                                },
                                {
                                    "artist_s_name": "Drake, Project Pat, 21 Savage",
                                    "num_track": "1"
                                },
                                {
                                    "artist_s_name": "Drake, Travis Scott",
                                    "num_track": "1"
                                },
                                {
                                    "artist_s_name": "Drake, Travis Scott, 21 Savage",
                                    "num_track": "1"
                                },
                                {
                                    "artist_s_name": "Drake, WizKid, Kyla",
                                    "num_track": "1"
                                },
                                {
                                    "artist_s_name": "Charlie Puth, BTS, Jung Kook",
                                    "num_track": "1"
                                },
                                {
                                    "artist_s_name": "Chase Atlantic",
                                    "num_track": "1"
                                },
                                {
                                    "artist_s_name": "Chencho Corleone, Bad Bunny",
                                    "num_track": "1"
                                },
                                {
                                    "artist_s_name": "Chencho Corleone, Rauw Alejandro",
                                    "num_track": "1"
                                },
                                {
                                    "artist_s_name": "Cherish, ACRAZE",
                                    "num_track": "1"
                                },
                                {
                                    "artist_s_name": "Childish Gambino",
                                    "num_track": "1"
                                },
                                {
                                    "artist_s_name": "Chino Pacas",
                                    "num_track": "1"
                                },
                                {
                                    "artist_s_name": "Chris Brown",
                                    "num_track": "1"
                                },
                                {
                                    "artist_s_name": "Chris Brown, Rvssian, Rauw Alejandro",
                                    "num_track": "1"
                                },
                                {
                                    "artist_s_name": "Chris Molitor",
                                    "num_track": "1"
                                },
                                {
                                    "artist_s_name": "Chris Rea",
                                    "num_track": "1"
                                },
                                {
                                    "artist_s_name": "Christian Nodal",
                                    "num_track": "1"
                                },
                                {
                                    "artist_s_name": "Chuck Berry",
                                    "num_track": "1"
                                },
                                {
                                    "artist_s_name": "Cigarettes After Sex",
                                    "num_track": "1"
                                },
                                {
                                    "artist_s_name": "Ckay",
                                    "num_track": "1"
                                },
                                {
                                    "artist_s_name": "Ckay, AX'EL, Dj Yo!",
                                    "num_track": "1"
                                },
                                {
                                    "artist_s_name": "Coi Leray",
                                    "num_track": "1"
                                },
                                {
                                    "artist_s_name": "Buscabulla, Bad Bunny",
                                    "num_track": "1"
                                },
                                {
                                    "artist_s_name": "BYOR, Imanbek",
                                    "num_track": "1"
                                },
                                {
                                    "artist_s_name": "C. Tangana",
                                    "num_track": "1"
                                },
                                {
                                    "artist_s_name": "Calvin Harris, Dua Lipa",
                                    "num_track": "1"
                                },
                                {
                                    "artist_s_name": "Calvin Harris, Dua Lipa, Young Thug",
                                    "num_track": "1"
                                },
                                {
                                    "artist_s_name": "Calvin Harris, Ellie Goulding",
                                    "num_track": "1"
                                },
                                {
                                    "artist_s_name": "Calvin Harris, Halsey, Pharrell Williams, Justin Timberlake",
                                    "num_track": "1"
                                },
                                {
                                    "artist_s_name": "Camila Cabello, Ed Sheeran",
                                    "num_track": "1"
                                },
                                {
                                    "artist_s_name": "Camila Cabello, Willow",
                                    "num_track": "1"
                                },
                                {
                                    "artist_s_name": "Carin Leon",
                                    "num_track": "1"
                                },
                                {
                                    "artist_s_name": "Carin Leon, Grupo Frontera",
                                    "num_track": "1"
                                },
                                {
                                    "artist_s_name": "Cartel De Santa, La Kelly",
                                    "num_track": "1"
                                },
                                {
                                    "artist_s_name": "Chanel",
                                    "num_track": "1"
                                },
                                {
                                    "artist_s_name": "Charli XCX, Jax Jones, Joel Corry, Saweetie",
                                    "num_track": "1"
                                },
                                {
                                    "artist_s_name": "BTS, Jung Kook, FIFA Sound",
                                    "num_track": "1"
                                },
                                {
                                    "artist_s_name": "Burl Ives",
                                    "num_track": "1"
                                },
                                {
                                    "artist_s_name": "Coldplay, BTS",
                                    "num_track": "1"
                                },
                                {
                                    "artist_s_name": "Conan Gray",
                                    "num_track": "1"
                                },
                                {
                                    "artist_s_name": "Coolio, L.V.",
                                    "num_track": "1"
                                },
                                {
                                    "artist_s_name": "Creedence Clearwater Revival",
                                    "num_track": "1"
                                },
                                {
                                    "artist_s_name": "Cris Mj",
                                    "num_track": "1"
                                }
                            ]
                        },
                        "text/html": [
                            "<table>",
                            "<tr><th>artist_s_name</th><th>num_track</th></tr>",
                            "<tr><td>Taylor Swift</td><td>34</td></tr>",
                            "<tr><td>The Weeknd</td><td>22</td></tr>",
                            "<tr><td>SZA</td><td>19</td></tr>",
                            "<tr><td>Bad Bunny</td><td>19</td></tr>",
                            "<tr><td>Harry Styles</td><td>17</td></tr>",
                            "<tr><td>Kendrick Lamar</td><td>12</td></tr>",
                            "<tr><td>Morgan Wallen</td><td>11</td></tr>",
                            "<tr><td>Ed Sheeran</td><td>9</td></tr>",
                            "<tr><td>Feid</td><td>8</td></tr>",
                            "<tr><td>BTS</td><td>8</td></tr>",
                            "<tr><td>Drake, 21 Savage</td><td>8</td></tr>",
                            "<tr><td>Labrinth</td><td>7</td></tr>",
                            "<tr><td>Olivia Rodrigo</td><td>7</td></tr>",
                            "<tr><td>NewJeans</td><td>6</td></tr>",
                            "<tr><td>Doja Cat</td><td>6</td></tr>",
                            "<tr><td>Billie Eilish</td><td>5</td></tr>",
                            "<tr><td>Bruno Mars</td><td>4</td></tr>",
                            "<tr><td>Adele</td><td>4</td></tr>",
                            "<tr><td>Arctic Monkeys</td><td>4</td></tr>",
                            "<tr><td>Karol G</td><td>4</td></tr>",
                            "<tr><td>Drake</td><td>4</td></tr>",
                            "<tr><td>Eminem</td><td>4</td></tr>",
                            "<tr><td>IVE</td><td>4</td></tr>",
                            "<tr><td>Quevedo</td><td>4</td></tr>",
                            "<tr><td>M��ne</td><td>4</td></tr>",
                            "<tr><td>Lewis Capaldi</td><td>3</td></tr>",
                            "<tr><td>Lil Nas X</td><td>3</td></tr>",
                            "<tr><td>Lizzo</td><td>3</td></tr>",
                            "<tr><td>Post Malone</td><td>3</td></tr>",
                            "<tr><td>The Neighbourhood</td><td>3</td></tr>",
                            "<tr><td>Shawn Mendes</td><td>3</td></tr>",
                            "<tr><td>Steve Lacy</td><td>3</td></tr>",
                            "<tr><td>Tyler, The Creator</td><td>3</td></tr>",
                            "<tr><td>Imagine Dragons</td><td>3</td></tr>",
                            "<tr><td>ENHYPEN</td><td>3</td></tr>",
                            "<tr><td>Lana Del Rey</td><td>3</td></tr>",
                            "<tr><td>Jack Harlow</td><td>3</td></tr>",
                            "<tr><td>Jimin</td><td>3</td></tr>",
                            "<tr><td>Joji</td><td>3</td></tr>",
                            "<tr><td>Justin Bieber</td><td>3</td></tr>",
                            "<tr><td>Kanye West</td><td>3</td></tr>",
                            "<tr><td>Beyonc�</td><td>3</td></tr>",
                            "<tr><td>BLACKPINK</td><td>3</td></tr>",
                            "<tr><td>Dua Lipa</td><td>3</td></tr>",
                            "<tr><td>Coldplay</td><td>3</td></tr>",
                            "<tr><td>Central Cee</td><td>2</td></tr>",
                            "<tr><td>Burna Boy</td><td>2</td></tr>",
                            "<tr><td>Charlie Puth</td><td>2</td></tr>",
                            "<tr><td>d4vd</td><td>2</td></tr>",
                            "<tr><td>Daddy Yankee</td><td>2</td></tr>",
                            "<tr><td>Daddy Yankee, Bad Bunny</td><td>2</td></tr>",
                            "<tr><td>David Kushner</td><td>2</td></tr>",
                            "<tr><td>Bruno Mars, Anderson .Paak, Silk Sonic</td><td>2</td></tr>",
                            "<tr><td>Bad Bunny, Jhay Cortez</td><td>2</td></tr>",
                            "<tr><td>Ariana Grande</td><td>2</td></tr>",
                            "<tr><td>Ariana Grande, The Weeknd</td><td>2</td></tr>",
                            "<tr><td>(G)I-DLE</td><td>2</td></tr>",
                            "<tr><td>Avicii</td><td>2</td></tr>",
                            "<tr><td>JVKE</td><td>2</td></tr>",
                            "<tr><td>James Arthur</td><td>2</td></tr>",
                            "<tr><td>Juice WRLD</td><td>2</td></tr>",
                            "<tr><td>Hotel Ugly</td><td>2</td></tr>",
                            "<tr><td>Jasiel Nu��ez, Peso P</td><td>2</td></tr>",
                            "<tr><td>Jung Kook</td><td>2</td></tr>",
                            "<tr><td>Fifty Fifty</td><td>2</td></tr>",
                            "<tr><td>Frank Ocean</td><td>2</td></tr>",
                            "<tr><td>Eminem, Dr. Dre</td><td>2</td></tr>",
                            "<tr><td>Dr. Dre, Snoop Dogg</td><td>2</td></tr>",
                            "<tr><td>Duki</td><td>2</td></tr>",
                            "<tr><td>Fuerza Regida</td><td>2</td></tr>",
                            "<tr><td>Future</td><td>2</td></tr>",
                            "<tr><td>The Weeknd, Gesaffelstein</td><td>2</td></tr>",
                            "<tr><td>ThxSoMch</td><td>2</td></tr>",
                            "<tr><td>Troye Sivan</td><td>2</td></tr>",
                            "<tr><td>TWICE</td><td>2</td></tr>",
                            "<tr><td>XXXTENTACION</td><td>2</td></tr>",
                            "<tr><td>Yandel, Feid</td><td>2</td></tr>",
                            "<tr><td>YEAT</td><td>2</td></tr>",
                            "<tr><td>Tate McRae</td><td>2</td></tr>",
                            "<tr><td>Stray Kids</td><td>2</td></tr>",
                            "<tr><td>Sebastian Yatra</td><td>2</td></tr>",
                            "<tr><td>Sia</td><td>2</td></tr>",
                            "<tr><td>The Kid Laroi</td><td>2</td></tr>",
                            "<tr><td>Rosa Linn</td><td>2</td></tr>",
                            "<tr><td>ROSAL�</td><td>2</td></tr>",
                            "<tr><td>Rauw Alejandro</td><td>2</td></tr>",
                            "<tr><td>Rauw Alejandro, Bizarrap</td><td>2</td></tr>",
                            "<tr><td>RAYE, 070 Shake</td><td>2</td></tr>",
                            "<tr><td>Ryan Castro</td><td>2</td></tr>",
                            "<tr><td>Nicki Minaj</td><td>2</td></tr>",
                            "<tr><td>Nicki Minaj, Lil Baby</td><td>2</td></tr>",
                            "<tr><td>OneRepublic</td><td>2</td></tr>",
                            "<tr><td>Paulo Londra</td><td>2</td></tr>",
                            "<tr><td>Nirvana</td><td>2</td></tr>",
                            "<tr><td>Peso Pluma</td><td>2</td></tr>",
                            "<tr><td>Mambo Kingz, DJ Luian, Anuel Aa</td><td>2</td></tr>",
                            "<tr><td>Linkin Park</td><td>2</td></tr>",
                            "<tr><td>Michael Bubl�</td><td>2</td></tr>",
                            "<tr><td>Lil Baby</td><td>2</td></tr>",
                            "<tr><td>Lady Gaga</td><td>2</td></tr>",
                            "<tr><td>LE SSERAFIM</td><td>2</td></tr>",
                            "<tr><td>Junior H, Peso Pluma</td><td>2</td></tr>",
                            "<tr><td>Miley Cyrus</td><td>2</td></tr>",
                            "<tr><td>Nat King Cole</td><td>2</td></tr>",
                            "<tr><td>Natanael Cano</td><td>1</td></tr>",
                            "<tr><td>Natanael Cano, Gabito Ballesteros, Peso Pluma</td><td>1</td></tr>",
                            "<tr><td>Natanael Cano, Peso Pluma</td><td>1</td></tr>",
                            "<tr><td>Nayeon</td><td>1</td></tr>",
                            "<tr><td>NEIKED, Mae Muller, Polo G</td><td>1</td></tr>",
                            "<tr><td>Nengo Flow, Anuel Aa, Chris Jedi, Chencho Corleone</td><td>1</td></tr>",
                            "<tr><td>Nengo Flow, Bad Bunny</td><td>1</td></tr>",
                            "<tr><td>Nessa Barrett</td><td>1</td></tr>",
                            "<tr><td>New West</td><td>1</td></tr>",
                            "<tr><td>MNEK, Jax Jones</td><td>1</td></tr>",
                            "<tr><td>Morgan Wallen, Eric Church</td><td>1</td></tr>",
                            "<tr><td>Mr.Kitty</td><td>1</td></tr>",
                            "<tr><td>Muni Long</td><td>1</td></tr>",
                            "<tr><td>Musical Youth</td><td>1</td></tr>",
                            "<tr><td>Myke Towers</td><td>1</td></tr>",
                            "<tr><td>Myke Towers, Quevedo</td><td>1</td></tr>",
                            "<tr><td>Leah Kate</td><td>1</td></tr>",
                            "<tr><td>Leo Santana</td><td>1</td></tr>",
                            "<tr><td>Lady Gaga, Bradley Cooper</td><td>1</td></tr>",
                            "<tr><td>Lil Durk, Morgan Wallen</td><td>1</td></tr>",
                            "<tr><td>LF System</td><td>1</td></tr>",
                            "<tr><td>Libianca</td><td>1</td></tr>",
                            "<tr><td>Migrantes, LiL CaKe, Nico Valdi</td><td>1</td></tr>",
                            "<tr><td>Miguel</td><td>1</td></tr>",
                            "<tr><td>Lisa</td><td>1</td></tr>",
                            "<tr><td>Lit Killah, Maria Becerra, Tiago pzk, NICKI NICOLE</td><td>1</td></tr>",
                            "<tr><td>Lil Tjay</td><td>1</td></tr>",
                            "<tr><td>Lil Uzi Vert</td><td>1</td></tr>",
                            "<tr><td>Lil Yachty</td><td>1</td></tr>",
                            "<tr><td>Manuel Turizo</td><td>1</td></tr>",
                            "<tr><td>Maria Becerra</td><td>1</td></tr>",
                            "<tr><td>Mariah Carey</td><td>1</td></tr>",
                            "<tr><td>Mar��lia Mendo</td><td>1</td></tr>",
                            "<tr><td>Mar��lia Mendon��a, George Henrique &amp;</td><td>1</td></tr>",
                            "<tr><td>Mar��lia Mendon��a, Hugo &amp; G</td><td>1</td></tr>",
                            "<tr><td>Mar��lia Mendon��a, Maiara &amp;</td><td>1</td></tr>",
                            "<tr><td>Maroon 5</td><td>1</td></tr>",
                            "<tr><td>Maroon 5, Wiz Khalifa</td><td>1</td></tr>",
                            "<tr><td>Marshmello, Jonas Brothers</td><td>1</td></tr>",
                            "<tr><td>Marshmello, Juice WRLD</td><td>1</td></tr>",
                            "<tr><td>Marshmello, Khalid</td><td>1</td></tr>",
                            "<tr><td>Marshmello, Manuel Turizo</td><td>1</td></tr>",
                            "<tr><td>Masked Wolf</td><td>1</td></tr>",
                            "<tr><td>Matu��, Wiu, </td><td>1</td></tr>",
                            "<tr><td>MC Caverinha, KayBlack</td><td>1</td></tr>",
                            "<tr><td>Mc Livinho, DJ Matt D</td><td>1</td></tr>",
                            "<tr><td>Mc Pedrinho, DJ 900</td><td>1</td></tr>",
                            "<tr><td>Mc Pedrinho, Pedro Sampaio</td><td>1</td></tr>",
                            "<tr><td>MC Ryan SP, Love Funk, Mc Paiva ZS</td><td>1</td></tr>",
                            "<tr><td>Mc Vitin Da Igrejinha, MC Tairon, DJ Win</td><td>1</td></tr>",
                            "<tr><td>MC Xenon, Os Gemeos da Putaria</td><td>1</td></tr>",
                            "<tr><td>Meghan Trainor</td><td>1</td></tr>",
                            "<tr><td>Melanie Martinez</td><td>1</td></tr>",
                            "<tr><td>Melody, Ana Castela, Dj Chris No Beat</td><td>1</td></tr>",
                            "<tr><td>Metallica</td><td>1</td></tr>",
                            "<tr><td>Metro Boomin, Coi Leray</td><td>1</td></tr>",
                            "<tr><td>Lizzy McAlpine</td><td>1</td></tr>",
                            "<tr><td>Lord Huron</td><td>1</td></tr>",
                            "<tr><td>Loreen</td><td>1</td></tr>",
                            "<tr><td>Lost Frequencies, Calum Scott</td><td>1</td></tr>",
                            "<tr><td>Luar La L</td><td>1</td></tr>",
                            "<tr><td>Luciano</td><td>1</td></tr>",
                            "<tr><td>Luciano, Aitch, B�</td><td>1</td></tr>",
                            "<tr><td>Ludwig Goransson, Foudeqush</td><td>1</td></tr>",
                            "<tr><td>Luis R Conriquez, La Adictiva</td><td>1</td></tr>",
                            "<tr><td>Luke Combs</td><td>1</td></tr>",
                            "<tr><td>Lu��sa Sonza, MC Frog, Dj Gabriel do Borel, Davi K</td><td>1</td></tr>",
                            "<tr><td>Luude, Colin Hay</td><td>1</td></tr>",
                            "<tr><td>Mabel Matiz, Mert Demir</td><td>1</td></tr>",
                            "<tr><td>Mac DeMarco</td><td>1</td></tr>",
                            "<tr><td>Mae Stephens</td><td>1</td></tr>",
                            "<tr><td>Mahalini</td><td>1</td></tr>",
                            "<tr><td>Mahmood, Blanco</td><td>1</td></tr>",
                            "<tr><td>Mainstreet, Chefin</td><td>1</td></tr>",
                            "<tr><td>Maldy, Karol G</td><td>1</td></tr>",
                            "<tr><td>Maluma</td><td>1</td></tr>",
                            "<tr><td>Peso Pluma, Grupo Frontera</td><td>1</td></tr>",
                            "<tr><td>Peso Pluma, Luis R Conriquez</td><td>1</td></tr>",
                            "<tr><td>Peso Pluma, Yng Lvcas</td><td>1</td></tr>",
                            "<tr><td>Pharrell Williams, Nile Rodgers, Daft Punk</td><td>1</td></tr>",
                            "<tr><td>Pharrell Williams, Tyler, The Creator, 21 Savage</td><td>1</td></tr>",
                            "<tr><td>PinkPantheress</td><td>1</td></tr>",
                            "<tr><td>PinkPantheress, Ice Spice</td><td>1</td></tr>",
                            "<tr><td>Plan B</td><td>1</td></tr>",
                            "<tr><td>Playboi Carti</td><td>1</td></tr>",
                            "<tr><td>PnB Rock</td><td>1</td></tr>",
                            "<tr><td>Polima WestCoast, Pailita</td><td>1</td></tr>",
                            "<tr><td>Polo G</td><td>1</td></tr>",
                            "<tr><td>NLE Choppa</td><td>1</td></tr>",
                            "<tr><td>NMIXX</td><td>1</td></tr>",
                            "<tr><td>Offset, JID</td><td>1</td></tr>",
                            "<tr><td>Olga Merediz, Stephanie Beatriz, Encanto - Cast</td><td>1</td></tr>",
                            "<tr><td>Oliver Tree</td><td>1</td></tr>",
                            "<tr><td>Peggy Gou</td><td>1</td></tr>",
                            "<tr><td>Perry Como, The Fontane Sisters, Mitchell Ayres &amp; His Orchestra</td><td>1</td></tr>",
                            "<tr><td>Omar Apollo</td><td>1</td></tr>",
                            "<tr><td>One Direction</td><td>1</td></tr>",
                            "<tr><td>Oscar Maydon, Junior H</td><td>1</td></tr>",
                            "<tr><td>Ovy On The Drums, Quevedo</td><td>1</td></tr>",
                            "<tr><td>Oxlade</td><td>1</td></tr>",
                            "<tr><td>Ozuna, Feid</td><td>1</td></tr>",
                            "<tr><td>Ozuna, Shakira</td><td>1</td></tr>",
                            "<tr><td>Ozuna, Tiago pzk</td><td>1</td></tr>",
                            "<tr><td>P!nk</td><td>1</td></tr>",
                            "<tr><td>Paloma Faith</td><td>1</td></tr>",
                            "<tr><td>Panic! At The Disco</td><td>1</td></tr>",
                            "<tr><td>Paul McCartney</td><td>1</td></tr>",
                            "<tr><td>Nicky Jam, Feid</td><td>1</td></tr>",
                            "<tr><td>Nicky Youre, Dazy</td><td>1</td></tr>",
                            "<tr><td>NIKI</td><td>1</td></tr>",
                            "<tr><td>Nile Rodgers, LE SSERAFIM</td><td>1</td></tr>",
                            "<tr><td>Nicki Minaj, Aqua, Ice Spice</td><td>1</td></tr>",
                            "<tr><td>Nicki Minaj, Ice Spice</td><td>1</td></tr>",
                            "<tr><td>NF</td><td>1</td></tr>",
                            "<tr><td>Niall Horan</td><td>1</td></tr>",
                            "<tr><td>Sabrina Carpenter</td><td>1</td></tr>",
                            "<tr><td>Sachin-Jigar, Shadab Faridi, Altamash Faridi, Amitabh Bhattacharya, Varun Jain</td><td>1</td></tr>",
                            "<tr><td>SALES</td><td>1</td></tr>",
                            "<tr><td>Sam Ryder</td><td>1</td></tr>",
                            "<tr><td>Sam Smith</td><td>1</td></tr>",
                            "<tr><td>Sam Smith, Calvin Harris, Jessie Reyez</td><td>1</td></tr>",
                            "<tr><td>Sam Smith, Kim Petras</td><td>1</td></tr>",
                            "<tr><td>Sch��rze, DJ R</td><td>1</td></tr>",
                            "<tr><td>Seafret</td><td>1</td></tr>",
                            "<tr><td>Sean Paul, Dua Lipa</td><td>1</td></tr>",
                            "<tr><td>Sean Paul, Feid</td><td>1</td></tr>",
                            "<tr><td>Rels B</td><td>1</td></tr>",
                            "<tr><td>Residente, Bizarrap</td><td>1</td></tr>",
                            "<tr><td>Rex Orange County</td><td>1</td></tr>",
                            "<tr><td>Rich The Kid, Matu�</td><td>1</td></tr>",
                            "<tr><td>Rihanna</td><td>1</td></tr>",
                            "<tr><td>Rihanna, Calvin Harris</td><td>1</td></tr>",
                            "<tr><td>Riton, Nightcrawlers, Mufasa &amp; Hypeman, Dopamine</td><td>1</td></tr>",
                            "<tr><td>RM</td><td>1</td></tr>",
                            "<tr><td>RM, Colde</td><td>1</td></tr>",
                            "<tr><td>R��ma, Selena G</td><td>1</td></tr>",
                            "<tr><td>Robin Schulz, Oliver Tree</td><td>1</td></tr>",
                            "<tr><td>Rauw Alejandro, ROSAL�</td><td>1</td></tr>",
                            "<tr><td>Ray Dalton, Ryan Lewis, Macklemore</td><td>1</td></tr>",
                            "<tr><td>Quevedo, Jhayco</td><td>1</td></tr>",
                            "<tr><td>Quevedo, La Pantera, Juseph, Cruz Cafun��, B��jo, Abhir Hathi</td><td>1</td></tr>",
                            "<tr><td>R��</td><td>1</td></tr>",
                            "<tr><td>Radiohead</td><td>1</td></tr>",
                            "<tr><td>Raim Laode</td><td>1</td></tr>",
                            "<tr><td>Post Malone, Doja Cat</td><td>1</td></tr>",
                            "<tr><td>Post Malone, Roddy Ricch</td><td>1</td></tr>",
                            "<tr><td>Post Malone, Swae Lee</td><td>1</td></tr>",
                            "<tr><td>Prezioso, Gabry Ponte, LUM!X</td><td>1</td></tr>",
                            "<tr><td>Pritam, Arijit Singh, Amitabh Bhattacharya</td><td>1</td></tr>",
                            "<tr><td>PSY, Suga</td><td>1</td></tr>",
                            "<tr><td>Queen</td><td>1</td></tr>",
                            "<tr><td>Ruth B.</td><td>1</td></tr>",
                            "<tr><td>Rosa Walton, Hallie Coggins</td><td>1</td></tr>",
                            "<tr><td>The Killers</td><td>1</td></tr>",
                            "<tr><td>Shawn Mendes, Camila Cabello</td><td>1</td></tr>",
                            "<tr><td>Shubh</td><td>1</td></tr>",
                            "<tr><td>The Police</td><td>1</td></tr>",
                            "<tr><td>The Rare Occasions</td><td>1</td></tr>",
                            "<tr><td>The Ronettes</td><td>1</td></tr>",
                            "<tr><td>The Walters</td><td>1</td></tr>",
                            "<tr><td>The Weeknd, 21 Savage, Metro Boomin</td><td>1</td></tr>",
                            "<tr><td>The Weeknd, Daft Punk</td><td>1</td></tr>",
                            "<tr><td>The Weeknd, Future</td><td>1</td></tr>",
                            "<tr><td>SZA, Doja Cat</td><td>1</td></tr>",
                            "<tr><td>SZA, Don Toliver</td><td>1</td></tr>",
                            "<tr><td>SZA, Phoebe Bridgers</td><td>1</td></tr>",
                            "<tr><td>SZA, Travis Scott</td><td>1</td></tr>",
                            "<tr><td>TAEYANG, Jimin</td><td>1</td></tr>",
                            "<tr><td>TAEYANG, Lisa</td><td>1</td></tr>",
                            "<tr><td>Tainy, Bad Bunny</td><td>1</td></tr>",
                            "<tr><td>Taiu, Milo j</td><td>1</td></tr>",
                            "<tr><td>Taylor Swift, Ice Spice</td><td>1</td></tr>",
                            "<tr><td>Taylor Swift, Lana Del Rey</td><td>1</td></tr>",
                            "<tr><td>Tears For Fears</td><td>1</td></tr>",
                            "<tr><td>teto</td><td>1</td></tr>",
                            "<tr><td>THE ANXIETY, Willow, Tyler Cole</td><td>1</td></tr>",
                            "<tr><td>The Chainsmokers, Coldplay</td><td>1</td></tr>",
                            "<tr><td>The Chainsmokers, Halsey</td><td>1</td></tr>",
                            "<tr><td>The Goo Goo Dolls</td><td>1</td></tr>",
                            "<tr><td>Sidhu Moose Wala</td><td>1</td></tr>",
                            "<tr><td>SiM</td><td>1</td></tr>",
                            "<tr><td>Simone Mendes</td><td>1</td></tr>",
                            "<tr><td>Skrillex, Flowdan, Fred again..</td><td>1</td></tr>",
                            "<tr><td>Sleepy hallow</td><td>1</td></tr>",
                            "<tr><td>Sleepy hallow, 347aidan</td><td>1</td></tr>",
                            "<tr><td>Snoop Dogg, BTS, Benny Blanco</td><td>1</td></tr>",
                            "<tr><td>Sofia Carson</td><td>1</td></tr>",
                            "<tr><td>Sog, Ryan Castro, Peso Pluma</td><td>1</td></tr>",
                            "<tr><td>Southstar</td><td>1</td></tr>",
                            "<tr><td>sped up 8282</td><td>1</td></tr>",
                            "<tr><td>sped up nightcore, ARIZONATEARS, Lil Uzi Vert</td><td>1</td></tr>",
                            "<tr><td>Stephanie Beatriz, Diane Guerrero</td><td>1</td></tr>",
                            "<tr><td>Stephen Sanchez</td><td>1</td></tr>",
                            "<tr><td>Steve Aoki, Tini, La Joaqui</td><td>1</td></tr>",
                            "<tr><td>Sebastian Yatra, Manuel Turizo, Be��</td><td>1</td></tr>",
                            "<tr><td>Sech, Bad Bunny, Mora</td><td>1</td></tr>",
                            "<tr><td>Sech, Mora</td><td>1</td></tr>",
                            "<tr><td>Selena Gomez</td><td>1</td></tr>",
                            "<tr><td>Semicenk, Do��u </td><td>1</td></tr>",
                            "<tr><td>SEVENTEEN</td><td>1</td></tr>",
                            "<tr><td>Shae Gill, Ali Sethi</td><td>1</td></tr>",
                            "<tr><td>Shakin&#39; Stevens</td><td>1</td></tr>",
                            "<tr><td>Shakira</td><td>1</td></tr>",
                            "<tr><td>Shakira, Bizarrap</td><td>1</td></tr>",
                            "<tr><td>Shakira, Rauw Alejandro</td><td>1</td></tr>",
                            "<tr><td>Stromae</td><td>1</td></tr>",
                            "<tr><td>Styrx, utku INC, Thezth</td><td>1</td></tr>",
                            "<tr><td>Suki Waterhouse</td><td>1</td></tr>",
                            "<tr><td>Surf Curse</td><td>1</td></tr>",
                            "<tr><td>Swae Lee, A Boogie Wit da Hoodie, Metro Boomin, NAV</td><td>1</td></tr>",
                            "<tr><td>Swae Lee, Lil Wayne, Offset, Metro Boomin</td><td>1</td></tr>",
                            "<tr><td>Yng Lvcas</td><td>1</td></tr>",
                            "<tr><td>YOASOBI</td><td>1</td></tr>",
                            "<tr><td>Young Thug, Future, Gunna</td><td>1</td></tr>",
                            "<tr><td>Yung Gravy</td><td>1</td></tr>",
                            "<tr><td>Yung Lean</td><td>1</td></tr>",
                            "<tr><td>Yuridia, Angela Aguilar</td><td>1</td></tr>",
                            "<tr><td>Z�� Fe</td><td>1</td></tr>",
                            "<tr><td>Z�� Neto &amp; Crist</td><td>1</td></tr>",
                            "<tr><td>Zach Bryan</td><td>1</td></tr>",
                            "<tr><td>Zion &amp; Lennox</td><td>1</td></tr>",
                            "<tr><td>Yahritza Y Su Esencia</td><td>1</td></tr>",
                            "<tr><td>Yahritza Y Su Esencia, Grupo Frontera</td><td>1</td></tr>",
                            "<tr><td>Twisted, Oliver Tree</td><td>1</td></tr>",
                            "<tr><td>Tyga, Doja Cat</td><td>1</td></tr>",
                            "<tr><td>Trueno</td><td>1</td></tr>",
                            "<tr><td>Trueno, Tiago pzk</td><td>1</td></tr>",
                            "<tr><td>Tulus</td><td>1</td></tr>",
                            "<tr><td>TV Girl</td><td>1</td></tr>",
                            "<tr><td>Ti��</td><td>1</td></tr>",
                            "<tr><td>Tini</td><td>1</td></tr>",
                            "<tr><td>Tini, L-Gante</td><td>1</td></tr>",
                            "<tr><td>Tini, Maria Becerra</td><td>1</td></tr>",
                            "<tr><td>Ti��sto, Ava</td><td>1</td></tr>",
                            "<tr><td>Ti��sto, Kar</td><td>1</td></tr>",
                            "<tr><td>Ti��sto, Tate M</td><td>1</td></tr>",
                            "<tr><td>Tom Odell</td><td>1</td></tr>",
                            "<tr><td>TOMORROW X TOGETHER</td><td>1</td></tr>",
                            "<tr><td>Tones and I</td><td>1</td></tr>",
                            "<tr><td>Tony Dize, Bad Bunny</td><td>1</td></tr>",
                            "<tr><td>Tory Lanez</td><td>1</td></tr>",
                            "<tr><td>Travis Scott, 21 Savage, Metro Boomin</td><td>1</td></tr>",
                            "<tr><td>Travis Scott, Metro Boomin</td><td>1</td></tr>",
                            "<tr><td>Travis Scott, Young Thug, Metro Boomin</td><td>1</td></tr>",
                            "<tr><td>Treasure</td><td>1</td></tr>",
                            "<tr><td>Treyce</td><td>1</td></tr>",
                            "<tr><td>The Weeknd, Lana Del Rey</td><td>1</td></tr>",
                            "<tr><td>The Weeknd, Lil Wayne</td><td>1</td></tr>",
                            "<tr><td>The Weeknd, Madonna, Playboi Carti</td><td>1</td></tr>",
                            "<tr><td>The Weeknd, Post Malone</td><td>1</td></tr>",
                            "<tr><td>The Weeknd, ROSAL�</td><td>1</td></tr>",
                            "<tr><td>The Weeknd, Swedish House Mafia</td><td>1</td></tr>",
                            "<tr><td>The Weeknd, Tyler, The Creator</td><td>1</td></tr>",
                            "<tr><td>Tyler, The Creator, Kali Uchis</td><td>1</td></tr>",
                            "<tr><td>Ugly Dray, Tesla Jnr</td><td>1</td></tr>",
                            "<tr><td>V</td><td>1</td></tr>",
                            "<tr><td>Vance Joy</td><td>1</td></tr>",
                            "<tr><td>Veigh, Bvga Beatz, Supernova Ent, Prod Malax</td><td>1</td></tr>",
                            "<tr><td>Victor Cibrian</td><td>1</td></tr>",
                            "<tr><td>Vishal-Shekhar, Shilpa Rao, Caralisa Monteiro, Kumaar, Vishal Dadlani, Shekhar Ravjiani</td><td>1</td></tr>",
                            "<tr><td>Vundabar</td><td>1</td></tr>",
                            "<tr><td>Wham!</td><td>1</td></tr>",
                            "<tr><td>Willow</td><td>1</td></tr>",
                            "<tr><td>Wisin &amp; Yandel, ROSAL�</td><td>1</td></tr>",
                            "<tr><td>WizKid, Toian, Metro Boomin, Don Toliver, Beam</td><td>1</td></tr>",
                            "<tr><td>Xam��, Gustah, Neo B</td><td>1</td></tr>",
                            "<tr><td>Future, Chris Brown, Metro Boomin</td><td>1</td></tr>",
                            "<tr><td>Future, Lil Uzi Vert, Metro Boomin</td><td>1</td></tr>",
                            "<tr><td>Future, Metro Boomin, Don Toliver</td><td>1</td></tr>",
                            "<tr><td>Gabito Ballesteros, Junior H, Peso Pluma</td><td>1</td></tr>",
                            "<tr><td>Gayle</td><td>1</td></tr>",
                            "<tr><td>Ghost</td><td>1</td></tr>",
                            "<tr><td>girl in red</td><td>1</td></tr>",
                            "<tr><td>Giveon</td><td>1</td></tr>",
                            "<tr><td>Glass Animals</td><td>1</td></tr>",
                            "<tr><td>GODZZ__-, Zakaria</td><td>1</td></tr>",
                            "<tr><td>Gorillaz, Bad Bunny</td><td>1</td></tr>",
                            "<tr><td>Gotye, Kimbra</td><td>1</td></tr>",
                            "<tr><td>Grupo Frontera</td><td>1</td></tr>",
                            "<tr><td>Grupo Marca Registrada, Grupo Frontera</td><td>1</td></tr>",
                            "<tr><td>Grupo Marca Registrada, Junior H</td><td>1</td></tr>",
                            "<tr><td>Gunna</td><td>1</td></tr>",
                            "<tr><td>Gunna, Lil Baby</td><td>1</td></tr>",
                            "<tr><td>Guns N&#39; Roses</td><td>1</td></tr>",
                            "<tr><td>Gustavo Mioto, Mari Fernandez</td><td>1</td></tr>",
                            "<tr><td>Gwen Stefani, Blake Shelton</td><td>1</td></tr>",
                            "<tr><td>HA SUNG WOON, Jimin</td><td>1</td></tr>",
                            "<tr><td>Halsey</td><td>1</td></tr>",
                            "<tr><td>Halsey, BTS</td><td>1</td></tr>",
                            "<tr><td>Halsey, Suga</td><td>1</td></tr>",
                            "<tr><td>Fuerza Regida, Chino Pacas</td><td>1</td></tr>",
                            "<tr><td>Fuerza Regida, Grupo Frontera</td><td>1</td></tr>",
                            "<tr><td>Fuerza Regida, Natanael Cano</td><td>1</td></tr>",
                            "<tr><td>Fuerza Regida, Peso Pluma</td><td>1</td></tr>",
                            "<tr><td>Fujii Kaze</td><td>1</td></tr>",
                            "<tr><td>J Balvin, Bad Bunny</td><td>1</td></tr>",
                            "<tr><td>J Balvin, Maria Becerra</td><td>1</td></tr>",
                            "<tr><td>J Balvin, Nio Garcia, Bad Bunny</td><td>1</td></tr>",
                            "<tr><td>J. Cole</td><td>1</td></tr>",
                            "<tr><td>J. Cole, Lil Durk</td><td>1</td></tr>",
                            "<tr><td>Jack Black</td><td>1</td></tr>",
                            "<tr><td>Imagine Dragons, League of Legends, Arcane</td><td>1</td></tr>",
                            "<tr><td>Imagine Dragons, League of Legends, JID, Arcane</td><td>1</td></tr>",
                            "<tr><td>Intense, AP Dhillon, Gurinder Gill</td><td>1</td></tr>",
                            "<tr><td>Interplanetary Criminal, Eliza Rose</td><td>1</td></tr>",
                            "<tr><td>INTERWORLD</td><td>1</td></tr>",
                            "<tr><td>Israel &amp; Rodolffo, Ana Castela</td><td>1</td></tr>",
                            "<tr><td>Israel &amp; Rodolffo, Mari Fernandez</td><td>1</td></tr>",
                            "<tr><td>IU, Agust D</td><td>1</td></tr>",
                            "<tr><td>Duki, NICKI NICOLE, Cris Mj, Standly, Stars Music Chile</td><td>1</td></tr>",
                            "<tr><td>Duncan Laurence</td><td>1</td></tr>",
                            "<tr><td>Eminem, Nate Dogg</td><td>1</td></tr>",
                            "<tr><td>Emmy Meli</td><td>1</td></tr>",
                            "<tr><td>Eminem, Dido</td><td>1</td></tr>",
                            "<tr><td>Eminem, Dina Rae</td><td>1</td></tr>",
                            "<tr><td>Ed Sheeran, Elton John</td><td>1</td></tr>",
                            "<tr><td>Ed Sheeran, Fireboy DML</td><td>1</td></tr>",
                            "<tr><td>Ed Sheeran, J Balvin</td><td>1</td></tr>",
                            "<tr><td>Ed Sheeran, Taylor Swift</td><td>1</td></tr>",
                            "<tr><td>Eden Mu��</td><td>1</td></tr>",
                            "<tr><td>Edison Lighthouse</td><td>1</td></tr>",
                            "<tr><td>El Chachito, Junior H</td><td>1</td></tr>",
                            "<tr><td>Elley Duh�</td><td>1</td></tr>",
                            "<tr><td>Elton John, Britney Spears</td><td>1</td></tr>",
                            "<tr><td>Em Beihold</td><td>1</td></tr>",
                            "<tr><td>Em Beihold, Stephen Sanchez</td><td>1</td></tr>",
                            "<tr><td>Frank Sinatra</td><td>1</td></tr>",
                            "<tr><td>Frank Sinatra, B. Swanson Quartet</td><td>1</td></tr>",
                            "<tr><td>Freddie Dredd</td><td>1</td></tr>",
                            "<tr><td>Fran C, Polima WestCoast, Nickoog Clk, Pablito Pesadilla</td><td>1</td></tr>",
                            "<tr><td>Eslabon Armado, Peso Pluma</td><td>1</td></tr>",
                            "<tr><td>Farruko</td><td>1</td></tr>",
                            "<tr><td>Feid, Alejo, Robi</td><td>1</td></tr>",
                            "<tr><td>Feid, Mora</td><td>1</td></tr>",
                            "<tr><td>Feid, Mora, Saiko, Quevedo</td><td>1</td></tr>",
                            "<tr><td>Feid, Myke Towers, Sky Rompiendo</td><td>1</td></tr>",
                            "<tr><td>Feid, Paulo Londra</td><td>1</td></tr>",
                            "<tr><td>Feid, Sech, Jhayco</td><td>1</td></tr>",
                            "<tr><td>Feid, Young Miko</td><td>1</td></tr>",
                            "<tr><td>Junior H, Eden Mu��</td><td>1</td></tr>",
                            "<tr><td>Labrinth, Zendaya</td><td>1</td></tr>",
                            "<tr><td>Lana Del Rey, Taylor Swift</td><td>1</td></tr>",
                            "<tr><td>Lasso</td><td>1</td></tr>",
                            "<tr><td>Latto, Jung Kook</td><td>1</td></tr>",
                            "<tr><td>Lauren Spencer Smith</td><td>1</td></tr>",
                            "<tr><td>Lauren Spencer Smith, Lauren Spencer Smith, Lauren Spencer Smith</td><td>1</td></tr>",
                            "<tr><td>Karol G, Becky G</td><td>1</td></tr>",
                            "<tr><td>Karol G, Ovy On The Drums</td><td>1</td></tr>",
                            "<tr><td>Karol G, Quevedo</td><td>1</td></tr>",
                            "<tr><td>Karol G, Romeo Santos</td><td>1</td></tr>",
                            "<tr><td>Karol G, Shakira</td><td>1</td></tr>",
                            "<tr><td>Kate Bush</td><td>1</td></tr>",
                            "<tr><td>Katy Perry, Alesso</td><td>1</td></tr>",
                            "<tr><td>Keane</td><td>1</td></tr>",
                            "<tr><td>Keisya Levronka</td><td>1</td></tr>",
                            "<tr><td>Kelly Clarkson</td><td>1</td></tr>",
                            "<tr><td>Kendrick Lamar, Baby Keem</td><td>1</td></tr>",
                            "<tr><td>Kendrick Lamar, Beth Gibbons</td><td>1</td></tr>",
                            "<tr><td>Kendrick Lamar, Beyonc�</td><td>1</td></tr>",
                            "<tr><td>Kendrick Lamar, Blxst, Amanda Reifer</td><td>1</td></tr>",
                            "<tr><td>Kendrick Lamar, Ghostface Killah, Summer Walker</td><td>1</td></tr>",
                            "<tr><td>Kendrick Lamar, Jay Rock</td><td>1</td></tr>",
                            "<tr><td>Kendrick Lamar, Kodak Black</td><td>1</td></tr>",
                            "<tr><td>Kendrick Lamar, Sam Dew, Baby Keem</td><td>1</td></tr>",
                            "<tr><td>Kendrick Lamar, Sampha</td><td>1</td></tr>",
                            "<tr><td>Kendrick Lamar, Tanna Leone</td><td>1</td></tr>",
                            "<tr><td>Kendrick Lamar, Taylour Paige</td><td>1</td></tr>",
                            "<tr><td>Kenia OS</td><td>1</td></tr>",
                            "<tr><td>Kenshi Yonezu</td><td>1</td></tr>",
                            "<tr><td>Kevin Gates, Juicy J</td><td>1</td></tr>",
                            "<tr><td>Kevin Kaarl</td><td>1</td></tr>",
                            "<tr><td>King</td><td>1</td></tr>",
                            "<tr><td>Kodak Black</td><td>1</td></tr>",
                            "<tr><td>Kodak Black, NLE Choppa, Muni Long, JVKE, Jimin</td><td>1</td></tr>",
                            "<tr><td>Kordhell</td><td>1</td></tr>",
                            "<tr><td>L7nnon, DJ Biel do Furduncinho, Bianca</td><td>1</td></tr>",
                            "<tr><td>Jason Derulo</td><td>1</td></tr>",
                            "<tr><td>Jaymes Young</td><td>1</td></tr>",
                            "<tr><td>Jessi</td><td>1</td></tr>",
                            "<tr><td>Jessica Darrow</td><td>1</td></tr>",
                            "<tr><td>j-hope</td><td>1</td></tr>",
                            "<tr><td>j-hope, J. Cole</td><td>1</td></tr>",
                            "<tr><td>Hozier</td><td>1</td></tr>",
                            "<tr><td>Jack Harlow, Lil Nas X</td><td>1</td></tr>",
                            "<tr><td>Jain</td><td>1</td></tr>",
                            "<tr><td>Jordan Fisher, Josh Levi, Finneas O&#39;Connell, 4*TOWN (From Disney and Pixar���s Turning Red), Topher Ngo, Grayson Vill</td><td>1</td></tr>",
                            "<tr><td>Jos�� Felic</td><td>1</td></tr>",
                            "<tr><td>Juan Cruz Toledo, Huilen Toledo</td><td>1</td></tr>",
                            "<tr><td>Jin</td><td>1</td></tr>",
                            "<tr><td>JISOO</td><td>1</td></tr>",
                            "<tr><td>Jnr Choi</td><td>1</td></tr>",
                            "<tr><td>John Legend</td><td>1</td></tr>",
                            "<tr><td>John Legend, Metro Boomin</td><td>1</td></tr>",
                            "<tr><td>John Lennon, The Harlem Community Choir, The Plastic Ono Band, Yoko Ono</td><td>1</td></tr>",
                            "<tr><td>Julieta Venegas, Bad Bunny, Tainy</td><td>1</td></tr>",
                            "<tr><td>James Blake, Metro Boomin</td><td>1</td></tr>",
                            "<tr><td>James Hype, Miggy Dela Rosa</td><td>1</td></tr>",
                            "<tr><td>Justin Bieber, Daniel Caesar, Giveon</td><td>1</td></tr>",
                            "<tr><td>Justin Bieber, Don Toliver</td><td>1</td></tr>",
                            "<tr><td>Justin Bieber, The Kid Laroi</td><td>1</td></tr>",
                            "<tr><td>Justin Quiles, Lenny Tav��rez, BL</td><td>1</td></tr>",
                            "<tr><td>Kaifi Khalil</td><td>1</td></tr>",
                            "<tr><td>Kali Uchis</td><td>1</td></tr>",
                            "<tr><td>Kali Uchis, Amaarae, Moliy</td><td>1</td></tr>",
                            "<tr><td>Kaliii, Kaliii</td><td>1</td></tr>",
                            "<tr><td>KALUSH</td><td>1</td></tr>",
                            "<tr><td>Kanii, PR1ISVX</td><td>1</td></tr>",
                            "<tr><td>Kanye West, Alicia Keys, Fivio Foreign</td><td>1</td></tr>",
                            "<tr><td>Kanye West, Lil Durk, Cardi B</td><td>1</td></tr>",
                            "<tr><td>Kanye West, XXXTENTACION</td><td>1</td></tr>",
                            "<tr><td>Ayparia, unxbected</td><td>1</td></tr>",
                            "<tr><td>Baby Rasta, Rauw Alejandro</td><td>1</td></tr>",
                            "<tr><td>Baby Tate</td><td>1</td></tr>",
                            "<tr><td>21 Savage, Gunna</td><td>1</td></tr>",
                            "<tr><td>24kgoldn, Iann Dior</td><td>1</td></tr>",
                            "<tr><td>50 Cent</td><td>1</td></tr>",
                            "<tr><td>A$AP Rocky, Metro Boomin, Roisee</td><td>1</td></tr>",
                            "<tr><td>Abhijay Sharma, Riar Saab</td><td>1</td></tr>",
                            "<tr><td>Adassa, Mauro Castillo, Stephanie Beatriz, Encanto - Cast, Rhenzy Feliz, Diane Guerrero, Carolina Gaitan</td><td>1</td></tr>",
                            "<tr><td>Arijit Singh, Sachin-Jigar</td><td>1</td></tr>",
                            "<tr><td>Arijit Singh, Sachin-Jigar, Amitabha Bhattacharya</td><td>1</td></tr>",
                            "<tr><td>Arijit Singh, Vishal Dadlani, Sukriti Kakar, Vishal-Shekhar, Shekhar Ravjiani, Kumaar</td><td>1</td></tr>",
                            "<tr><td>Armani White</td><td>1</td></tr>",
                            "<tr><td>Aventura, Bad Bunny</td><td>1</td></tr>",
                            "<tr><td>Aerosmith</td><td>1</td></tr>",
                            "<tr><td>Agust D</td><td>1</td></tr>",
                            "<tr><td>a-ha</td><td>1</td></tr>",
                            "<tr><td>Aitana, zzoilo</td><td>1</td></tr>",
                            "<tr><td>Ak4:20, Cris Mj, Pailita</td><td>1</td></tr>",
                            "<tr><td>Alec Benjamin</td><td>1</td></tr>",
                            "<tr><td>Alvaro Diaz, Rauw Alejandro</td><td>1</td></tr>",
                            "<tr><td>Ana Castela, AgroPlay</td><td>1</td></tr>",
                            "<tr><td>Andy Williams</td><td>1</td></tr>",
                            "<tr><td>Anggi Marito</td><td>1</td></tr>",
                            "<tr><td>Anitta</td><td>1</td></tr>",
                            "<tr><td>Anitta, Tini, Becky G</td><td>1</td></tr>",
                            "<tr><td>AnnenMayKantereit, Giant Rooks</td><td>1</td></tr>",
                            "<tr><td>Anuel Aa, Jhay Cortez</td><td>1</td></tr>",
                            "<tr><td>Anuel Aa, Myke Towers, Jhay Cortez</td><td>1</td></tr>",
                            "<tr><td>Arcangel, Bad Bunny</td><td>1</td></tr>",
                            "<tr><td>Arcangel, Bizarrap</td><td>1</td></tr>",
                            "<tr><td>Arcangel, De La Ghetto, Justin Quiles, Lenny Tav��rez, Sech, Dalex, Dimelo Flow, Rich Music</td><td>1</td></tr>",
                            "<tr><td>Bad Bunny, Rauw Alejandro</td><td>1</td></tr>",
                            "<tr><td>Bad Bunny, Tainy</td><td>1</td></tr>",
                            "<tr><td>Bad Bunny, The Mar��</td><td>1</td></tr>",
                            "<tr><td>Band Aid</td><td>1</td></tr>",
                            "<tr><td>Beach House</td><td>1</td></tr>",
                            "<tr><td>Beach Weather</td><td>1</td></tr>",
                            "<tr><td>Bebe Rexha, David Guetta</td><td>1</td></tr>",
                            "<tr><td>Becky G, Peso Pluma</td><td>1</td></tr>",
                            "<tr><td>Bellakath</td><td>1</td></tr>",
                            "<tr><td>Benson Boone</td><td>1</td></tr>",
                            "<tr><td>Billie Eilish, Khalid</td><td>1</td></tr>",
                            "<tr><td>Bing Crosby, John Scott Trotter &amp; His Orchestra, Ken Darby Singers</td><td>1</td></tr>",
                            "<tr><td>Bizarrap, Paulo Londra</td><td>1</td></tr>",
                            "<tr><td>Bizarrap, Peso Pluma</td><td>1</td></tr>",
                            "<tr><td>Bizarrap, Quevedo</td><td>1</td></tr>",
                            "<tr><td>Bizarrap, Tiago pzk</td><td>1</td></tr>",
                            "<tr><td>Bizarrap, Villano Antillano</td><td>1</td></tr>",
                            "<tr><td>Blackbear, BoyWithUke</td><td>1</td></tr>",
                            "<tr><td>Bad Bunny, Eladio Carrion</td><td>1</td></tr>",
                            "<tr><td>Bad Bunny, Grupo Frontera</td><td>1</td></tr>",
                            "<tr><td>Big One, Duki, Lit Killah, Maria Becerra, FMK, Rusherking, Emilia, Tiago pzk</td><td>1</td></tr>",
                            "<tr><td>Big One, FMK, Ke personajes</td><td>1</td></tr>",
                            "<tr><td>BIGBANG</td><td>1</td></tr>",
                            "<tr><td>BLESSD, Peso Pluma</td><td>1</td></tr>",
                            "<tr><td>Bobby Helms</td><td>1</td></tr>",
                            "<tr><td>Bomba Est��reo, Bad B</td><td>1</td></tr>",
                            "<tr><td>BoyWithUke</td><td>1</td></tr>",
                            "<tr><td>Brenda Lee</td><td>1</td></tr>",
                            "<tr><td>Britney Spears</td><td>1</td></tr>",
                            "<tr><td>Brray, Rauw Alejandro, Lyanno</td><td>1</td></tr>",
                            "<tr><td>De La Ghetto, Duki, Quevedo</td><td>1</td></tr>",
                            "<tr><td>De La Ghetto, Feid, Polima WestCoast, Paloma Mami, Pailita</td><td>1</td></tr>",
                            "<tr><td>Dean Lewis</td><td>1</td></tr>",
                            "<tr><td>Dean Martin</td><td>1</td></tr>",
                            "<tr><td>Demi Lovato</td><td>1</td></tr>",
                            "<tr><td>dennis, MC Kevin o Chris</td><td>1</td></tr>",
                            "<tr><td>DJ Escobar, MC MENOR SG, MC MENOR HR</td><td>1</td></tr>",
                            "<tr><td>Dj LK da Esc��cia, Tchakabum, mc jhenny, M</td><td>1</td></tr>",
                            "<tr><td>Doechii</td><td>1</td></tr>",
                            "<tr><td>Danny Ocean</td><td>1</td></tr>",
                            "<tr><td>Darlene Love</td><td>1</td></tr>",
                            "<tr><td>Dave</td><td>1</td></tr>",
                            "<tr><td>Dave, Central Cee</td><td>1</td></tr>",
                            "<tr><td>David Guetta, Anne-Marie, Coi Leray</td><td>1</td></tr>",
                            "<tr><td>David Guetta, Ella Henderson, Becky Hill</td><td>1</td></tr>",
                            "<tr><td>David Guetta, Shakira, Black Eyed Peas</td><td>1</td></tr>",
                            "<tr><td>Dua Lipa, DaBaby</td><td>1</td></tr>",
                            "<tr><td>Dua Lipa, Elton John, Pnau</td><td>1</td></tr>",
                            "<tr><td>Dua Lipa, Megan Thee Stallion</td><td>1</td></tr>",
                            "<tr><td>Doja Cat, The Weeknd</td><td>1</td></tr>",
                            "<tr><td>Don Omar, Lucenzo</td><td>1</td></tr>",
                            "<tr><td>Don Toliver, Future, Justin Bieber</td><td>1</td></tr>",
                            "<tr><td>Dove Cameron</td><td>1</td></tr>",
                            "<tr><td>Dr. Dre, 2Pac, Roger</td><td>1</td></tr>",
                            "<tr><td>Drake, DJ Khaled, Lil Baby</td><td>1</td></tr>",
                            "<tr><td>Drake, Future, Tems</td><td>1</td></tr>",
                            "<tr><td>Drake, Future, Young Thug</td><td>1</td></tr>",
                            "<tr><td>Drake, Project Pat, 21 Savage</td><td>1</td></tr>",
                            "<tr><td>Drake, Travis Scott</td><td>1</td></tr>",
                            "<tr><td>Drake, Travis Scott, 21 Savage</td><td>1</td></tr>",
                            "<tr><td>Drake, WizKid, Kyla</td><td>1</td></tr>",
                            "<tr><td>Charlie Puth, BTS, Jung Kook</td><td>1</td></tr>",
                            "<tr><td>Chase Atlantic</td><td>1</td></tr>",
                            "<tr><td>Chencho Corleone, Bad Bunny</td><td>1</td></tr>",
                            "<tr><td>Chencho Corleone, Rauw Alejandro</td><td>1</td></tr>",
                            "<tr><td>Cherish, ACRAZE</td><td>1</td></tr>",
                            "<tr><td>Childish Gambino</td><td>1</td></tr>",
                            "<tr><td>Chino Pacas</td><td>1</td></tr>",
                            "<tr><td>Chris Brown</td><td>1</td></tr>",
                            "<tr><td>Chris Brown, Rvssian, Rauw Alejandro</td><td>1</td></tr>",
                            "<tr><td>Chris Molitor</td><td>1</td></tr>",
                            "<tr><td>Chris Rea</td><td>1</td></tr>",
                            "<tr><td>Christian Nodal</td><td>1</td></tr>",
                            "<tr><td>Chuck Berry</td><td>1</td></tr>",
                            "<tr><td>Cigarettes After Sex</td><td>1</td></tr>",
                            "<tr><td>Ckay</td><td>1</td></tr>",
                            "<tr><td>Ckay, AX&#39;EL, Dj Yo!</td><td>1</td></tr>",
                            "<tr><td>Coi Leray</td><td>1</td></tr>",
                            "<tr><td>Buscabulla, Bad Bunny</td><td>1</td></tr>",
                            "<tr><td>BYOR, Imanbek</td><td>1</td></tr>",
                            "<tr><td>C. Tangana</td><td>1</td></tr>",
                            "<tr><td>Calvin Harris, Dua Lipa</td><td>1</td></tr>",
                            "<tr><td>Calvin Harris, Dua Lipa, Young Thug</td><td>1</td></tr>",
                            "<tr><td>Calvin Harris, Ellie Goulding</td><td>1</td></tr>",
                            "<tr><td>Calvin Harris, Halsey, Pharrell Williams, Justin Timberlake</td><td>1</td></tr>",
                            "<tr><td>Camila Cabello, Ed Sheeran</td><td>1</td></tr>",
                            "<tr><td>Camila Cabello, Willow</td><td>1</td></tr>",
                            "<tr><td>Carin Leon</td><td>1</td></tr>",
                            "<tr><td>Carin Leon, Grupo Frontera</td><td>1</td></tr>",
                            "<tr><td>Cartel De Santa, La Kelly</td><td>1</td></tr>",
                            "<tr><td>Chanel</td><td>1</td></tr>",
                            "<tr><td>Charli XCX, Jax Jones, Joel Corry, Saweetie</td><td>1</td></tr>",
                            "<tr><td>BTS, Jung Kook, FIFA Sound</td><td>1</td></tr>",
                            "<tr><td>Burl Ives</td><td>1</td></tr>",
                            "<tr><td>Coldplay, BTS</td><td>1</td></tr>",
                            "<tr><td>Conan Gray</td><td>1</td></tr>",
                            "<tr><td>Coolio, L.V.</td><td>1</td></tr>",
                            "<tr><td>Creedence Clearwater Revival</td><td>1</td></tr>",
                            "<tr><td>Cris Mj</td><td>1</td></tr>",
                            "</table>"
                        ]
                    }
                }
            ],
            "execution_count": 41
        },
        {
            "cell_type": "markdown",
            "source": [
                "We look at the songs with more than a billion streams per release year for the last five (5) years, if any."
            ],
            "metadata": {
                "azdata_cell_guid": "7263a7b2-3f4f-481a-a7df-6641fc9fc9e2"
            },
            "attachments": {}
        },
        {
            "cell_type": "code",
            "source": [
                "SELECT released_year, COUNT(released_year) AS max_stream\r\n",
                "FROM dbo.Spotify2023\r\n",
                "WHERE released_year BETWEEN 2019 AND 2023\r\n",
                "GROUP BY released_year\r\n",
                "HAVING MAX(streams) > 1000000000\r\n",
                "ORDER BY released_year DESC, max_stream DESC;"
            ],
            "metadata": {
                "azdata_cell_guid": "8a655f67-e4b4-4963-914d-adf53642118f",
                "language": "sql",
                "tags": []
            },
            "outputs": [
                {
                    "output_type": "display_data",
                    "data": {
                        "text/html": "(5 rows affected)"
                    },
                    "metadata": {}
                },
                {
                    "output_type": "display_data",
                    "data": {
                        "text/html": "Total execution time: 00:00:00.010"
                    },
                    "metadata": {}
                },
                {
                    "output_type": "execute_result",
                    "metadata": {},
                    "execution_count": 64,
                    "data": {
                        "application/vnd.dataresource+json": {
                            "schema": {
                                "fields": [
                                    {
                                        "name": "released_year"
                                    },
                                    {
                                        "name": "max_stream"
                                    }
                                ]
                            },
                            "data": [
                                {
                                    "released_year": "2023",
                                    "max_stream": "175"
                                },
                                {
                                    "released_year": "2022",
                                    "max_stream": "402"
                                },
                                {
                                    "released_year": "2021",
                                    "max_stream": "119"
                                },
                                {
                                    "released_year": "2020",
                                    "max_stream": "37"
                                },
                                {
                                    "released_year": "2019",
                                    "max_stream": "36"
                                }
                            ]
                        },
                        "text/html": [
                            "<table>",
                            "<tr><th>released_year</th><th>max_stream</th></tr>",
                            "<tr><td>2023</td><td>175</td></tr>",
                            "<tr><td>2022</td><td>402</td></tr>",
                            "<tr><td>2021</td><td>119</td></tr>",
                            "<tr><td>2020</td><td>37</td></tr>",
                            "<tr><td>2019</td><td>36</td></tr>",
                            "</table>"
                        ]
                    }
                }
            ],
            "execution_count": 64
        }
    ]
}
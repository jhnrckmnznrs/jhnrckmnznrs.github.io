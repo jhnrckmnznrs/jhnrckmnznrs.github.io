{
 "cells": [
  {
   "cell_type": "markdown",
   "id": "1e20b471-43f1-4e12-afb1-aa7825d8cc69",
   "metadata": {},
   "source": [
    "# Does Online Courses Attract Students?\n",
    "\n",
    "## Background and Objective\n",
    "\n",
    "You are working as a data scientist at a local University. The university started offering online courses to reach a wider range of students. The university wants you to help them understand enrollment trends. They would like you to identify what contributes to higher enrollment. In particular, whether the course type (online or classroom) is a factor.\n",
    "## Data Preprocessing\n",
    "\n",
    "We import and clean the data. Specifically, for every column in the data, we do the following:\n",
    "1. Check the values whether they match the description given in the table above.\n",
    "2. Check number of missing values in the column.\n",
    "First, we observe the dataset. We import `pandas` as `pd` and use the `read_csv` method to import the dataset using the link provided. Then, we use the `head` method to observe the first few rows of the dataframe."
   ]
  },
  {
   "cell_type": "code",
   "execution_count": 1,
   "id": "694c0996-0efa-4c4c-a63a-268b1cf08a75",
   "metadata": {
    "executionCancelledAt": null,
    "executionTime": 86,
    "lastExecutedAt": 1693649913839,
    "lastScheduledRunId": null,
    "lastSuccessfullyExecutedCode": "# Import pandas as pd\nimport pandas as pd\n\n# Import CSV file \ndf = pd.read_csv('https://s3.amazonaws.com/talent-assets.datacamp.com/university_enrollment_2306.csv')\n\n# Observe some observations of df\ndf.head()",
    "outputsMetadata": {
     "0": {
      "height": 193,
      "type": "dataFrame"
     }
    }
   },
   "outputs": [
    {
     "data": {
      "text/html": [
       "<div>\n",
       "<style scoped>\n",
       "    .dataframe tbody tr th:only-of-type {\n",
       "        vertical-align: middle;\n",
       "    }\n",
       "\n",
       "    .dataframe tbody tr th {\n",
       "        vertical-align: top;\n",
       "    }\n",
       "\n",
       "    .dataframe thead th {\n",
       "        text-align: right;\n",
       "    }\n",
       "</style>\n",
       "<table border=\"1\" class=\"dataframe\">\n",
       "  <thead>\n",
       "    <tr style=\"text-align: right;\">\n",
       "      <th></th>\n",
       "      <th>course_id</th>\n",
       "      <th>course_type</th>\n",
       "      <th>year</th>\n",
       "      <th>enrollment_count</th>\n",
       "      <th>pre_score</th>\n",
       "      <th>post_score</th>\n",
       "      <th>pre_requirement</th>\n",
       "      <th>department</th>\n",
       "    </tr>\n",
       "  </thead>\n",
       "  <tbody>\n",
       "    <tr>\n",
       "      <th>0</th>\n",
       "      <td>1</td>\n",
       "      <td>classroom</td>\n",
       "      <td>2018</td>\n",
       "      <td>165</td>\n",
       "      <td>28.14</td>\n",
       "      <td>73.0</td>\n",
       "      <td>Beginner</td>\n",
       "      <td>Science</td>\n",
       "    </tr>\n",
       "    <tr>\n",
       "      <th>1</th>\n",
       "      <td>2</td>\n",
       "      <td>classroom</td>\n",
       "      <td>2020</td>\n",
       "      <td>175</td>\n",
       "      <td>79.68</td>\n",
       "      <td>86.0</td>\n",
       "      <td>None</td>\n",
       "      <td>Science</td>\n",
       "    </tr>\n",
       "    <tr>\n",
       "      <th>2</th>\n",
       "      <td>3</td>\n",
       "      <td>online</td>\n",
       "      <td>2016</td>\n",
       "      <td>257</td>\n",
       "      <td>57.24</td>\n",
       "      <td>80.0</td>\n",
       "      <td>NaN</td>\n",
       "      <td>Mathematics</td>\n",
       "    </tr>\n",
       "    <tr>\n",
       "      <th>3</th>\n",
       "      <td>4</td>\n",
       "      <td>online</td>\n",
       "      <td>2013</td>\n",
       "      <td>251</td>\n",
       "      <td>97.67</td>\n",
       "      <td>75.0</td>\n",
       "      <td>Beginner</td>\n",
       "      <td>Technology</td>\n",
       "    </tr>\n",
       "    <tr>\n",
       "      <th>4</th>\n",
       "      <td>5</td>\n",
       "      <td>classroom</td>\n",
       "      <td>2019</td>\n",
       "      <td>165</td>\n",
       "      <td>39.75</td>\n",
       "      <td>76.0</td>\n",
       "      <td>Beginner</td>\n",
       "      <td>Science</td>\n",
       "    </tr>\n",
       "  </tbody>\n",
       "</table>\n",
       "</div>"
      ],
      "text/plain": [
       "   course_id course_type  year  enrollment_count pre_score  post_score  \\\n",
       "0          1   classroom  2018               165     28.14        73.0   \n",
       "1          2   classroom  2020               175     79.68        86.0   \n",
       "2          3      online  2016               257     57.24        80.0   \n",
       "3          4      online  2013               251     97.67        75.0   \n",
       "4          5   classroom  2019               165     39.75        76.0   \n",
       "\n",
       "  pre_requirement   department  \n",
       "0        Beginner      Science  \n",
       "1            None      Science  \n",
       "2             NaN  Mathematics  \n",
       "3        Beginner   Technology  \n",
       "4        Beginner      Science  "
      ]
     },
     "execution_count": 1,
     "metadata": {},
     "output_type": "execute_result"
    }
   ],
   "source": [
    "# Import pandas as pd\n",
    "import pandas as pd\n",
    "\n",
    "# Import CSV file \n",
    "df = pd.read_csv('https://s3.amazonaws.com/talent-assets.datacamp.com/university_enrollment_2306.csv')\n",
    "\n",
    "# Observe some observations of df\n",
    "df.head()"
   ]
  },
  {
   "cell_type": "markdown",
   "id": "8c668bee-206f-4403-91b4-3cf38d1885a7",
   "metadata": {},
   "source": [
    "We investigate the data type of the values in each column. We see that the `pre_score` is not continuous and has `object` data type. First, we use `fillna` method filling in null values with appropriate values. Only the `post_score` and `pre_requirement` columns have missing values. Also, observe that some rows in `pre_score` has a non-null value of `'-'`. Hence, we treat it as a null value and replace with a value of `0`. Finally, we convert the column's data type to `float` using the `astype` method. As a supplement, we observed that there are `'Math'` and `'Mathematics'` values in the department column. We choose the `'Mathematics'` for all rows with the `'Math'` value."
   ]
  },
  {
   "cell_type": "code",
   "execution_count": 5,
   "id": "a11fcb24-d187-436b-837f-fd5c3cdc2e4f",
   "metadata": {
    "executionCancelledAt": null,
    "executionTime": 57,
    "lastExecutedAt": 1693649913896,
    "lastScheduledRunId": null,
    "lastSuccessfullyExecutedCode": "# Inspect data types and null values\ndf.info()\n\n# Count missing values\nprint(df.isna().sum())\n\n# Fill missing values\nvalues = {\"course_type\": 'classroom', \"year\": 2011, \"enrollment_count\": 0, \"pre_score\": '0', \"post_score\": 0, \"pre_requirement\": 'None', \"department\": 'unknown'}\ndf = df.fillna(value = values)\n\n# Inspect data types and null values\ndf['pre_score'] = df['pre_score'].replace('-', '0')\ndf['pre_score'] = df['pre_score'].astype(float)\n\n# Inspect data types and null values\ndf.info()\n\n# Clean department column: 'Math' and 'Mathematics'\ndf['department'] = df['department'].str.strip().replace('Math', 'Mathematics')",
    "outputsMetadata": {
     "0": {
      "height": 616,
      "type": "stream"
     }
    }
   },
   "outputs": [
    {
     "name": "stdout",
     "output_type": "stream",
     "text": [
      "<class 'pandas.core.frame.DataFrame'>\n",
      "RangeIndex: 1850 entries, 0 to 1849\n",
      "Data columns (total 8 columns):\n",
      " #   Column            Non-Null Count  Dtype  \n",
      "---  ------            --------------  -----  \n",
      " 0   course_id         1850 non-null   int64  \n",
      " 1   course_type       1850 non-null   object \n",
      " 2   year              1850 non-null   int64  \n",
      " 3   enrollment_count  1850 non-null   int64  \n",
      " 4   pre_score         1850 non-null   float64\n",
      " 5   post_score        1850 non-null   float64\n",
      " 6   pre_requirement   1850 non-null   object \n",
      " 7   department        1850 non-null   object \n",
      "dtypes: float64(2), int64(3), object(3)\n",
      "memory usage: 115.8+ KB\n",
      "course_id           0\n",
      "course_type         0\n",
      "year                0\n",
      "enrollment_count    0\n",
      "pre_score           0\n",
      "post_score          0\n",
      "pre_requirement     0\n",
      "department          0\n",
      "dtype: int64\n",
      "<class 'pandas.core.frame.DataFrame'>\n",
      "RangeIndex: 1850 entries, 0 to 1849\n",
      "Data columns (total 8 columns):\n",
      " #   Column            Non-Null Count  Dtype  \n",
      "---  ------            --------------  -----  \n",
      " 0   course_id         1850 non-null   int64  \n",
      " 1   course_type       1850 non-null   object \n",
      " 2   year              1850 non-null   int64  \n",
      " 3   enrollment_count  1850 non-null   int64  \n",
      " 4   pre_score         1850 non-null   float64\n",
      " 5   post_score        1850 non-null   float64\n",
      " 6   pre_requirement   1850 non-null   object \n",
      " 7   department        1850 non-null   object \n",
      "dtypes: float64(2), int64(3), object(3)\n",
      "memory usage: 115.8+ KB\n",
      "course_id           0\n",
      "course_type         0\n",
      "year                0\n",
      "enrollment_count    0\n",
      "pre_score           0\n",
      "post_score          0\n",
      "pre_requirement     0\n",
      "department          0\n",
      "dtype: int64\n"
     ]
    }
   ],
   "source": [
    "# Inspect data types and null values\n",
    "df.info()\n",
    "\n",
    "# Count missing values\n",
    "print(df.isna().sum())\n",
    "\n",
    "# Fill missing values\n",
    "values = {\"course_type\": 'classroom', \"year\": 2011, \"enrollment_count\": 0, \"pre_score\": '0', \"post_score\": 0, \"pre_requirement\": 'None', \"department\": 'unknown'}\n",
    "df = df.fillna(value = values)\n",
    "\n",
    "# Inspect data types and null values\n",
    "df['pre_score'] = df['pre_score'].replace('-', '0')\n",
    "df['pre_score'] = df['pre_score'].astype(float)\n",
    "\n",
    "# Inspect data types and null values\n",
    "df.info()\n",
    "\n",
    "# Count missing values\n",
    "print(df.isna().sum())\n",
    "\n",
    "# Clean department column: 'Math' and 'Mathematics'\n",
    "df['department'] = df['department'].str.strip().replace('Math', 'Mathematics')"
   ]
  },
  {
   "cell_type": "code",
   "execution_count": 22,
   "id": "93fef777-7779-418f-a06a-0e64267f5639",
   "metadata": {},
   "outputs": [
    {
     "data": {
      "image/png": "[encoded data removed]",
      "text/plain": [
       "<Figure size 640x480 with 1 Axes>"
      ]
     },
     "metadata": {},
     "output_type": "display_data"
    }
   ],
   "source": [
    "# Import visualization packages\n",
    "import seaborn as sns\n",
    "import matplotlib.pyplot as plt\n",
    "\n",
    "# Countplot of the Courses Offered by Each Department\n",
    "sns.countplot(data = df, x = 'department', hue = 'course_type').set(title = 'Number of Courses Offered by Each Department', xlabel = \" \", ylabel = \" \")\n",
    "plt.savefig('enrollment_bar.png')\n",
    "plt.show()"
   ]
  },
  {
   "cell_type": "markdown",
   "id": "0944d9ab-ff5a-4dd3-bd52-e27b91d68581",
   "metadata": {},
   "source": [
    "## Task 2\n",
    "We observe the distribution of the enrollment counts feature using the following visualization. For the plot, we shall use the Seaborn library. Notice that more than 250 enrollees are usually present. Moreover, the number of enrollees are either less than 200 or greater than 220. Lastly, the enrollment counts are not normally distributed."
   ]
  },
  {
   "cell_type": "code",
   "execution_count": 5,
   "id": "79b08e00-ad6d-45b7-ab9c-3d688d6af047",
   "metadata": {
    "executionCancelledAt": null,
    "executionTime": 182,
    "lastExecutedAt": 1693649914078,
    "lastScheduledRunId": null,
    "lastSuccessfullyExecutedCode": "# Import visualization packages\nimport seaborn as sns\nimport matplotlib.pyplot as plt\n\n# Histogram\nsns.histplot(data = df, x = 'enrollment_count', bins = 10).set(title = 'Distribution of the Enrollment Count')\n\n# Show plot\nplt.show()"
   },
   "outputs": [
    {
     "name": "stdout",
     "output_type": "stream",
     "text": [
      "Collecting seaborn\n",
      "  Downloading seaborn-0.12.2-py3-none-any.whl (293 kB)\n",
      "     ---------------------------------------- 0.0/293.3 kB ? eta -:--:--\n",
      "     ------------------------------------- 293.3/293.3 kB 17.7 MB/s eta 0:00:00\n",
      "Requirement already satisfied: numpy!=1.24.0,>=1.17 in c:\\users\\user\\appdata\\local\\programs\\python\\python311\\lib\\site-packages (from seaborn) (1.24.2)\n",
      "Requirement already satisfied: pandas>=0.25 in c:\\users\\user\\appdata\\local\\programs\\python\\python311\\lib\\site-packages (from seaborn) (1.5.3)\n",
      "Requirement already satisfied: matplotlib!=3.6.1,>=3.1 in c:\\users\\user\\appdata\\local\\programs\\python\\python311\\lib\\site-packages (from seaborn) (3.7.1)\n",
      "Requirement already satisfied: contourpy>=1.0.1 in c:\\users\\user\\appdata\\local\\programs\\python\\python311\\lib\\site-packages (from matplotlib!=3.6.1,>=3.1->seaborn) (1.0.7)\n",
      "Requirement already satisfied: cycler>=0.10 in c:\\users\\user\\appdata\\local\\programs\\python\\python311\\lib\\site-packages (from matplotlib!=3.6.1,>=3.1->seaborn) (0.11.0)\n",
      "Requirement already satisfied: fonttools>=4.22.0 in c:\\users\\user\\appdata\\local\\programs\\python\\python311\\lib\\site-packages (from matplotlib!=3.6.1,>=3.1->seaborn) (4.39.3)\n",
      "Requirement already satisfied: kiwisolver>=1.0.1 in c:\\users\\user\\appdata\\local\\programs\\python\\python311\\lib\\site-packages (from matplotlib!=3.6.1,>=3.1->seaborn) (1.4.4)\n",
      "Requirement already satisfied: packaging>=20.0 in c:\\users\\user\\appdata\\local\\programs\\python\\python311\\lib\\site-packages (from matplotlib!=3.6.1,>=3.1->seaborn) (23.0)\n",
      "Requirement already satisfied: pillow>=6.2.0 in c:\\users\\user\\appdata\\local\\programs\\python\\python311\\lib\\site-packages (from matplotlib!=3.6.1,>=3.1->seaborn) (9.5.0)\n",
      "Requirement already satisfied: pyparsing>=2.3.1 in c:\\users\\user\\appdata\\local\\programs\\python\\python311\\lib\\site-packages (from matplotlib!=3.6.1,>=3.1->seaborn) (3.0.9)\n",
      "Requirement already satisfied: python-dateutil>=2.7 in c:\\users\\user\\appdata\\local\\programs\\python\\python311\\lib\\site-packages (from matplotlib!=3.6.1,>=3.1->seaborn) (2.8.2)\n",
      "Requirement already satisfied: pytz>=2020.1 in c:\\users\\user\\appdata\\local\\programs\\python\\python311\\lib\\site-packages (from pandas>=0.25->seaborn) (2023.3)\n",
      "Requirement already satisfied: six>=1.5 in c:\\users\\user\\appdata\\local\\programs\\python\\python311\\lib\\site-packages (from python-dateutil>=2.7->matplotlib!=3.6.1,>=3.1->seaborn) (1.16.0)\n",
      "Installing collected packages: seaborn\n",
      "Successfully installed seaborn-0.12.2\n"
     ]
    },
    {
     "data": {
      "image/png": "[encoded data removed]",
      "text/plain": [
       "<Figure size 640x480 with 1 Axes>"
      ]
     },
     "metadata": {},
     "output_type": "display_data"
    },
    {
     "data": {
      "text/plain": [
       "<Figure size 640x480 with 0 Axes>"
      ]
     },
     "metadata": {},
     "output_type": "display_data"
    }
   ],
   "source": [
    "# Histogram\n",
    "sns.histplot(data = df, x = 'enrollment_count', bins = 10).set(title = 'Distribution of the Enrollment Count')\n",
    "\n",
    "# Show plot\n",
    "plt.show()\n",
    "plt.savefig('hist_enrol.png')"
   ]
  },
  {
   "cell_type": "markdown",
   "id": "c509bc83-41a5-42cf-a865-08dcf8229a16",
   "metadata": {},
   "source": [
    "## Task 3\n",
    "First, we check if each `course_id` is unique. The number of unique ID is the same as the number of rows. Hence, no duplicate IDs are recorded in the dataset. To visualize the balance of course types, we create a countplot using Seaborn. From the plot, online courses are more offered than classroom course type. As the difference is about 900 courses, we see a class imbalance across the course types."
   ]
  },
  {
   "cell_type": "code",
   "execution_count": 6,
   "id": "a2967cbe-5f9a-48ca-bb9b-6236833b107d",
   "metadata": {
    "chartConfig": {
     "bar": {
      "hasRoundedCorners": true,
      "stacked": false
     },
     "type": "bar",
     "version": "v1"
    },
    "executionCancelledAt": null,
    "executionTime": 182,
    "lastExecutedAt": 1693649914260,
    "lastScheduledRunId": null,
    "lastSuccessfullyExecutedCode": "# Check number of unique course_id\nprint(len(df['course_id'].unique()))\n\n# Count the number of courses of each type\nprint(df['course_type'].value_counts())\n\n# Countplot\nsns.countplot(data = df, x = 'course_type').set(title = 'Number of Courses for Each Type')\n\n# Show plot\nplt.show()",
    "outputsMetadata": {
     "0": {
      "height": 95,
      "type": "stream"
     }
    },
    "visualizeDataframe": false
   },
   "outputs": [
    {
     "name": "stdout",
     "output_type": "stream",
     "text": [
      "1850\n",
      "online       1375\n",
      "classroom     475\n",
      "Name: course_type, dtype: int64\n"
     ]
    },
    {
     "data": {
      "image/png": "[encoded data removed]",
      "text/plain": [
       "<Figure size 640x480 with 1 Axes>"
      ]
     },
     "metadata": {},
     "output_type": "display_data"
    },
    {
     "data": {
      "text/plain": [
       "<Figure size 640x480 with 0 Axes>"
      ]
     },
     "metadata": {},
     "output_type": "display_data"
    }
   ],
   "source": [
    "# Check number of unique course_id\n",
    "print(len(df['course_id'].unique()))\n",
    "\n",
    "# Count the number of courses of each type\n",
    "print(df['course_type'].value_counts())"
   ]
  },
  {
   "cell_type": "markdown",
   "id": "17cca003-71ad-4d7e-989b-09aa51ae0aba",
   "metadata": {},
   "source": [
    "## Task 4\n",
    "Students tend to enroll more in online courses than in classroom-taught courses. Consider the boxplot, created using Seaborn, showing the enrollment counts across the course types. The range and the median of enrollment counts for online courses are farther and greater than that of the classroom-taught courses."
   ]
  },
  {
   "cell_type": "code",
   "execution_count": 7,
   "id": "38748249-81be-4b43-8e9a-fec3870eddb8",
   "metadata": {
    "executionCancelledAt": null,
    "executionTime": 147,
    "lastExecutedAt": 1693649914408,
    "lastScheduledRunId": null,
    "lastSuccessfullyExecutedCode": "# Boxplot\nsns.boxplot(data = df, y = 'course_type', x = 'enrollment_count').set(title = 'Enrollment Count Across Each Course Type')\n\n# Show plot\nplt.show()"
   },
   "outputs": [
    {
     "data": {
      "image/png": "[encoded data removed]",
      "text/plain": [
       "<Figure size 640x480 with 1 Axes>"
      ]
     },
     "metadata": {},
     "output_type": "display_data"
    },
    {
     "data": {
      "text/plain": [
       "<Figure size 640x480 with 0 Axes>"
      ]
     },
     "metadata": {},
     "output_type": "display_data"
    }
   ],
   "source": [
    "# Boxplot\n",
    "sns.boxplot(data = df, y = 'course_type', x = 'enrollment_count').set(title = 'Enrollment Count Across Each Course Type')\n",
    "\n",
    "# Show plot\n",
    "plt.show()\n",
    "plt.savefig('box_enrol.png')"
   ]
  },
  {
   "cell_type": "code",
   "execution_count": 32,
   "id": "038f64e6-080e-4cc6-8831-299394552b84",
   "metadata": {},
   "outputs": [
    {
     "name": "stdout",
     "output_type": "stream",
     "text": [
      "1.2077024849206609e-236\n"
     ]
    }
   ],
   "source": [
    "from scipy.stats import mannwhitneyu\n",
    "\n",
    "df_count = df['enrollment_count']\n",
    "df_count_online = df_count[df['course_type'] == 'online']\n",
    "df_count_room = df_count[df['course_type'] == 'classroom']\n",
    "\n",
    "_, p = mannwhitneyu(df_count_online, df_count_room)\n",
    "\n",
    "print(p)"
   ]
  },
  {
   "cell_type": "markdown",
   "id": "66e07a44-f276-4516-87ce-e460d3f1a33a",
   "metadata": {},
   "source": [
    "## Task 5\n",
    "The university wants to predict how many students will enroll in a course. This is a regression type of machine learning. The target variable is the enrollment count."
   ]
  },
  {
   "cell_type": "markdown",
   "id": "8b20fa2e-da87-4cf4-9591-157a0837891e",
   "metadata": {},
   "source": [
    "## Task 6\n",
    "For a baseline model, we shall implement a simple Linear Regression model using the scikit-learn library."
   ]
  },
  {
   "cell_type": "code",
   "execution_count": 33,
   "id": "76b4446c-9c17-4aa7-8119-8d33c51a6593",
   "metadata": {
    "executionCancelledAt": null,
    "executionTime": null,
    "lastExecutedAt": null,
    "lastScheduledRunId": null,
    "lastSuccessfullyExecutedCode": null,
    "outputsMetadata": {
     "0": {
      "height": 154,
      "type": "stream"
     }
    }
   },
   "outputs": [
    {
     "data": {
      "text/html": [
       "<style>#sk-container-id-1 {color: black;background-color: white;}#sk-container-id-1 pre{padding: 0;}#sk-container-id-1 div.sk-toggleable {background-color: white;}#sk-container-id-1 label.sk-toggleable__label {cursor: pointer;display: block;width: 100%;margin-bottom: 0;padding: 0.3em;box-sizing: border-box;text-align: center;}#sk-container-id-1 label.sk-toggleable__label-arrow:before {content: \"▸\";float: left;margin-right: 0.25em;color: #696969;}#sk-container-id-1 label.sk-toggleable__label-arrow:hover:before {color: black;}#sk-container-id-1 div.sk-estimator:hover label.sk-toggleable__label-arrow:before {color: black;}#sk-container-id-1 div.sk-toggleable__content {max-height: 0;max-width: 0;overflow: hidden;text-align: left;background-color: #f0f8ff;}#sk-container-id-1 div.sk-toggleable__content pre {margin: 0.2em;color: black;border-radius: 0.25em;background-color: #f0f8ff;}#sk-container-id-1 input.sk-toggleable__control:checked~div.sk-toggleable__content {max-height: 200px;max-width: 100%;overflow: auto;}#sk-container-id-1 input.sk-toggleable__control:checked~label.sk-toggleable__label-arrow:before {content: \"▾\";}#sk-container-id-1 div.sk-estimator input.sk-toggleable__control:checked~label.sk-toggleable__label {background-color: #d4ebff;}#sk-container-id-1 div.sk-label input.sk-toggleable__control:checked~label.sk-toggleable__label {background-color: #d4ebff;}#sk-container-id-1 input.sk-hidden--visually {border: 0;clip: rect(1px 1px 1px 1px);clip: rect(1px, 1px, 1px, 1px);height: 1px;margin: -1px;overflow: hidden;padding: 0;position: absolute;width: 1px;}#sk-container-id-1 div.sk-estimator {font-family: monospace;background-color: #f0f8ff;border: 1px dotted black;border-radius: 0.25em;box-sizing: border-box;margin-bottom: 0.5em;}#sk-container-id-1 div.sk-estimator:hover {background-color: #d4ebff;}#sk-container-id-1 div.sk-parallel-item::after {content: \"\";width: 100%;border-bottom: 1px solid gray;flex-grow: 1;}#sk-container-id-1 div.sk-label:hover label.sk-toggleable__label {background-color: #d4ebff;}#sk-container-id-1 div.sk-serial::before {content: \"\";position: absolute;border-left: 1px solid gray;box-sizing: border-box;top: 0;bottom: 0;left: 50%;z-index: 0;}#sk-container-id-1 div.sk-serial {display: flex;flex-direction: column;align-items: center;background-color: white;padding-right: 0.2em;padding-left: 0.2em;position: relative;}#sk-container-id-1 div.sk-item {position: relative;z-index: 1;}#sk-container-id-1 div.sk-parallel {display: flex;align-items: stretch;justify-content: center;background-color: white;position: relative;}#sk-container-id-1 div.sk-item::before, #sk-container-id-1 div.sk-parallel-item::before {content: \"\";position: absolute;border-left: 1px solid gray;box-sizing: border-box;top: 0;bottom: 0;left: 50%;z-index: -1;}#sk-container-id-1 div.sk-parallel-item {display: flex;flex-direction: column;z-index: 1;position: relative;background-color: white;}#sk-container-id-1 div.sk-parallel-item:first-child::after {align-self: flex-end;width: 50%;}#sk-container-id-1 div.sk-parallel-item:last-child::after {align-self: flex-start;width: 50%;}#sk-container-id-1 div.sk-parallel-item:only-child::after {width: 0;}#sk-container-id-1 div.sk-dashed-wrapped {border: 1px dashed gray;margin: 0 0.4em 0.5em 0.4em;box-sizing: border-box;padding-bottom: 0.4em;background-color: white;}#sk-container-id-1 div.sk-label label {font-family: monospace;font-weight: bold;display: inline-block;line-height: 1.2em;}#sk-container-id-1 div.sk-label-container {text-align: center;}#sk-container-id-1 div.sk-container {/* jupyter's `normalize.less` sets `[hidden] { display: none; }` but bootstrap.min.css set `[hidden] { display: none !important; }` so we also need the `!important` here to be able to override the default hidden behavior on the sphinx rendered scikit-learn.org. See: https://github.com/scikit-learn/scikit-learn/issues/21755 */display: inline-block !important;position: relative;}#sk-container-id-1 div.sk-text-repr-fallback {display: none;}</style><div id=\"sk-container-id-1\" class=\"sk-top-container\"><div class=\"sk-text-repr-fallback\"><pre>LinearRegression()</pre><b>In a Jupyter environment, please rerun this cell to show the HTML representation or trust the notebook. <br />On GitHub, the HTML representation is unable to render, please try loading this page with nbviewer.org.</b></div><div class=\"sk-container\" hidden><div class=\"sk-item\"><div class=\"sk-estimator sk-toggleable\"><input class=\"sk-toggleable__control sk-hidden--visually\" id=\"sk-estimator-id-1\" type=\"checkbox\" checked><label for=\"sk-estimator-id-1\" class=\"sk-toggleable__label sk-toggleable__label-arrow\">LinearRegression</label><div class=\"sk-toggleable__content\"><pre>LinearRegression()</pre></div></div></div></div></div>"
      ],
      "text/plain": [
       "LinearRegression()"
      ]
     },
     "execution_count": 33,
     "metadata": {},
     "output_type": "execute_result"
    }
   ],
   "source": [
    "# Import necessary packages\n",
    "from sklearn.linear_model import LinearRegression\n",
    "from sklearn.model_selection import train_test_split\n",
    "\n",
    "# One hot encoding for categorical values\n",
    "df_dummy = pd.get_dummies(df, drop_first = True)\n",
    "\n",
    "# Create linear regression model\n",
    "model = LinearRegression()\n",
    "\n",
    "# Dependent and independent variables (and values)\n",
    "X = df_dummy.drop(['enrollment_count'], axis = 1).values\n",
    "y = df_dummy['enrollment_count'].values\n",
    "\n",
    "# Split into training and test data\n",
    "X_train, X_test, y_train, y_test = train_test_split(X, y, test_size=0.2, random_state=42)\n",
    "\n",
    "# Fit to model\n",
    "model.fit(X_train, y_train)"
   ]
  },
  {
   "cell_type": "markdown",
   "id": "b7f0dcc4-98c7-43fe-8ee2-629aac60c421",
   "metadata": {},
   "source": [
    "## Task 7\n",
    "For a comparison model, we shall implement an Elastic Net model using the scikit-learn library. We choose the hyperparameter `alpha` to be equal to `0.0001`."
   ]
  },
  {
   "cell_type": "code",
   "execution_count": 142,
   "id": "3d5953c8-9f51-426c-a597-b41bd742e4d1",
   "metadata": {
    "executionCancelledAt": null,
    "executionTime": 47,
    "lastExecutedAt": 1693649914508,
    "lastScheduledRunId": null,
    "lastSuccessfullyExecutedCode": "# Import necessary packages\nfrom sklearn.linear_model import ElasticNet\n\n# Create elastic net model\ncomp_model = ElasticNet(alpha = 0.0001)\n\n# Fit to model\ncomp_model.fit(X_train, y_train)"
   },
   "outputs": [
    {
     "data": {
      "text/html": [
       "<style>#sk-container-id-23 {color: black;background-color: white;}#sk-container-id-23 pre{padding: 0;}#sk-container-id-23 div.sk-toggleable {background-color: white;}#sk-container-id-23 label.sk-toggleable__label {cursor: pointer;display: block;width: 100%;margin-bottom: 0;padding: 0.3em;box-sizing: border-box;text-align: center;}#sk-container-id-23 label.sk-toggleable__label-arrow:before {content: \"▸\";float: left;margin-right: 0.25em;color: #696969;}#sk-container-id-23 label.sk-toggleable__label-arrow:hover:before {color: black;}#sk-container-id-23 div.sk-estimator:hover label.sk-toggleable__label-arrow:before {color: black;}#sk-container-id-23 div.sk-toggleable__content {max-height: 0;max-width: 0;overflow: hidden;text-align: left;background-color: #f0f8ff;}#sk-container-id-23 div.sk-toggleable__content pre {margin: 0.2em;color: black;border-radius: 0.25em;background-color: #f0f8ff;}#sk-container-id-23 input.sk-toggleable__control:checked~div.sk-toggleable__content {max-height: 200px;max-width: 100%;overflow: auto;}#sk-container-id-23 input.sk-toggleable__control:checked~label.sk-toggleable__label-arrow:before {content: \"▾\";}#sk-container-id-23 div.sk-estimator input.sk-toggleable__control:checked~label.sk-toggleable__label {background-color: #d4ebff;}#sk-container-id-23 div.sk-label input.sk-toggleable__control:checked~label.sk-toggleable__label {background-color: #d4ebff;}#sk-container-id-23 input.sk-hidden--visually {border: 0;clip: rect(1px 1px 1px 1px);clip: rect(1px, 1px, 1px, 1px);height: 1px;margin: -1px;overflow: hidden;padding: 0;position: absolute;width: 1px;}#sk-container-id-23 div.sk-estimator {font-family: monospace;background-color: #f0f8ff;border: 1px dotted black;border-radius: 0.25em;box-sizing: border-box;margin-bottom: 0.5em;}#sk-container-id-23 div.sk-estimator:hover {background-color: #d4ebff;}#sk-container-id-23 div.sk-parallel-item::after {content: \"\";width: 100%;border-bottom: 1px solid gray;flex-grow: 1;}#sk-container-id-23 div.sk-label:hover label.sk-toggleable__label {background-color: #d4ebff;}#sk-container-id-23 div.sk-serial::before {content: \"\";position: absolute;border-left: 1px solid gray;box-sizing: border-box;top: 0;bottom: 0;left: 50%;z-index: 0;}#sk-container-id-23 div.sk-serial {display: flex;flex-direction: column;align-items: center;background-color: white;padding-right: 0.2em;padding-left: 0.2em;position: relative;}#sk-container-id-23 div.sk-item {position: relative;z-index: 1;}#sk-container-id-23 div.sk-parallel {display: flex;align-items: stretch;justify-content: center;background-color: white;position: relative;}#sk-container-id-23 div.sk-item::before, #sk-container-id-23 div.sk-parallel-item::before {content: \"\";position: absolute;border-left: 1px solid gray;box-sizing: border-box;top: 0;bottom: 0;left: 50%;z-index: -1;}#sk-container-id-23 div.sk-parallel-item {display: flex;flex-direction: column;z-index: 1;position: relative;background-color: white;}#sk-container-id-23 div.sk-parallel-item:first-child::after {align-self: flex-end;width: 50%;}#sk-container-id-23 div.sk-parallel-item:last-child::after {align-self: flex-start;width: 50%;}#sk-container-id-23 div.sk-parallel-item:only-child::after {width: 0;}#sk-container-id-23 div.sk-dashed-wrapped {border: 1px dashed gray;margin: 0 0.4em 0.5em 0.4em;box-sizing: border-box;padding-bottom: 0.4em;background-color: white;}#sk-container-id-23 div.sk-label label {font-family: monospace;font-weight: bold;display: inline-block;line-height: 1.2em;}#sk-container-id-23 div.sk-label-container {text-align: center;}#sk-container-id-23 div.sk-container {/* jupyter's `normalize.less` sets `[hidden] { display: none; }` but bootstrap.min.css set `[hidden] { display: none !important; }` so we also need the `!important` here to be able to override the default hidden behavior on the sphinx rendered scikit-learn.org. See: https://github.com/scikit-learn/scikit-learn/issues/21755 */display: inline-block !important;position: relative;}#sk-container-id-23 div.sk-text-repr-fallback {display: none;}</style><div id=\"sk-container-id-23\" class=\"sk-top-container\"><div class=\"sk-text-repr-fallback\"><pre>ElasticNet(alpha=0.0001)</pre><b>In a Jupyter environment, please rerun this cell to show the HTML representation or trust the notebook. <br />On GitHub, the HTML representation is unable to render, please try loading this page with nbviewer.org.</b></div><div class=\"sk-container\" hidden><div class=\"sk-item\"><div class=\"sk-estimator sk-toggleable\"><input class=\"sk-toggleable__control sk-hidden--visually\" id=\"sk-estimator-id-23\" type=\"checkbox\" checked><label for=\"sk-estimator-id-23\" class=\"sk-toggleable__label sk-toggleable__label-arrow\">ElasticNet</label><div class=\"sk-toggleable__content\"><pre>ElasticNet(alpha=0.0001)</pre></div></div></div></div></div>"
      ],
      "text/plain": [
       "ElasticNet(alpha=0.0001)"
      ]
     },
     "execution_count": 142,
     "metadata": {},
     "output_type": "execute_result"
    }
   ],
   "source": [
    "# Import necessary packages\n",
    "from sklearn.linear_model import ElasticNet\n",
    "\n",
    "# Create elastic net model\n",
    "comp_model = ElasticNet(alpha = 0.0001)\n",
    "\n",
    "# Fit to model\n",
    "comp_model.fit(X_train, y_train)"
   ]
  },
  {
   "cell_type": "markdown",
   "id": "5cec4b2d-86fd-4ce3-9f9c-e9ab2ec0e436",
   "metadata": {},
   "source": [
    "## Task 8\n",
    "Linear regression provides a linear estimate of the relationship between the independent and the dependent variables. Due to its simplicity and efficiency in computing, we considered it as a baseline model. Moreover, the model is robust to overfitting. The loss function for the linear regression model is the ordinary least squares. In elastic net models, a loss function that puts more weight on errors is utilized. Although more complex and requires more tuning, an elastic net model is less prone to overfitting and able to select important features and handle correlated features."
   ]
  },
  {
   "cell_type": "markdown",
   "id": "84fc2a09-ea39-4a6f-85b2-5d17957e1ac5",
   "metadata": {},
   "source": [
    "## Task 9\n",
    "We compare the root mean squared errors (RMSE) of the two models."
   ]
  },
  {
   "cell_type": "code",
   "execution_count": 143,
   "id": "246f2368-09ae-4cac-bdb5-7daacb0b2faf",
   "metadata": {
    "executionCancelledAt": null,
    "executionTime": 137,
    "lastExecutedAt": 1693649914645,
    "lastScheduledRunId": null,
    "lastSuccessfullyExecutedCode": "# Import necessary packages \nfrom sklearn.metrics import mean_squared_error as MSE\n\n# Predictions\ny_pred = model.predict(X_test) # Baseline\ny_pred_comp = comp_model.predict(X_test) # Comparison\n\n# Compute RMSE\nrmse = MSE(y_test, y_pred, squared=False) ** 0.5\nrmse_comp = MSE(y_test, y_pred_comp, squared=False) ** 0.5\n\n# Print errors\nprint(f'The Root Mean Squared Error for the Baseline Model is {rmse}')\nprint(f'The Root Mean Squared Error for the Comparison Model is {rmse_comp}')",
    "outputsMetadata": {
     "0": {
      "height": 56,
      "type": "stream"
     }
    }
   },
   "outputs": [
    {
     "name": "stdout",
     "output_type": "stream",
     "text": [
      "The Root Mean Squared Error for the Baseline Model is 0.561153419986678\n",
      "The Root Mean Squared Error for the Comparison Model is 0.5600931357111498\n"
     ]
    }
   ],
   "source": [
    "# Import necessary packages \n",
    "from sklearn.metrics import mean_squared_error as MSE\n",
    "\n",
    "# Predictions\n",
    "y_pred = model.predict(X_test) # Baseline\n",
    "y_pred_comp = comp_model.predict(X_test) # Comparison\n",
    "\n",
    "# Compute RMSE\n",
    "rmse = MSE(y_test, y_pred, squared=False) ** 0.5\n",
    "rmse_comp = MSE(y_test, y_pred_comp, squared=False) ** 0.5\n",
    "\n",
    "# Print errors\n",
    "print(f'The Root Mean Squared Error for the Baseline Model is {rmse}')\n",
    "print(f'The Root Mean Squared Error for the Comparison Model is {rmse_comp}')"
   ]
  },
  {
   "cell_type": "markdown",
   "id": "feb9e1eb-8913-43b8-a280-a369cf10631e",
   "metadata": {},
   "source": [
    "## Task 10\n",
    "The RMSE scores are equal up to the second decimal place. Thus, we conclude that the two models perform equally the same."
   ]
  },
  {
   "cell_type": "code",
   "execution_count": 36,
   "id": "cc703a19-c017-461e-b3b9-9840ce72cd28",
   "metadata": {},
   "outputs": [
    {
     "name": "stdout",
     "output_type": "stream",
     "text": [
      "                                                                                                                       \n",
      "Generation 1 - Current best internal CV score: -0.10960888510177771\n",
      "                                                                                                                       \n",
      "Generation 2 - Current best internal CV score: -0.10955987682026971\n",
      "                                                                                                                       \n",
      "Generation 3 - Current best internal CV score: -0.10955987682026971\n",
      "                                                                                                                       \n",
      "Generation 4 - Current best internal CV score: -0.10955987682026971\n",
      "                                                                                                                       \n",
      "Generation 5 - Current best internal CV score: -0.10955987682026971\n",
      "                                                                                                                       \n",
      "Generation 6 - Current best internal CV score: -0.1092417654512021\n",
      "                                                                                                                       \n",
      "Generation 7 - Current best internal CV score: -0.1092417654512021\n",
      "                                                                                                                       \n",
      "Generation 8 - Current best internal CV score: -0.1092417654512021\n",
      "                                                                                                                       \n",
      "Generation 9 - Current best internal CV score: -0.1092417654512021\n",
      "                                                                                                                       \n",
      "Generation 10 - Current best internal CV score: -0.1092417654512021\n",
      "                                                                                                                       \n",
      "Generation 11 - Current best internal CV score: -0.1092417654512021\n",
      "                                                                                                                       \n",
      "Generation 12 - Current best internal CV score: -0.1092417654512021\n",
      "                                                                                                                       \n",
      "Generation 13 - Current best internal CV score: -0.1092417654512021\n",
      "                                                                                                                       \n",
      "Generation 14 - Current best internal CV score: -0.1092417654512021\n",
      "                                                                                                                       \n",
      "Generation 15 - Current best internal CV score: -0.1092417654512021\n",
      "                                                                                                                       \n",
      "Generation 16 - Current best internal CV score: -0.1092417654512015\n",
      "                                                                                                                       \n",
      "Generation 17 - Current best internal CV score: -0.1092417654512015\n",
      "                                                                                                                       \n",
      "Generation 18 - Current best internal CV score: -0.1092417654512015\n",
      "                                                                                                                       \n",
      "Generation 19 - Current best internal CV score: -0.10914746414587295\n",
      "                                                                                                                       \n",
      "Generation 20 - Current best internal CV score: -0.10914746414587295\n",
      "                                                                                                                       \n",
      "Generation 21 - Current best internal CV score: -0.10896167866236244\n",
      "                                                                                                                       \n",
      "Generation 22 - Current best internal CV score: -0.10896167866236244\n",
      "                                                                                                                       \n",
      "Generation 23 - Current best internal CV score: -0.10896167866236244\n",
      "                                                                                                                       \n",
      "Generation 24 - Current best internal CV score: -0.10896167866236244\n",
      "                                                                                                                       \n",
      "Generation 25 - Current best internal CV score: -0.10896167866236244\n",
      "                                                                                                                       \n",
      "Generation 26 - Current best internal CV score: -0.10896167866236244\n",
      "                                                                                                                       \n",
      "Generation 27 - Current best internal CV score: -0.10896167866236244\n",
      "                                                                                                                       \n",
      "Generation 28 - Current best internal CV score: -0.10896167866236244\n",
      "                                                                                                                       \n",
      "Generation 29 - Current best internal CV score: -0.10896167866236244\n",
      "                                                                                                                       \n",
      "Generation 30 - Current best internal CV score: -0.10896167866236164\n",
      "                                                                                                                       \n",
      "Generation 31 - Current best internal CV score: -0.10896167866236164\n",
      "                                                                                                                       \n",
      "Generation 32 - Current best internal CV score: -0.10896167866236164\n",
      "                                                                                                                       \n",
      "Generation 33 - Current best internal CV score: -0.10896167866236164\n",
      "                                                                                                                       \n",
      "Generation 34 - Current best internal CV score: -0.10896167866236164\n",
      "                                                                                                                       \n",
      "Generation 35 - Current best internal CV score: -0.10896167866236164\n",
      "                                                                                                                       \n",
      "Generation 36 - Current best internal CV score: -0.10896167866236164\n",
      "                                                                                                                       \n",
      "Generation 37 - Current best internal CV score: -0.10896167866236164\n",
      "                                                                                                                       \n",
      "Generation 38 - Current best internal CV score: -0.10896167866236164\n",
      "                                                                                                                       \n",
      "Generation 39 - Current best internal CV score: -0.10896167866236164\n",
      "                                                                                                                       \n",
      "Generation 40 - Current best internal CV score: -0.10896167866236137\n",
      "                                                                                                                       \n",
      "Generation 41 - Current best internal CV score: -0.10896167866236137\n",
      "                                                                                                                       \n",
      "Generation 42 - Current best internal CV score: -0.10896167866236137\n",
      "                                                                                                                       \n",
      "Generation 43 - Current best internal CV score: -0.10896167866236137\n",
      "                                                                                                                       \n",
      "Generation 44 - Current best internal CV score: -0.10896167866236137\n",
      "                                                                                                                       \n",
      "Generation 45 - Current best internal CV score: -0.10896167866236137\n",
      "                                                                                                                       \n",
      "Generation 46 - Current best internal CV score: -0.10896167866236137\n",
      "                                                                                                                       \n",
      "Generation 47 - Current best internal CV score: -0.10896167866236137\n",
      "                                                                                                                       \n",
      "Generation 48 - Current best internal CV score: -0.10896167866236137\n",
      "                                                                                                                       \n",
      "Generation 49 - Current best internal CV score: -0.10896167866236137\n",
      "                                                                                                                       \n",
      "Generation 50 - Current best internal CV score: -0.10896167866236137\n",
      "                                                                                                                       \n",
      "Generation 51 - Current best internal CV score: -0.10896167866236137\n",
      "                                                                                                                       \n",
      "Generation 52 - Current best internal CV score: -0.10896167866236137\n",
      "                                                                                                                       \n",
      "Generation 53 - Current best internal CV score: -0.10896167866236137\n",
      "                                                                                                                       \n",
      "Generation 54 - Current best internal CV score: -0.10896167866236137\n",
      "                                                                                                                       \n",
      "Generation 55 - Current best internal CV score: -0.10896167866236137\n",
      "                                                                                                                       \n",
      "Generation 56 - Current best internal CV score: -0.10896167866236137\n",
      "                                                                                                                       \n",
      "Generation 57 - Current best internal CV score: -0.10896167866236137\n",
      "                                                                                                                       \n",
      "Generation 58 - Current best internal CV score: -0.10896167866236137\n",
      "                                                                                                                       \n",
      "Generation 59 - Current best internal CV score: -0.10896167866236137\n",
      "                                                                                                                       \n",
      "Generation 60 - Current best internal CV score: -0.10896167866236137\n",
      "                                                                                                                       \n",
      "Generation 61 - Current best internal CV score: -0.10896167866236137\n",
      "                                                                                                                       \n",
      "Generation 62 - Current best internal CV score: -0.10896167866236137\n",
      "                                                                                                                       \n",
      "Generation 63 - Current best internal CV score: -0.10896167866236137\n",
      "                                                                                                                       \n",
      "Generation 64 - Current best internal CV score: -0.10896167866236137\n",
      "                                                                                                                       \n",
      "Generation 65 - Current best internal CV score: -0.10896167866236137\n",
      "                                                                                                                       \n",
      "Generation 66 - Current best internal CV score: -0.10896167866236137\n",
      "                                                                                                                       \n",
      "Generation 67 - Current best internal CV score: -0.10896167866236137\n",
      "                                                                                                                       \n",
      "Generation 68 - Current best internal CV score: -0.10896167866236137\n",
      "                                                                                                                       \n",
      "Generation 69 - Current best internal CV score: -0.10896167866236137\n",
      "                                                                                                                       \n",
      "Generation 70 - Current best internal CV score: -0.10896167866236137\n",
      "                                                                                                                       \n",
      "Generation 71 - Current best internal CV score: -0.10896167866236137\n",
      "                                                                                                                       \n",
      "Generation 72 - Current best internal CV score: -0.10896167866236137\n",
      "                                                                                                                       \n",
      "Generation 73 - Current best internal CV score: -0.10896167866236137\n",
      "                                                                                                                       \n",
      "Generation 74 - Current best internal CV score: -0.10896167866236137\n",
      "                                                                                                                       \n",
      "Generation 75 - Current best internal CV score: -0.10896167866236137\n",
      "                                                                                                                       \n",
      "Generation 76 - Current best internal CV score: -0.10896167866236137\n",
      "                                                                                                                       \n",
      "Generation 77 - Current best internal CV score: -0.10896167866236137\n",
      "                                                                                                                       \n",
      "Generation 78 - Current best internal CV score: -0.10896167866236137\n",
      "                                                                                                                       \n",
      "Generation 79 - Current best internal CV score: -0.10896167866236137\n",
      "                                                                                                                       \n",
      "Generation 80 - Current best internal CV score: -0.10896167866236137\n",
      "                                                                                                                       \n",
      "Generation 81 - Current best internal CV score: -0.10896167866236137\n",
      "                                                                                                                       \n",
      "Generation 82 - Current best internal CV score: -0.10896167866236137\n",
      "                                                                                                                       \n",
      "Generation 83 - Current best internal CV score: -0.10896167866236137\n",
      "                                                                                                                       \n",
      "Generation 84 - Current best internal CV score: -0.10896167866236137\n",
      "                                                                                                                       \n",
      "Generation 85 - Current best internal CV score: -0.10896167866236137\n",
      "                                                                                                                       \n",
      "Generation 86 - Current best internal CV score: -0.10896167866236137\n",
      "                                                                                                                       \n",
      "Generation 87 - Current best internal CV score: -0.10896167866236137\n",
      "                                                                                                                       \n",
      "Generation 88 - Current best internal CV score: -0.10896167866236137\n",
      "                                                                                                                       \n",
      "Generation 89 - Current best internal CV score: -0.10896167866236137\n",
      "                                                                                                                       \n",
      "Generation 90 - Current best internal CV score: -0.10896167866236137\n",
      "                                                                                                                       \n",
      "Generation 91 - Current best internal CV score: -0.10896167866236137\n",
      "                                                                                                                       \n",
      "Generation 92 - Current best internal CV score: -0.10896167866236131\n",
      "                                                                                                                       \n",
      "Generation 93 - Current best internal CV score: -0.10896167866236131\n",
      "                                                                                                                       \n",
      "Generation 94 - Current best internal CV score: -0.10896167866236131\n",
      "                                                                                                                       \n",
      "Generation 95 - Current best internal CV score: -0.10896167866236131\n",
      "                                                                                                                       \n",
      "Generation 96 - Current best internal CV score: -0.10896167866236131\n",
      "                                                                                                                       \n",
      "Generation 97 - Current best internal CV score: -0.10896167866236131\n",
      "                                                                                                                       \n",
      "Generation 98 - Current best internal CV score: -0.10896167866236131\n",
      "                                                                                                                       \n",
      "Generation 99 - Current best internal CV score: -0.10896167866236131\n",
      "                                                                                                                       \n",
      "Generation 100 - Current best internal CV score: -0.10896167866236131\n",
      "                                                                                                                       \n",
      "Best pipeline: LassoLarsCV(MaxAbsScaler(RobustScaler(Binarizer(StandardScaler(SelectPercentile(input_matrix, percentile=84)), threshold=0.55))), normalize=False)\n",
      "-0.09969720885780325\n"
     ]
    }
   ],
   "source": [
    "# Import AutoML packages\n",
    "from tpot import TPOTRegressor\n",
    "\n",
    "# Find model\n",
    "tpot = TPOTRegressor(generations=100, population_size=100, cv = 10, verbosity=2, random_state=42)\n",
    "tpot.fit(X_train, y_train)\n",
    "print(tpot.score(X_test, y_test))\n",
    "tpot.export('enrollment_pipeline.py')"
   ]
  },
  {
   "cell_type": "code",
   "execution_count": null,
   "id": "fb8b804c-f2ab-41d0-82ea-192431e8550f",
   "metadata": {},
   "outputs": [],
   "source": []
  }
 ],
 "metadata": {
  "colab": {
   "name": "Welcome to DataCamp Workspaces.ipynb",
   "provenance": []
  },
  "kernelspec": {
   "display_name": "Python 3 (ipykernel)",
   "language": "python",
   "name": "python3"
  },
  "language_info": {
   "codemirror_mode": {
    "name": "ipython",
    "version": 3
   },
   "file_extension": ".py",
   "mimetype": "text/x-python",
   "name": "python",
   "nbconvert_exporter": "python",
   "pygments_lexer": "ipython3",
   "version": "3.11.2"
  }
 },
 "nbformat": 4,
 "nbformat_minor": 5
}
